{
 "cells": [
  {
   "cell_type": "markdown",
   "id": "f41820b6-4b45-4f3f-94e3-0c4f3cbeb37d",
   "metadata": {},
   "source": [
    "# Clases  Recapitulación"
   ]
  },
  {
   "cell_type": "code",
   "execution_count": 4,
   "id": "0126b4c0-765b-48e5-929e-10dbcaf6f2f9",
   "metadata": {},
   "outputs": [
    {
     "data": {
      "text/plain": [
       "True"
      ]
     },
     "execution_count": 4,
     "metadata": {},
     "output_type": "execute_result"
    }
   ],
   "source": [
    "from os import environ,chdir\n",
    "from dotenv import load_dotenv, find_dotenv\n",
    "chdir(\"../..\")\n",
    "load_dotenv('conf/.local')"
   ]
  },
  {
   "cell_type": "code",
   "execution_count": 3,
   "id": "daefda94-f9b0-46e9-b618-4f25b24a11f9",
   "metadata": {},
   "outputs": [],
   "source": [
    "# Definición de la clase Alumno\n",
    "class Alumno:\n",
    "    def __init__(self, nombre, edad, calificacion):\n",
    "        \"\"\"\n",
    "        Crea un objeto Alumno con la información proporcionada.\n",
    "        \n",
    "        :param nombre: Nombre del alumno.\n",
    "        :param edad: Edad del alumno.\n",
    "        :param calificacion: Nota del alumno.\n",
    "        \"\"\"\n",
    "        self.nombre = nombre\n",
    "        self.edad = edad\n",
    "        self.calificacion = calificacion\n",
    "        self.genero = 'Masculino'\n",
    "        \n",
    "    def imprime(self):\n",
    "        print(\"Nombre: \", self.nombre)\n",
    "        print(\"Edad: \", self.edad)\n",
    "        print(\"Calificación: \", self.calificacion)\n",
    "\n",
    "    def updated(self,nombre, edad, calificacion):\n",
    "        self.nombre = nombre\n",
    "        self.edad = edad\n",
    "        self.calificacion = calificacion"
   ]
  },
  {
   "cell_type": "markdown",
   "id": "a1b1ad2c-f881-4e33-a513-e2321fe00366",
   "metadata": {},
   "source": [
    "Instanciamos de objeto de la clase alumno"
   ]
  },
  {
   "cell_type": "code",
   "execution_count": 113,
   "id": "17cf39d3-fdb1-40a4-aed3-148bd36e7ff6",
   "metadata": {},
   "outputs": [],
   "source": [
    "alumno_alex = Alumno(\"Alex\", 34, 90)\n",
    "alumno_omar = Alumno(\"omar\", 40, 60)"
   ]
  },
  {
   "cell_type": "markdown",
   "id": "e8e0586a-3eac-4753-984a-d8b06451b829",
   "metadata": {},
   "source": [
    "LLamamos al método imprime para la instancias `alumno_alex`"
   ]
  },
  {
   "cell_type": "code",
   "execution_count": 114,
   "id": "bda5503b-876a-459f-b11a-ce0274c2dc82",
   "metadata": {},
   "outputs": [
    {
     "name": "stdout",
     "output_type": "stream",
     "text": [
      "Nombre:  Alex\n",
      "Edad:  34\n",
      "Calificación:  90\n"
     ]
    }
   ],
   "source": [
    "alumno_alex.imprime()"
   ]
  },
  {
   "cell_type": "markdown",
   "id": "8fee2cfc-2a6b-4c5c-96ef-931c4e96ae53",
   "metadata": {},
   "source": [
    "LLamamos al método imprime para la instancias `alumno_omar`"
   ]
  },
  {
   "cell_type": "code",
   "execution_count": 115,
   "id": "f2c7a4ab-465e-43b7-b3a0-e4e106eece2f",
   "metadata": {},
   "outputs": [
    {
     "name": "stdout",
     "output_type": "stream",
     "text": [
      "Nombre:  omar\n",
      "Edad:  40\n",
      "Calificación:  60\n"
     ]
    }
   ],
   "source": [
    "alumno_omar.imprime()"
   ]
  },
  {
   "cell_type": "markdown",
   "id": "0fc15979-ffac-4168-a41a-e9a6e0928f04",
   "metadata": {},
   "source": [
    "llamamos al métodos `updated`"
   ]
  },
  {
   "cell_type": "code",
   "execution_count": 116,
   "id": "bb91cd36-bdb6-472b-8482-53835aa86338",
   "metadata": {},
   "outputs": [],
   "source": [
    "alumno_omar.updated(\"omar\", 55, 10)"
   ]
  },
  {
   "cell_type": "markdown",
   "id": "28a71eb0-8294-4dca-87bb-b87ad870122f",
   "metadata": {},
   "source": [
    "volvemos a imprimir el contenido de las variables"
   ]
  },
  {
   "cell_type": "code",
   "execution_count": 117,
   "id": "7d204528-2a30-48b1-ae11-3c02932c7ef9",
   "metadata": {},
   "outputs": [
    {
     "name": "stdout",
     "output_type": "stream",
     "text": [
      "Nombre:  omar\n",
      "Edad:  55\n",
      "Calificación:  10\n"
     ]
    }
   ],
   "source": [
    "alumno_omar.imprime()"
   ]
  },
  {
   "cell_type": "markdown",
   "id": "3dc26cda-68af-44ed-a62b-4b1787205bbd",
   "metadata": {},
   "source": [
    "Creamos una lista con instancias de tipo `Alumno` y la iteramos para visualizar la información"
   ]
  },
  {
   "cell_type": "code",
   "execution_count": 119,
   "id": "89a23b07-b15a-4fec-b9b6-4700b79b4325",
   "metadata": {},
   "outputs": [
    {
     "name": "stdout",
     "output_type": "stream",
     "text": [
      "Nombre:  omar\n",
      "Edad:  55\n",
      "Calificación:  10\n",
      "********************\n",
      "Nombre:  Alex\n",
      "Edad:  34\n",
      "Calificación:  90\n",
      "********************\n"
     ]
    }
   ],
   "source": [
    "lista_alumnos = [alumno_omar,alumno_alex]\n",
    "\n",
    "for alumno in lista_alumnos:\n",
    "    alumno.imprime()\n",
    "    print(\"*\"*20)"
   ]
  },
  {
   "cell_type": "markdown",
   "id": "71ebd1cd-6684-4a97-9241-059662a2328f",
   "metadata": {},
   "source": [
    "# Agenda de hoy "
   ]
  },
  {
   "cell_type": "markdown",
   "id": "93a0c8a6-c5b2-44b3-a510-bbd575203eb5",
   "metadata": {},
   "source": [
    "- Numpy *\n",
    "- Pandas\n",
    "- Dataframe \n",
    "- Métodos más comunes de un DataFrane\n",
    "- Revisar el proyecto del modulo 1"
   ]
  },
  {
   "cell_type": "markdown",
   "id": "dfe95d56-45c5-4344-baee-6ee3ae541183",
   "metadata": {},
   "source": [
    "# Importar módulos y bibliotecas\n",
    "\n",
    "* ¿Cuál es el proceso para importar una librería?\n",
    "* ¿Cómo se puede acceder a las funciones de una librería?\n",
    "* Las librerías se pueden nombrar de la forma que se desee?\n"
   ]
  },
  {
   "cell_type": "code",
   "execution_count": 6,
   "id": "fa2540b5-37e8-4eda-8e5f-3e0f46ceed66",
   "metadata": {},
   "outputs": [],
   "source": [
    "# importar todo el módulo pandas\n",
    "import pandas as pd\n",
    "# importar sólo la clase  que se utiliza\n",
    "from pandas import read_csv"
   ]
  },
  {
   "cell_type": "markdown",
   "id": "9606a987-500c-48dc-b279-461da58056e4",
   "metadata": {},
   "source": [
    " ejemplo de como llamar al método `read_csv`"
   ]
  },
  {
   "cell_type": "code",
   "execution_count": 10,
   "id": "cfe1e15b-0e25-4da2-84b3-0591e93b91b0",
   "metadata": {},
   "outputs": [
    {
     "name": "stdout",
     "output_type": "stream",
     "text": [
      "\u001b[34mconf\u001b[m\u001b[m/      \u001b[34mdata\u001b[m\u001b[m/      \u001b[34mimages\u001b[m\u001b[m/    \u001b[34mnotebooks\u001b[m\u001b[m/ \u001b[34mscripts\u001b[m\u001b[m/   \u001b[34msliders\u001b[m\u001b[m/   \u001b[34mutils\u001b[m\u001b[m/\n"
     ]
    }
   ],
   "source": [
    "ls"
   ]
  },
  {
   "cell_type": "code",
   "execution_count": 12,
   "id": "93ae9505-f977-4827-8c9e-04e2729341dc",
   "metadata": {},
   "outputs": [],
   "source": [
    "# Llamada utilizando pd\n",
    "df_1 = pd.read_csv(\"data/dataset_1.txt\")\n",
    "\n",
    "# Llamada utilizando directamente read_csv\n",
    "df_2 = read_csv(\"data/dataset_1.txt\")"
   ]
  },
  {
   "cell_type": "markdown",
   "id": "124aab61-893f-4d9a-9534-f5427bcb7e84",
   "metadata": {},
   "source": [
    "# Función apply() para una columna "
   ]
  },
  {
   "cell_type": "code",
   "execution_count": 101,
   "id": "293b6203-6043-497c-9ef1-a693fe01069e",
   "metadata": {},
   "outputs": [],
   "source": [
    "def cuadrado(x):\n",
    "    return x**2\n",
    "\n",
    "df_1[\"cuadrado\"] = df_1[\"Edad\"].apply(cuadrado)"
   ]
  },
  {
   "cell_type": "markdown",
   "id": "a32f87cd-7cbb-434f-aedd-653cd14cc2a9",
   "metadata": {},
   "source": [
    "# Funcuión apply() para multiples columnas "
   ]
  },
  {
   "cell_type": "code",
   "execution_count": 93,
   "id": "5d5af1bb-eb32-4342-86a3-a9cb6c0a0ad7",
   "metadata": {},
   "outputs": [],
   "source": [
    "def concatenar_columnas(row):\n",
    "    return row[\" Nombre\"] + \"_\" + row[\"Ciudad\"]\n",
    "\n",
    "df_1[\"Code_3\"] = df_1.apply(concatenar_columnas,axis=1)"
   ]
  },
  {
   "cell_type": "code",
   "execution_count": 123,
   "id": "7643e5e0-1342-4455-aa1f-b3a4fc72a024",
   "metadata": {},
   "outputs": [
    {
     "data": {
      "text/html": [
       "<div>\n",
       "<style scoped>\n",
       "    .dataframe tbody tr th:only-of-type {\n",
       "        vertical-align: middle;\n",
       "    }\n",
       "\n",
       "    .dataframe tbody tr th {\n",
       "        vertical-align: top;\n",
       "    }\n",
       "\n",
       "    .dataframe thead th {\n",
       "        text-align: right;\n",
       "    }\n",
       "</style>\n",
       "<table border=\"1\" class=\"dataframe\">\n",
       "  <thead>\n",
       "    <tr style=\"text-align: right;\">\n",
       "      <th></th>\n",
       "      <th>Nombre</th>\n",
       "      <th>Edad</th>\n",
       "      <th>Ciudad</th>\n",
       "      <th>Género</th>\n",
       "      <th>cuadrado</th>\n",
       "      <th>Code_3</th>\n",
       "    </tr>\n",
       "  </thead>\n",
       "  <tbody>\n",
       "    <tr>\n",
       "      <th>0</th>\n",
       "      <td>Ana</td>\n",
       "      <td>25</td>\n",
       "      <td>México</td>\n",
       "      <td>Femenino</td>\n",
       "      <td>625</td>\n",
       "      <td>Ana_México</td>\n",
       "    </tr>\n",
       "    <tr>\n",
       "      <th>1</th>\n",
       "      <td>Juan</td>\n",
       "      <td>30</td>\n",
       "      <td>Madrid</td>\n",
       "      <td>Masculino</td>\n",
       "      <td>900</td>\n",
       "      <td>Juan_Madrid</td>\n",
       "    </tr>\n",
       "    <tr>\n",
       "      <th>2</th>\n",
       "      <td>María</td>\n",
       "      <td>28</td>\n",
       "      <td>Buenos Aires</td>\n",
       "      <td>Femenino</td>\n",
       "      <td>784</td>\n",
       "      <td>María_Buenos Aires</td>\n",
       "    </tr>\n",
       "    <tr>\n",
       "      <th>3</th>\n",
       "      <td>Luis</td>\n",
       "      <td>22</td>\n",
       "      <td>Lima</td>\n",
       "      <td>Masculino</td>\n",
       "      <td>484</td>\n",
       "      <td>Luis_Lima</td>\n",
       "    </tr>\n",
       "    <tr>\n",
       "      <th>4</th>\n",
       "      <td>Elena</td>\n",
       "      <td>27</td>\n",
       "      <td>Sao Paulo</td>\n",
       "      <td>Femenino</td>\n",
       "      <td>729</td>\n",
       "      <td>Elena_Sao Paulo</td>\n",
       "    </tr>\n",
       "    <tr>\n",
       "      <th>...</th>\n",
       "      <td>...</td>\n",
       "      <td>...</td>\n",
       "      <td>...</td>\n",
       "      <td>...</td>\n",
       "      <td>...</td>\n",
       "      <td>...</td>\n",
       "    </tr>\n",
       "    <tr>\n",
       "      <th>84</th>\n",
       "      <td>Alejandro</td>\n",
       "      <td>29</td>\n",
       "      <td>Santiago</td>\n",
       "      <td>Masculino</td>\n",
       "      <td>841</td>\n",
       "      <td>Alejandro_Santiago</td>\n",
       "    </tr>\n",
       "    <tr>\n",
       "      <th>85</th>\n",
       "      <td>Camila</td>\n",
       "      <td>26</td>\n",
       "      <td>Buenos Aires</td>\n",
       "      <td>Femenino</td>\n",
       "      <td>676</td>\n",
       "      <td>Camila_Buenos Aires</td>\n",
       "    </tr>\n",
       "    <tr>\n",
       "      <th>86</th>\n",
       "      <td>Jorge</td>\n",
       "      <td>28</td>\n",
       "      <td>México</td>\n",
       "      <td>Masculino</td>\n",
       "      <td>784</td>\n",
       "      <td>Jorge_México</td>\n",
       "    </tr>\n",
       "    <tr>\n",
       "      <th>87</th>\n",
       "      <td>Renata</td>\n",
       "      <td>30</td>\n",
       "      <td>Monterrey</td>\n",
       "      <td>Femenino</td>\n",
       "      <td>900</td>\n",
       "      <td>Renata_Monterrey</td>\n",
       "    </tr>\n",
       "    <tr>\n",
       "      <th>88</th>\n",
       "      <td>Andrés</td>\n",
       "      <td>27</td>\n",
       "      <td>Bogotá</td>\n",
       "      <td>Masculino</td>\n",
       "      <td>729</td>\n",
       "      <td>Andrés_Bogotá</td>\n",
       "    </tr>\n",
       "  </tbody>\n",
       "</table>\n",
       "<p>89 rows × 6 columns</p>\n",
       "</div>"
      ],
      "text/plain": [
       "       Nombre  Edad        Ciudad     Género  cuadrado               Code_3\n",
       "0         Ana    25        México   Femenino       625           Ana_México\n",
       "1        Juan    30        Madrid  Masculino       900          Juan_Madrid\n",
       "2       María    28  Buenos Aires   Femenino       784   María_Buenos Aires\n",
       "3        Luis    22          Lima  Masculino       484            Luis_Lima\n",
       "4       Elena    27     Sao Paulo   Femenino       729      Elena_Sao Paulo\n",
       "..        ...   ...           ...        ...       ...                  ...\n",
       "84  Alejandro    29      Santiago  Masculino       841   Alejandro_Santiago\n",
       "85     Camila    26  Buenos Aires   Femenino       676  Camila_Buenos Aires\n",
       "86      Jorge    28        México  Masculino       784         Jorge_México\n",
       "87     Renata    30     Monterrey   Femenino       900     Renata_Monterrey\n",
       "88     Andrés    27        Bogotá  Masculino       729        Andrés_Bogotá\n",
       "\n",
       "[89 rows x 6 columns]"
      ]
     },
     "execution_count": 123,
     "metadata": {},
     "output_type": "execute_result"
    }
   ],
   "source": [
    "df_1"
   ]
  },
  {
   "cell_type": "markdown",
   "id": "3b16b648-a8a3-4628-9c43-15647efc3a56",
   "metadata": {},
   "source": [
    "# Pipeline GroupBy()"
   ]
  },
  {
   "cell_type": "code",
   "execution_count": 130,
   "id": "209deb52-1eb1-4487-a47e-92d97e838f92",
   "metadata": {},
   "outputs": [
    {
     "data": {
      "text/html": [
       "<div>\n",
       "<style scoped>\n",
       "    .dataframe tbody tr th:only-of-type {\n",
       "        vertical-align: middle;\n",
       "    }\n",
       "\n",
       "    .dataframe tbody tr th {\n",
       "        vertical-align: top;\n",
       "    }\n",
       "\n",
       "    .dataframe thead th {\n",
       "        text-align: right;\n",
       "    }\n",
       "</style>\n",
       "<table border=\"1\" class=\"dataframe\">\n",
       "  <thead>\n",
       "    <tr style=\"text-align: right;\">\n",
       "      <th></th>\n",
       "      <th>Edad_MIN</th>\n",
       "      <th>Edad_MAX</th>\n",
       "      <th>Conteo_EDAD</th>\n",
       "    </tr>\n",
       "    <tr>\n",
       "      <th>Género</th>\n",
       "      <th></th>\n",
       "      <th></th>\n",
       "      <th></th>\n",
       "    </tr>\n",
       "  </thead>\n",
       "  <tbody>\n",
       "    <tr>\n",
       "      <th>Masculino</th>\n",
       "      <td>22</td>\n",
       "      <td>29</td>\n",
       "      <td>27.608696</td>\n",
       "    </tr>\n",
       "    <tr>\n",
       "      <th>Femenino</th>\n",
       "      <td>23</td>\n",
       "      <td>29</td>\n",
       "      <td>25.833333</td>\n",
       "    </tr>\n",
       "  </tbody>\n",
       "</table>\n",
       "</div>"
      ],
      "text/plain": [
       "           Edad_MIN  Edad_MAX  Conteo_EDAD\n",
       "Género                                    \n",
       "Masculino        22        29    27.608696\n",
       "Femenino         23        29    25.833333"
      ]
     },
     "execution_count": 130,
     "metadata": {},
     "output_type": "execute_result"
    }
   ],
   "source": [
    "df_1[(df_1.Edad > 0) & (df_1.Edad < 30)].drop_duplicates(subset=[\" Nombre\",\"Ciudad\"],keep='first')\\\n",
    "        .groupby(\"Género\").agg(\n",
    "        Edad_MIN=('Edad', 'min'), \n",
    "        Edad_MAX=('Edad', 'max'),\n",
    "        Conteo_EDAD=('Edad', 'mean')).sort_values(\"Edad_MIN\",ascending = True)"
   ]
  },
  {
   "cell_type": "code",
   "execution_count": null,
   "id": "28290ec0-aa93-4579-a7ba-f4567ec14313",
   "metadata": {},
   "outputs": [],
   "source": [
    "df_1.groupby('')"
   ]
  },
  {
   "cell_type": "markdown",
   "id": "45d5e5b2-978b-4d14-a908-3bdec17e9bd5",
   "metadata": {},
   "source": [
    "## Practica # 1"
   ]
  },
  {
   "cell_type": "markdown",
   "id": "b78658cf-0c74-4ed4-ae31-2bbbcf485fa9",
   "metadata": {},
   "source": [
    "Objetivo : Crear un DataFrame utilizando listas y explorar sus dimensiones, nombre de las columnas y los primeros y últimos elementos :\n",
    "\n",
    "Supongamos que trabajas para una empresa de análisis de datos que está ayudando a una empresa de marketing a comprender mejor su base de usuarios. Los datos incluyen nombres, edades y ciudades de los usuarios. \n",
    "\n",
    "\n",
    "1.- Crear 3 listas, la primera con 5 nombres de personas, las 2 restantes deben de ser una lista de  edades y ciudades asociadas a la primera lista de personas  \n",
    "\n",
    "2.- Crear un DataFrame a partir de las listas proporcionadas (utilizando solo listas y utilizando un diccionario).\n",
    "\n",
    "3.- Obtener las dimensiones del dataframe y el nombre de las columnas\n",
    "\n",
    "4.- Imprimir los primeros y ultimos 10 elementos"
   ]
  },
  {
   "cell_type": "code",
   "execution_count": null,
   "id": "2cef3f3a-16ca-4049-80b7-dbf7cc9efdeb",
   "metadata": {},
   "outputs": [],
   "source": []
  },
  {
   "cell_type": "markdown",
   "id": "3b319ef8-80bf-4870-936e-ffefe165dce2",
   "metadata": {},
   "source": [
    "## Practica # 2\n",
    "\n",
    "Objetivo : Leer un DataFrame utilizando listas y explorar sus dimensiones, nombre de las columnas y los primeros y últimos elementos :\n",
    "\n",
    "\n",
    "1.- Leer el archivo llamado dataset_1.txt y el archivo llamado dataset_2.json y almacenarlos en un DataFrame\n",
    "\n",
    "__para ambos archivos hacer__: \n",
    "\n",
    "\n",
    "2.- Obtener las dimensiones del dataframe y el nombre de las columnas\n",
    "\n",
    "3.- Imprimir los primeros y ultimos 10 elementos"
   ]
  },
  {
   "cell_type": "markdown",
   "id": "26bde966-1b42-4142-89f6-276aa993e8f0",
   "metadata": {},
   "source": [
    "__para el archivo dataset_1.txt__ hacer :\n",
    "\n",
    "- Mostrar el tipo de datos de las diferentes columnas de DataFrame\n",
    "- Mostrar sólo una columna `Ciudad` utilizanod la notación de corchetes y la notación de clase y asignarla dicha columna a una variable y mostart de que tipo es.\n",
    "- Contar el número de valores para la valiable `Ciudad` utilizando la función `value_counts()`\n",
    "-  Validar elementos duplicados en el DataFrame\n",
    "- Mostrar las columnas `Edad` y `Ciudad` y Crear una nueva columna en el DataFrame llamada `Code` concatenando las columnas `Nombre` y `Ciudad`\n",
    "- (1) Mostrar los datos de la segunda fila a la cuarta (2) mostrar todo los datos de la tercera fila\n",
    "- Crear un filtro con las restricciones `Ciudad = Mexico` y `Genero = Masculino`\n",
    "- Ordenar los valores de forma accendente de acuerdo a la variable `Edad`\n",
    "- Renombrar la columna `Code` por otro nombre (cualquiera)\n",
    "- Eliminar la columna renombrada\n",
    "- Agrupar los datos por `Ciudad` y obtener la media"
   ]
  },
  {
   "cell_type": "markdown",
   "id": "918f929e-6f09-47c7-ad6d-14614ef1acde",
   "metadata": {},
   "source": [
    "## Ejercición del día (Para entregar) 10 Mínutos"
   ]
  },
  {
   "cell_type": "markdown",
   "id": "1d4db3fb-42a3-4e50-b08b-7533f7b9d0e9",
   "metadata": {},
   "source": [
    "- Encontrar los valores unicos para cada columna\n",
    "- Encontrar en número de veces que se repite cada valor único\n",
    "- Agrupar por `género`, contar el número de personas por cada género y el promedio de edad por género "
   ]
  },
  {
   "cell_type": "markdown",
   "id": "daa864bf-30f6-4023-9464-741e3dc063c9",
   "metadata": {},
   "source": [
    "# ¡Es el momento de que compartas lo que lograste en el reto de la semana!"
   ]
  },
  {
   "cell_type": "code",
   "execution_count": null,
   "id": "dd5201d1-450e-4b41-914f-bf6b53a93676",
   "metadata": {},
   "outputs": [],
   "source": []
  },
  {
   "cell_type": "markdown",
   "id": "945274c0-ff5a-4e9b-b47e-87254c8d4427",
   "metadata": {},
   "source": [
    "# Tarea\n",
    "* Ejercicios y reto de la semana de la presentación (.pptx)\n",
    "* Leer la teoria de bases de datos SQL y No SQL"
   ]
  },
  {
   "cell_type": "markdown",
   "id": "6a89aa7a-fe3c-4874-8fd7-75e5af7b61c1",
   "metadata": {},
   "source": [
    "# Revisar el proyecto final del modulo 1"
   ]
  },
  {
   "cell_type": "code",
   "execution_count": null,
   "id": "9838ce7a-1324-402e-b678-418f895d5d91",
   "metadata": {},
   "outputs": [],
   "source": []
  }
 ],
 "metadata": {
  "kernelspec": {
   "display_name": "Python 3 (ipykernel)",
   "language": "python",
   "name": "python3"
  },
  "language_info": {
   "codemirror_mode": {
    "name": "ipython",
    "version": 3
   },
   "file_extension": ".py",
   "mimetype": "text/x-python",
   "name": "python",
   "nbconvert_exporter": "python",
   "pygments_lexer": "ipython3",
   "version": "3.10.13"
  }
 },
 "nbformat": 4,
 "nbformat_minor": 5
}

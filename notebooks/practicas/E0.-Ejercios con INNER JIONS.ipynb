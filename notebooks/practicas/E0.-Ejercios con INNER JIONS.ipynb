{
 "cells": [
  {
   "cell_type": "code",
   "execution_count": 1,
   "id": "4d46eb4d",
   "metadata": {},
   "outputs": [],
   "source": [
    "from os import chdir\n",
    "chdir(\"../..\")"
   ]
  },
  {
   "cell_type": "code",
   "execution_count": 4,
   "id": "2b3b986a",
   "metadata": {},
   "outputs": [],
   "source": [
    "# Importar función definida por el usuario \n",
    "# Paquete: Utils\n",
    "# Módulo: display.py\n",
    "# Función: horizontal\n",
    "\n",
    "from utils.display import horizontal\n",
    "from pandas import DataFrame\n",
    "from pandas import merge"
   ]
  },
  {
   "cell_type": "markdown",
   "id": "910ef75b",
   "metadata": {},
   "source": [
    "Supongamos que tenemos los siguientes DataFrames:"
   ]
  },
  {
   "cell_type": "code",
   "execution_count": 5,
   "id": "d0e2dc74",
   "metadata": {},
   "outputs": [],
   "source": [
    "df_department = DataFrame({\n",
    "    'department_id': [1, 2, 3, 4, 5],\n",
    "    'department_name': ['Sistemas', 'Recursos Humanos', 'Producción', 'Ventas', 'Compras']\n",
    "})\n",
    "\n",
    "df_employee = DataFrame({\n",
    "    'employee_id': [1, 2, 3, 4, 5, 6, 7, 8],\n",
    "    'employee_name': ['Axel Romeo', 'Roberto Mujia', 'Alondra Rosas', 'Rodrigo Lara', 'Mónica Galindo', 'Rosarío Galicia', 'Fernando Roa', 'Paola León'],\n",
    "    'department_id': [1, 1, 2, 3, 4, None, 6, None]\n",
    "})"
   ]
  },
  {
   "cell_type": "code",
   "execution_count": 6,
   "id": "d8ab47be",
   "metadata": {},
   "outputs": [
    {
     "data": {
      "text/html": [
       "<div>\n",
       "<style scoped>\n",
       "    .dataframe tbody tr th:only-of-type {\n",
       "        vertical-align: middle;\n",
       "    }\n",
       "\n",
       "    .dataframe tbody tr th {\n",
       "        vertical-align: top;\n",
       "    }\n",
       "\n",
       "    .dataframe thead th {\n",
       "        text-align: right;\n",
       "    }\n",
       "</style>\n",
       "<table border=\"1\" class=\"dataframe\">\n",
       "  <thead>\n",
       "    <tr style=\"text-align: right;\">\n",
       "      <th></th>\n",
       "      <th>department_id</th>\n",
       "      <th>department_name</th>\n",
       "    </tr>\n",
       "  </thead>\n",
       "  <tbody>\n",
       "    <tr>\n",
       "      <th>0</th>\n",
       "      <td>1</td>\n",
       "      <td>Sistemas</td>\n",
       "    </tr>\n",
       "    <tr>\n",
       "      <th>1</th>\n",
       "      <td>2</td>\n",
       "      <td>Recursos Humanos</td>\n",
       "    </tr>\n",
       "    <tr>\n",
       "      <th>2</th>\n",
       "      <td>3</td>\n",
       "      <td>Producción</td>\n",
       "    </tr>\n",
       "    <tr>\n",
       "      <th>3</th>\n",
       "      <td>4</td>\n",
       "      <td>Ventas</td>\n",
       "    </tr>\n",
       "    <tr>\n",
       "      <th>4</th>\n",
       "      <td>5</td>\n",
       "      <td>Compras</td>\n",
       "    </tr>\n",
       "  </tbody>\n",
       "</table>\n",
       "</div>"
      ],
      "text/plain": [
       "   department_id   department_name\n",
       "0              1          Sistemas\n",
       "1              2  Recursos Humanos\n",
       "2              3        Producción\n",
       "3              4            Ventas\n",
       "4              5           Compras"
      ]
     },
     "execution_count": 6,
     "metadata": {},
     "output_type": "execute_result"
    }
   ],
   "source": [
    "df_department"
   ]
  },
  {
   "cell_type": "code",
   "execution_count": 7,
   "id": "f2ad8996",
   "metadata": {},
   "outputs": [
    {
     "data": {
      "text/html": [
       "<div>\n",
       "<style scoped>\n",
       "    .dataframe tbody tr th:only-of-type {\n",
       "        vertical-align: middle;\n",
       "    }\n",
       "\n",
       "    .dataframe tbody tr th {\n",
       "        vertical-align: top;\n",
       "    }\n",
       "\n",
       "    .dataframe thead th {\n",
       "        text-align: right;\n",
       "    }\n",
       "</style>\n",
       "<table border=\"1\" class=\"dataframe\">\n",
       "  <thead>\n",
       "    <tr style=\"text-align: right;\">\n",
       "      <th></th>\n",
       "      <th>employee_id</th>\n",
       "      <th>employee_name</th>\n",
       "      <th>department_id</th>\n",
       "    </tr>\n",
       "  </thead>\n",
       "  <tbody>\n",
       "    <tr>\n",
       "      <th>0</th>\n",
       "      <td>1</td>\n",
       "      <td>Axel Romeo</td>\n",
       "      <td>1.0</td>\n",
       "    </tr>\n",
       "    <tr>\n",
       "      <th>1</th>\n",
       "      <td>2</td>\n",
       "      <td>Roberto Mujia</td>\n",
       "      <td>1.0</td>\n",
       "    </tr>\n",
       "    <tr>\n",
       "      <th>2</th>\n",
       "      <td>3</td>\n",
       "      <td>Alondra Rosas</td>\n",
       "      <td>2.0</td>\n",
       "    </tr>\n",
       "    <tr>\n",
       "      <th>3</th>\n",
       "      <td>4</td>\n",
       "      <td>Rodrigo Lara</td>\n",
       "      <td>3.0</td>\n",
       "    </tr>\n",
       "    <tr>\n",
       "      <th>4</th>\n",
       "      <td>5</td>\n",
       "      <td>Mónica Galindo</td>\n",
       "      <td>4.0</td>\n",
       "    </tr>\n",
       "    <tr>\n",
       "      <th>5</th>\n",
       "      <td>6</td>\n",
       "      <td>Rosarío Galicia</td>\n",
       "      <td>NaN</td>\n",
       "    </tr>\n",
       "    <tr>\n",
       "      <th>6</th>\n",
       "      <td>7</td>\n",
       "      <td>Fernando Roa</td>\n",
       "      <td>6.0</td>\n",
       "    </tr>\n",
       "    <tr>\n",
       "      <th>7</th>\n",
       "      <td>8</td>\n",
       "      <td>Paola León</td>\n",
       "      <td>NaN</td>\n",
       "    </tr>\n",
       "  </tbody>\n",
       "</table>\n",
       "</div>"
      ],
      "text/plain": [
       "   employee_id    employee_name  department_id\n",
       "0            1       Axel Romeo            1.0\n",
       "1            2    Roberto Mujia            1.0\n",
       "2            3    Alondra Rosas            2.0\n",
       "3            4     Rodrigo Lara            3.0\n",
       "4            5   Mónica Galindo            4.0\n",
       "5            6  Rosarío Galicia            NaN\n",
       "6            7     Fernando Roa            6.0\n",
       "7            8       Paola León            NaN"
      ]
     },
     "execution_count": 7,
     "metadata": {},
     "output_type": "execute_result"
    }
   ],
   "source": [
    "df_employee"
   ]
  },
  {
   "cell_type": "markdown",
   "id": "7f96e0ce",
   "metadata": {},
   "source": [
    "El DataFrame `df_department` contiene información sobre los departamentos, mientras que el DataFrame `df_employee` contiene información sobre los empleados, incluyendo el departamento al que pertenecen. Todos los datos podemos representarlos de la siguiente forma:"
   ]
  },
  {
   "cell_type": "markdown",
   "id": "b40a9fea",
   "metadata": {},
   "source": [
    "<img src=\"../../images/empleados-departamentos.png\" alt=\"Drawing\" style=\"width: 600px;\"/>"
   ]
  },
  {
   "cell_type": "markdown",
   "id": "50c63693",
   "metadata": {},
   "source": [
    "Organizando la informaciñon en un modelo relacional, los DataFrames obtienen la siguiente estructura:"
   ]
  },
  {
   "cell_type": "code",
   "execution_count": 8,
   "id": "d95420fa",
   "metadata": {},
   "outputs": [
    {
     "data": {
      "text/html": [
       "<div style=\"display:flex\"><div style=\"margin-right: 32px\"><table border=\"1\" class=\"dataframe\">\n",
       "  <thead>\n",
       "    <tr style=\"text-align: right;\">\n",
       "      <th></th>\n",
       "      <th>department_id</th>\n",
       "      <th>department_name</th>\n",
       "    </tr>\n",
       "  </thead>\n",
       "  <tbody>\n",
       "    <tr>\n",
       "      <th>0</th>\n",
       "      <td>1</td>\n",
       "      <td>Sistemas</td>\n",
       "    </tr>\n",
       "    <tr>\n",
       "      <th>1</th>\n",
       "      <td>2</td>\n",
       "      <td>Recursos Humanos</td>\n",
       "    </tr>\n",
       "    <tr>\n",
       "      <th>2</th>\n",
       "      <td>3</td>\n",
       "      <td>Producción</td>\n",
       "    </tr>\n",
       "    <tr>\n",
       "      <th>3</th>\n",
       "      <td>4</td>\n",
       "      <td>Ventas</td>\n",
       "    </tr>\n",
       "    <tr>\n",
       "      <th>4</th>\n",
       "      <td>5</td>\n",
       "      <td>Compras</td>\n",
       "    </tr>\n",
       "  </tbody>\n",
       "</table></div><div style=\"margin-right: 32px\"><table border=\"1\" class=\"dataframe\">\n",
       "  <thead>\n",
       "    <tr style=\"text-align: right;\">\n",
       "      <th></th>\n",
       "      <th>employee_id</th>\n",
       "      <th>employee_name</th>\n",
       "      <th>department_id</th>\n",
       "    </tr>\n",
       "  </thead>\n",
       "  <tbody>\n",
       "    <tr>\n",
       "      <th>0</th>\n",
       "      <td>1</td>\n",
       "      <td>Axel Romeo</td>\n",
       "      <td>1.0</td>\n",
       "    </tr>\n",
       "    <tr>\n",
       "      <th>1</th>\n",
       "      <td>2</td>\n",
       "      <td>Roberto Mujia</td>\n",
       "      <td>1.0</td>\n",
       "    </tr>\n",
       "    <tr>\n",
       "      <th>2</th>\n",
       "      <td>3</td>\n",
       "      <td>Alondra Rosas</td>\n",
       "      <td>2.0</td>\n",
       "    </tr>\n",
       "    <tr>\n",
       "      <th>3</th>\n",
       "      <td>4</td>\n",
       "      <td>Rodrigo Lara</td>\n",
       "      <td>3.0</td>\n",
       "    </tr>\n",
       "    <tr>\n",
       "      <th>4</th>\n",
       "      <td>5</td>\n",
       "      <td>Mónica Galindo</td>\n",
       "      <td>4.0</td>\n",
       "    </tr>\n",
       "    <tr>\n",
       "      <th>5</th>\n",
       "      <td>6</td>\n",
       "      <td>Rosarío Galicia</td>\n",
       "      <td>NaN</td>\n",
       "    </tr>\n",
       "    <tr>\n",
       "      <th>6</th>\n",
       "      <td>7</td>\n",
       "      <td>Fernando Roa</td>\n",
       "      <td>6.0</td>\n",
       "    </tr>\n",
       "    <tr>\n",
       "      <th>7</th>\n",
       "      <td>8</td>\n",
       "      <td>Paola León</td>\n",
       "      <td>NaN</td>\n",
       "    </tr>\n",
       "  </tbody>\n",
       "</table></div></div>"
      ],
      "text/plain": [
       "<IPython.core.display.HTML object>"
      ]
     },
     "metadata": {},
     "output_type": "display_data"
    }
   ],
   "source": [
    "horizontal([df_department, df_employee])"
   ]
  },
  {
   "cell_type": "markdown",
   "id": "8e47bcc6",
   "metadata": {},
   "source": [
    "Caso de Uso:\n",
    "\n",
    "Supongamos que nos solocitan un reporte con una lista de todos los empleados junto con el nombre de su departamento.\n",
    "\n",
    "1. Nuestra primer opción es hacer un _INER JOIN_, lo cual nos arrojaria algo parecido a esto :"
   ]
  },
  {
   "cell_type": "markdown",
   "id": "4ba096ad",
   "metadata": {},
   "source": [
    "<img src=\"../../images/inner_join.png\" alt=\"Drawing\" style=\"width: 800px;\"/>"
   ]
  },
  {
   "cell_type": "markdown",
   "id": "ba031344",
   "metadata": {},
   "source": [
    "lo que en código Python se resume al siguiente código "
   ]
  },
  {
   "cell_type": "code",
   "execution_count": 12,
   "id": "3e9e181c",
   "metadata": {},
   "outputs": [
    {
     "data": {
      "text/html": [
       "<div>\n",
       "<style scoped>\n",
       "    .dataframe tbody tr th:only-of-type {\n",
       "        vertical-align: middle;\n",
       "    }\n",
       "\n",
       "    .dataframe tbody tr th {\n",
       "        vertical-align: top;\n",
       "    }\n",
       "\n",
       "    .dataframe thead th {\n",
       "        text-align: right;\n",
       "    }\n",
       "</style>\n",
       "<table border=\"1\" class=\"dataframe\">\n",
       "  <thead>\n",
       "    <tr style=\"text-align: right;\">\n",
       "      <th></th>\n",
       "      <th>employee_name</th>\n",
       "      <th>department_name</th>\n",
       "    </tr>\n",
       "  </thead>\n",
       "  <tbody>\n",
       "    <tr>\n",
       "      <th>0</th>\n",
       "      <td>Axel Romeo</td>\n",
       "      <td>Sistemas</td>\n",
       "    </tr>\n",
       "    <tr>\n",
       "      <th>1</th>\n",
       "      <td>Roberto Mujia</td>\n",
       "      <td>Sistemas</td>\n",
       "    </tr>\n",
       "    <tr>\n",
       "      <th>2</th>\n",
       "      <td>Alondra Rosas</td>\n",
       "      <td>Recursos Humanos</td>\n",
       "    </tr>\n",
       "    <tr>\n",
       "      <th>3</th>\n",
       "      <td>Rodrigo Lara</td>\n",
       "      <td>Producción</td>\n",
       "    </tr>\n",
       "    <tr>\n",
       "      <th>4</th>\n",
       "      <td>Mónica Galindo</td>\n",
       "      <td>Ventas</td>\n",
       "    </tr>\n",
       "  </tbody>\n",
       "</table>\n",
       "</div>"
      ],
      "text/plain": [
       "    employee_name   department_name\n",
       "0      Axel Romeo          Sistemas\n",
       "1   Roberto Mujia          Sistemas\n",
       "2   Alondra Rosas  Recursos Humanos\n",
       "3    Rodrigo Lara        Producción\n",
       "4  Mónica Galindo            Ventas"
      ]
     },
     "metadata": {},
     "output_type": "display_data"
    }
   ],
   "source": [
    "# Realizar el INNER JOIN para combinar los DataFrames\n",
    "result = merge(df_employee, df_department, on='department_id', how='inner')\n",
    "\n",
    "# Mostrar el resultado\n",
    "display(result[['employee_name', 'department_name']])"
   ]
  },
  {
   "cell_type": "markdown",
   "id": "c9aad31d",
   "metadata": {},
   "source": [
    "El resultado será una tabla que muestra el nombre de cada empleado junto con el nombre de su respectivo departamento. Los registros que no tienen un departamento válido (cuando department_id es None) se omitirán en este `INNER JOIN`.\n",
    "\n"
   ]
  },
  {
   "cell_type": "markdown",
   "id": "100dfb06",
   "metadata": {},
   "source": [
    "2. Tambien podemos hacer un _LEFT JOIN_, lo cual nos arrojaria algo parecido a esto :"
   ]
  },
  {
   "cell_type": "markdown",
   "id": "de6cdaee",
   "metadata": {},
   "source": [
    "<img src=\"../../images/left_join.png\" alt=\"Drawing\" style=\"width: 800px;\"/>"
   ]
  },
  {
   "cell_type": "markdown",
   "id": "4afa25da",
   "metadata": {},
   "source": [
    "lo que en código _pytho se resume a :"
   ]
  },
  {
   "cell_type": "code",
   "execution_count": 13,
   "id": "d77f283d",
   "metadata": {},
   "outputs": [
    {
     "data": {
      "text/html": [
       "<div>\n",
       "<style scoped>\n",
       "    .dataframe tbody tr th:only-of-type {\n",
       "        vertical-align: middle;\n",
       "    }\n",
       "\n",
       "    .dataframe tbody tr th {\n",
       "        vertical-align: top;\n",
       "    }\n",
       "\n",
       "    .dataframe thead th {\n",
       "        text-align: right;\n",
       "    }\n",
       "</style>\n",
       "<table border=\"1\" class=\"dataframe\">\n",
       "  <thead>\n",
       "    <tr style=\"text-align: right;\">\n",
       "      <th></th>\n",
       "      <th>employee_name</th>\n",
       "      <th>department_name</th>\n",
       "    </tr>\n",
       "  </thead>\n",
       "  <tbody>\n",
       "    <tr>\n",
       "      <th>0</th>\n",
       "      <td>Axel Romeo</td>\n",
       "      <td>Sistemas</td>\n",
       "    </tr>\n",
       "    <tr>\n",
       "      <th>1</th>\n",
       "      <td>Roberto Mujia</td>\n",
       "      <td>Sistemas</td>\n",
       "    </tr>\n",
       "    <tr>\n",
       "      <th>2</th>\n",
       "      <td>Alondra Rosas</td>\n",
       "      <td>Recursos Humanos</td>\n",
       "    </tr>\n",
       "    <tr>\n",
       "      <th>3</th>\n",
       "      <td>Rodrigo Lara</td>\n",
       "      <td>Producción</td>\n",
       "    </tr>\n",
       "    <tr>\n",
       "      <th>4</th>\n",
       "      <td>Mónica Galindo</td>\n",
       "      <td>Ventas</td>\n",
       "    </tr>\n",
       "    <tr>\n",
       "      <th>5</th>\n",
       "      <td>Rosarío Galicia</td>\n",
       "      <td>NaN</td>\n",
       "    </tr>\n",
       "    <tr>\n",
       "      <th>6</th>\n",
       "      <td>Fernando Roa</td>\n",
       "      <td>NaN</td>\n",
       "    </tr>\n",
       "    <tr>\n",
       "      <th>7</th>\n",
       "      <td>Paola León</td>\n",
       "      <td>NaN</td>\n",
       "    </tr>\n",
       "  </tbody>\n",
       "</table>\n",
       "</div>"
      ],
      "text/plain": [
       "     employee_name   department_name\n",
       "0       Axel Romeo          Sistemas\n",
       "1    Roberto Mujia          Sistemas\n",
       "2    Alondra Rosas  Recursos Humanos\n",
       "3     Rodrigo Lara        Producción\n",
       "4   Mónica Galindo            Ventas\n",
       "5  Rosarío Galicia               NaN\n",
       "6     Fernando Roa               NaN\n",
       "7       Paola León               NaN"
      ]
     },
     "metadata": {},
     "output_type": "display_data"
    }
   ],
   "source": [
    "left_join_result = df_employee.merge(df_department, on='department_id', how='left')\n",
    "display(left_join_result[['employee_name', 'department_name']])"
   ]
  },
  {
   "cell_type": "code",
   "execution_count": null,
   "id": "5901a753",
   "metadata": {},
   "outputs": [],
   "source": []
  },
  {
   "cell_type": "markdown",
   "id": "4ddd26d3",
   "metadata": {},
   "source": [
    "3. Otra opción sería pobrar con un `RIGHT INNER`, lo cual cambiaría los resultados de la forma siguiente:"
   ]
  },
  {
   "cell_type": "markdown",
   "id": "70705b23",
   "metadata": {},
   "source": [
    "<img src=\"../../images/right_join.png\" alt=\"Drawing\" style=\"width: 800px;\"/>"
   ]
  },
  {
   "cell_type": "markdown",
   "id": "e2bba772",
   "metadata": {},
   "source": [
    "su código python sería el siguiente:"
   ]
  },
  {
   "cell_type": "code",
   "execution_count": 14,
   "id": "0ddd3eb1",
   "metadata": {},
   "outputs": [
    {
     "data": {
      "text/html": [
       "<div>\n",
       "<style scoped>\n",
       "    .dataframe tbody tr th:only-of-type {\n",
       "        vertical-align: middle;\n",
       "    }\n",
       "\n",
       "    .dataframe tbody tr th {\n",
       "        vertical-align: top;\n",
       "    }\n",
       "\n",
       "    .dataframe thead th {\n",
       "        text-align: right;\n",
       "    }\n",
       "</style>\n",
       "<table border=\"1\" class=\"dataframe\">\n",
       "  <thead>\n",
       "    <tr style=\"text-align: right;\">\n",
       "      <th></th>\n",
       "      <th>employee_name</th>\n",
       "      <th>department_name</th>\n",
       "    </tr>\n",
       "  </thead>\n",
       "  <tbody>\n",
       "    <tr>\n",
       "      <th>0</th>\n",
       "      <td>Axel Romeo</td>\n",
       "      <td>Sistemas</td>\n",
       "    </tr>\n",
       "    <tr>\n",
       "      <th>1</th>\n",
       "      <td>Roberto Mujia</td>\n",
       "      <td>Sistemas</td>\n",
       "    </tr>\n",
       "    <tr>\n",
       "      <th>2</th>\n",
       "      <td>Alondra Rosas</td>\n",
       "      <td>Recursos Humanos</td>\n",
       "    </tr>\n",
       "    <tr>\n",
       "      <th>3</th>\n",
       "      <td>Rodrigo Lara</td>\n",
       "      <td>Producción</td>\n",
       "    </tr>\n",
       "    <tr>\n",
       "      <th>4</th>\n",
       "      <td>Mónica Galindo</td>\n",
       "      <td>Ventas</td>\n",
       "    </tr>\n",
       "    <tr>\n",
       "      <th>5</th>\n",
       "      <td>NaN</td>\n",
       "      <td>Compras</td>\n",
       "    </tr>\n",
       "  </tbody>\n",
       "</table>\n",
       "</div>"
      ],
      "text/plain": [
       "    employee_name   department_name\n",
       "0      Axel Romeo          Sistemas\n",
       "1   Roberto Mujia          Sistemas\n",
       "2   Alondra Rosas  Recursos Humanos\n",
       "3    Rodrigo Lara        Producción\n",
       "4  Mónica Galindo            Ventas\n",
       "5             NaN           Compras"
      ]
     },
     "metadata": {},
     "output_type": "display_data"
    }
   ],
   "source": [
    "right_join_result = df_employee.merge(df_department, on='department_id', how='right')\n",
    "display(right_join_result[['employee_name', 'department_name']])\n"
   ]
  },
  {
   "cell_type": "markdown",
   "id": "253a0837",
   "metadata": {},
   "source": [
    "4.- Nuestra cuarto pero no última opción seria utilizar un `FULL JOIN`. Que tomaría en cuenta todos los datos. "
   ]
  },
  {
   "cell_type": "markdown",
   "id": "fa9cd3af",
   "metadata": {},
   "source": [
    "<img src=\"../../images/full_join.png\" alt=\"Drawing\" style=\"width: 800px;\"/>"
   ]
  },
  {
   "cell_type": "markdown",
   "id": "857d29b5",
   "metadata": {},
   "source": [
    "Expreséndolo en código pyhton, sería de la siguiente forma:"
   ]
  },
  {
   "cell_type": "code",
   "execution_count": 15,
   "id": "50eeaf7e",
   "metadata": {},
   "outputs": [
    {
     "data": {
      "text/html": [
       "<div>\n",
       "<style scoped>\n",
       "    .dataframe tbody tr th:only-of-type {\n",
       "        vertical-align: middle;\n",
       "    }\n",
       "\n",
       "    .dataframe tbody tr th {\n",
       "        vertical-align: top;\n",
       "    }\n",
       "\n",
       "    .dataframe thead th {\n",
       "        text-align: right;\n",
       "    }\n",
       "</style>\n",
       "<table border=\"1\" class=\"dataframe\">\n",
       "  <thead>\n",
       "    <tr style=\"text-align: right;\">\n",
       "      <th></th>\n",
       "      <th>employee_name</th>\n",
       "      <th>department_name</th>\n",
       "    </tr>\n",
       "  </thead>\n",
       "  <tbody>\n",
       "    <tr>\n",
       "      <th>0</th>\n",
       "      <td>Axel Romeo</td>\n",
       "      <td>Sistemas</td>\n",
       "    </tr>\n",
       "    <tr>\n",
       "      <th>1</th>\n",
       "      <td>Roberto Mujia</td>\n",
       "      <td>Sistemas</td>\n",
       "    </tr>\n",
       "    <tr>\n",
       "      <th>2</th>\n",
       "      <td>Alondra Rosas</td>\n",
       "      <td>Recursos Humanos</td>\n",
       "    </tr>\n",
       "    <tr>\n",
       "      <th>3</th>\n",
       "      <td>Rodrigo Lara</td>\n",
       "      <td>Producción</td>\n",
       "    </tr>\n",
       "    <tr>\n",
       "      <th>4</th>\n",
       "      <td>Mónica Galindo</td>\n",
       "      <td>Ventas</td>\n",
       "    </tr>\n",
       "    <tr>\n",
       "      <th>5</th>\n",
       "      <td>Rosarío Galicia</td>\n",
       "      <td>NaN</td>\n",
       "    </tr>\n",
       "    <tr>\n",
       "      <th>6</th>\n",
       "      <td>Paola León</td>\n",
       "      <td>NaN</td>\n",
       "    </tr>\n",
       "    <tr>\n",
       "      <th>7</th>\n",
       "      <td>Fernando Roa</td>\n",
       "      <td>NaN</td>\n",
       "    </tr>\n",
       "    <tr>\n",
       "      <th>8</th>\n",
       "      <td>NaN</td>\n",
       "      <td>Compras</td>\n",
       "    </tr>\n",
       "  </tbody>\n",
       "</table>\n",
       "</div>"
      ],
      "text/plain": [
       "     employee_name   department_name\n",
       "0       Axel Romeo          Sistemas\n",
       "1    Roberto Mujia          Sistemas\n",
       "2    Alondra Rosas  Recursos Humanos\n",
       "3     Rodrigo Lara        Producción\n",
       "4   Mónica Galindo            Ventas\n",
       "5  Rosarío Galicia               NaN\n",
       "6       Paola León               NaN\n",
       "7     Fernando Roa               NaN\n",
       "8              NaN           Compras"
      ]
     },
     "metadata": {},
     "output_type": "display_data"
    }
   ],
   "source": [
    "full_outer_join_result = df_employee.merge(df_department, on='department_id', how='outer')\n",
    "display(full_outer_join_result[['employee_name', 'department_name']])\n"
   ]
  },
  {
   "cell_type": "markdown",
   "id": "755e8904",
   "metadata": {},
   "source": [
    "Las opciones restantes se muestran a continuación"
   ]
  },
  {
   "cell_type": "markdown",
   "id": "6ec23e08",
   "metadata": {},
   "source": [
    "<img src=\"../../images/sqljoins.jpeg\" alt=\"Drawing\" style=\"width: 600px;\"/>"
   ]
  },
  {
   "cell_type": "markdown",
   "id": "5d4e4004",
   "metadata": {},
   "source": [
    "# ¿Cúal es la opción correcta?"
   ]
  },
  {
   "cell_type": "code",
   "execution_count": null,
   "id": "3da72cf4",
   "metadata": {},
   "outputs": [],
   "source": []
  },
  {
   "cell_type": "code",
   "execution_count": null,
   "id": "038f5f59",
   "metadata": {},
   "outputs": [],
   "source": []
  }
 ],
 "metadata": {
  "hide_input": false,
  "kernelspec": {
   "display_name": "Python 3 (ipykernel)",
   "language": "python",
   "name": "python3"
  },
  "language_info": {
   "codemirror_mode": {
    "name": "ipython",
    "version": 3
   },
   "file_extension": ".py",
   "mimetype": "text/x-python",
   "name": "python",
   "nbconvert_exporter": "python",
   "pygments_lexer": "ipython3",
   "version": "3.11.4"
  }
 },
 "nbformat": 4,
 "nbformat_minor": 5
}

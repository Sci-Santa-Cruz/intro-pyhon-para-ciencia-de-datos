{
 "cells": [
  {
   "cell_type": "markdown",
   "id": "29494e9b-8b9d-4b35-af1c-70e62f1af757",
   "metadata": {},
   "source": [
    "## Reto semana 1 "
   ]
  },
  {
   "cell_type": "code",
   "execution_count": 8,
   "id": "a263289a-2bff-4ba8-b2d3-1b8da408c2fb",
   "metadata": {},
   "outputs": [],
   "source": [
    "# Definición de la clase Alumno\n",
    "class Alumno:\n",
    "    def __init__(self, nombre, edad, calificacion):\n",
    "        \"\"\"\n",
    "        Crea un objeto Alumno con la información proporcionada.\n",
    "        \n",
    "        :param nombre: Nombre del alumno.\n",
    "        :param edad: Edad del alumno.\n",
    "        :param calificacion: Nota del alumno.\n",
    "        \"\"\"\n",
    "        self.nombre = nombre\n",
    "        self.edad = edad\n",
    "        self.calificacion = calificacion"
   ]
  },
  {
   "cell_type": "markdown",
   "id": "cf101785-7a2d-4efe-aba5-a27d6f076201",
   "metadata": {},
   "source": [
    "Dada la clase alumno debes de realizar los siguientes pasos:\n",
    "\n",
    "1. Crear almenos tres instancias de la clase Alumno, ejemplo :\n",
    " ```python\n",
    "    alumno1 = Alumno(\"Juan\", 20, 90)\n",
    "   ``` \n",
    "3. Almacenar todas los alumnos creados dentro de una lista\n",
    "4. Utilizando el ciclo `for` itera dentro de la lista del paso `2` e imprime el `nombre`, `edad` y la `calificación` de cada alumno.\n",
    " Imprime una linea con `20` asteriscos (*) como separador entre la información de cada alumno "
   ]
  },
  {
   "cell_type": "markdown",
   "id": "4d8642ab-52ee-465d-8535-f20888611489",
   "metadata": {},
   "source": [
    "La salida del progra debe se verse más o menos así:\n",
    "\n",
    "```bash\n",
    "Lista de Alumnos:\n",
    "\n",
    "\n",
    "Nombre: Juan\n",
    "Edad: 20\n",
    "Calificacion: 90\n",
    "********************\n",
    "Nombre: María\n",
    "Edad: 22\n",
    "Calificacion: 85\n",
    "********************\n",
    "Nombre: Pedro\n",
    "Edad: 21\n",
    "Calificacion: 78\n",
    "********************\n",
    "```"
   ]
  },
  {
   "cell_type": "code",
   "execution_count": null,
   "id": "f802bc6e-134e-4771-a17a-3cfccbaf6572",
   "metadata": {},
   "outputs": [],
   "source": []
  }
 ],
 "metadata": {
  "kernelspec": {
   "display_name": "Python 3 (ipykernel)",
   "language": "python",
   "name": "python3"
  },
  "language_info": {
   "codemirror_mode": {
    "name": "ipython",
    "version": 3
   },
   "file_extension": ".py",
   "mimetype": "text/x-python",
   "name": "python",
   "nbconvert_exporter": "python",
   "pygments_lexer": "ipython3",
   "version": "3.10.13"
  }
 },
 "nbformat": 4,
 "nbformat_minor": 5
}

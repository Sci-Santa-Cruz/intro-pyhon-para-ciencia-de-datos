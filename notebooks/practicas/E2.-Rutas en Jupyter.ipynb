{
 "cells": [
  {
   "cell_type": "markdown",
   "id": "edacdc93",
   "metadata": {},
   "source": [
    "<div class=\"alert alert-success\">\n",
    "<b>**Rutas Relativas y Absolutas**</b>\n",
    "<div>"
   ]
  },
  {
   "cell_type": "markdown",
   "id": "36dfb83c",
   "metadata": {},
   "source": [
    " Una __ruta relativa__ se refiere a la ubicación de un archivo o directorio en relación con el directorio actual. Por ejemplo, si tu notebook está en el directorio Documentos, y deseas acceder a un archivo datos.csv en el mismo directorio, puedes usar la ruta relativa `'datos.csv'`.\n",
    "    \n",
    "Una __ruta absoluta__ especifica la ubicación completa de un archivo o directorio desde la raíz del sistema de archivos. Por ejemplo, `'/Usuario/NombreDeUsuario/Documentos/datos.csv'` sería una ruta absoluta en sistemas Unix."
   ]
  },
  {
   "cell_type": "markdown",
   "id": "fef7ee33",
   "metadata": {},
   "source": [
    "\n",
    "<div class=\"alert alert-success\">\n",
    "<b>**Navegar Entre Directorios con Rutas Relativas:**</b>\n",
    "<div>"
   ]
  },
  {
   "cell_type": "markdown",
   "id": "e74a8c3a",
   "metadata": {},
   "source": [
    "\n",
    "    \n",
    "En Jupyter Notebook, puedes utilizar rutas relativas para navegar entre diferentes directorios y acceder a archivos y recursos en ubicaciones específicas. Para ello, es importante comprender cómo funcionan las rutas relativas en relación con la ubicación actual de tu notebook.\n",
    "\n",
    "Supongamos que tienes la siguiente estructura de directorios:"
   ]
  },
  {
   "cell_type": "code",
   "execution_count": 32,
   "id": "565f24c9",
   "metadata": {},
   "outputs": [],
   "source": [
    "\"\"\"\n",
    "Proyecto/\n",
    "│\n",
    "├─ notebooks/\n",
    "│   ├─ mi_notebook_1.ipynb\n",
    "│   ├─ mi_notebook_2.ipynb\n",
    "\n",
    "│\n",
    "├─ datos/\n",
    "│   ├─ datos_1.csv\n",
    "│   ├─ datos_2.csv\n",
    "│\n",
    "└─ imagenes/\n",
    "    ├─ imagen_1.jpg\n",
    "    ├─ imagen_2.jpg\n",
    "    ├─ imagen_3.jpg\n",
    "\"\"\"\n",
    "h=0"
   ]
  },
  {
   "cell_type": "markdown",
   "id": "954a2283",
   "metadata": {},
   "source": [
    "En este ejemplo, el archivo `mi_notebook.ipynb` se encuentra en la carpeta `notebooks`, y hay carpetas separadas para `datos` e `imagenes`.\n",
    "\n",
    "Si estás en `mi_notebook.ipynb` y deseas acceder a `datos.csv` en la carpeta `datos`, puedes hacerlo utilizando una ruta relativa:\n",
    "\n",
    "```python\n",
    "ruta = '../datos/datos.csv'\n",
    "````\n",
    "\n",
    "Aquí, `..` indica que debes retroceder un nivel en la jerarquía de directorios para llegar a la carpeta principal del proyecto, y luego navegar a la carpeta datos para acceder al archivo `datos_1.csv`.\n",
    "\n",
    "Si deseas acceder a `imagen_1.jpg` en la carpeta `imagenes` desde `mi_notebook_1.ipynb`, la ruta relativa se vería así:\n",
    "\n",
    "```python\n",
    "\n",
    "ruta_imagen = '../imagenes/imagen_1.jpg'\n",
    "\n",
    "````\n",
    "\n",
    "En resumen, al navegar entre directorios con rutas relativas en `Jupyter Notebook`, es importante tener en cuenta la ubicación actual de tu notebook y cómo se relaciona con la estructura de directorios en tu proyecto. Utiliza `..` para retroceder un nivel en la jerarquía y especifica el camino desde allí para acceder a los recursos deseados.\n",
    "\n",
    "\n"
   ]
  },
  {
   "cell_type": "markdown",
   "id": "6e6ca194",
   "metadata": {},
   "source": [
    "<div class=\"alert alert-success\">\n",
    "<b>**Cambiar la ruta relativa del notebook**</b>\n",
    "<div>"
   ]
  },
  {
   "cell_type": "markdown",
   "id": "79f76678",
   "metadata": {},
   "source": [
    "Para cambiar el directorio actual (working directory) a la ruta principal del proyecto en un entorno `Jupyter Notebook`, puedes utilizar la función `os.chdir()` del módulo `os`. Esta función permite cambiar el directorio actual a la ubicación deseada.\n",
    "\n",
    "Suponiendo la estructura de un proyecto similar a la expuesta anteriormente, si deseas cambiar el directorio actual a la ruta principal del proyecto, puedes hacer lo siguiente:"
   ]
  },
  {
   "cell_type": "code",
   "execution_count": 1,
   "id": "e84d99b2",
   "metadata": {},
   "outputs": [],
   "source": [
    "import os\n",
    "\n",
    "# Obtiene la ruta actual\n",
    "ruta_actual = os.getcwd()\n",
    "\n",
    "# Ruta a la carpeta principal del proyecto\n",
    "ruta_principal = os.path.dirname(ruta_actual)\n",
    "\n",
    "# Cambiar al directorio principal del proyecto\n",
    "os.chdir(ruta_principal)\n",
    "\n"
   ]
  },
  {
   "cell_type": "markdown",
   "id": "cba9da6d",
   "metadata": {},
   "source": [
    "o de tabien , ya que sabes que el directorio principal esta un nivel hacia atrás del folder actual podemos escribir simolemete \n"
   ]
  },
  {
   "cell_type": "code",
   "execution_count": 4,
   "id": "be486243",
   "metadata": {},
   "outputs": [],
   "source": [
    "from os import chdir\n",
    "\n",
    "chdir(\"..\")\n"
   ]
  },
  {
   "cell_type": "markdown",
   "id": "c277860a",
   "metadata": {},
   "source": [
    "verificamos nuestra posición actual  con el comando `pwd` o en Windows `echo %cd%`"
   ]
  },
  {
   "cell_type": "code",
   "execution_count": 3,
   "id": "e78aed0f",
   "metadata": {},
   "outputs": [
    {
     "name": "stdout",
     "output_type": "stream",
     "text": [
      "/Users/developer6/Documents/Proyectos/DS_Academy\r\n"
     ]
    }
   ],
   "source": [
    "! pwd"
   ]
  },
  {
   "cell_type": "code",
   "execution_count": 5,
   "id": "579c76ee",
   "metadata": {},
   "outputs": [
    {
     "name": "stdout",
     "output_type": "stream",
     "text": [
      "/Users/developer6/Documents/Proyectos\r\n"
     ]
    }
   ],
   "source": [
    "! pwd"
   ]
  },
  {
   "cell_type": "code",
   "execution_count": null,
   "id": "8f1c93ab",
   "metadata": {},
   "outputs": [],
   "source": []
  }
 ],
 "metadata": {
  "kernelspec": {
   "display_name": "Python 3 (ipykernel)",
   "language": "python",
   "name": "python3"
  },
  "language_info": {
   "codemirror_mode": {
    "name": "ipython",
    "version": 3
   },
   "file_extension": ".py",
   "mimetype": "text/x-python",
   "name": "python",
   "nbconvert_exporter": "python",
   "pygments_lexer": "ipython3",
   "version": "3.11.4"
  }
 },
 "nbformat": 4,
 "nbformat_minor": 5
}

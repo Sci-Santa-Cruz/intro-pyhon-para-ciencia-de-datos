{
 "cells": [
  {
   "cell_type": "markdown",
   "metadata": {
    "colab_type": "text",
    "id": "rHLcriKWLRe4"
   },
   "source": [
    "# Preludio\n",
    "\n",
    "## Diccionarios en python"
   ]
  },
  {
   "cell_type": "markdown",
   "metadata": {
    "colab_type": "text",
    "id": "QvJBqX8_Bctk"
   },
   "source": [
    "Para definirlo un diccionario junto con los miembros que va a contener, se encierra el listado de valores entre llaves {..} , las parejas de `clave` y su `valor` se separan con `:`. Cada par de  valores (`clave`:`valor`) se separa por medio de comas (`,`). Ejemplo :\n"
   ]
  },
  {
   "cell_type": "code",
   "execution_count": 36,
   "metadata": {},
   "outputs": [
    {
     "name": "stdout",
     "output_type": "stream",
     "text": [
      "4\n"
     ]
    }
   ],
   "source": [
    "punto = {1: '212323' ,\"y\": 1, 'z': 4}\n",
    "\n",
    "#acceder al valor del elemento con 'key'\n",
    "print(punto[\"z\"])\n",
    "#pyhton no hace distinción entre comillas simples (') y comillas dobles (\")"
   ]
  },
  {
   "cell_type": "code",
   "execution_count": 37,
   "metadata": {},
   "outputs": [],
   "source": [
    "#Tambien se declara como un par de llaves sin nada en medio, y luego se asignan valores directamente a los indices.\n",
    "materias = {}\n",
    "materias['lunes'] = [6103, 7540, 10]\n",
    "materias[\"martes\"] = [6201]\n",
    "materias[\"miércoles\"] = [6103, 7540]\n",
    "materias[\"jueves\"] = []\n",
    "materias[\"viernes\"] = [6201]\n"
   ]
  },
  {
   "cell_type": "code",
   "execution_count": 38,
   "metadata": {},
   "outputs": [
    {
     "data": {
      "text/plain": [
       "[]"
      ]
     },
     "execution_count": 38,
     "metadata": {},
     "output_type": "execute_result"
    }
   ],
   "source": [
    "#acceder a el valor de lla variable con la clave 'miércoles'\n",
    "materias[\"jueves\"]"
   ]
  },
  {
   "cell_type": "markdown",
   "metadata": {},
   "source": [
    "Un diccionario se puede ver como una clase objeto, todas las clases en python tiene asociadas ciertas funciones, las cuales se invocan con el nombre que toma el objeto (por ejemplo `materias{}`, es un objeto tipo diccionario y su nombre es `materias`), seguido de un punto `.`, el nonbre de la función y un par de paréntesis `()`.\n",
    "## items()\n",
    "Devuelve todas las tuplas del diccionario, cada tupla se compone de dos elementos: el primero que es `clave` y el segundo, el `valor` asociado a la clave. Una tupla es conciderada como una colección de elementos de diferente tipo separados por 'comas', como en : ('lunes', [6103, 7540, 10]). Tupla con dos elementos: un cadena de texto y una lista con tres elementos.\n"
   ]
  },
  {
   "cell_type": "code",
   "execution_count": 39,
   "metadata": {},
   "outputs": [
    {
     "name": "stdout",
     "output_type": "stream",
     "text": [
      "dict_items([('lunes', [6103, 7540, 10]), ('martes', [6201]), ('miércoles', [6103, 7540]), ('jueves', []), ('viernes', [6201])])\n"
     ]
    }
   ],
   "source": [
    "items = materias.items()\n",
    "print(items)"
   ]
  },
  {
   "cell_type": "markdown",
   "metadata": {},
   "source": [
    "## keys()\n",
    "\n",
    "Retorna la lista de claves de nuestro diccionario."
   ]
  },
  {
   "cell_type": "code",
   "execution_count": 40,
   "metadata": {},
   "outputs": [
    {
     "name": "stdout",
     "output_type": "stream",
     "text": [
      "dict_keys(['lunes', 'martes', 'miércoles', 'jueves', 'viernes'])\n"
     ]
    }
   ],
   "source": [
    "keys= materias.keys()\n",
    "print(keys)"
   ]
  },
  {
   "cell_type": "markdown",
   "metadata": {},
   "source": [
    "Para iterar dentro de todos los elementos del diccionario  se utiliza un 'for'. "
   ]
  },
  {
   "cell_type": "code",
   "execution_count": 41,
   "metadata": {},
   "outputs": [
    {
     "name": "stdout",
     "output_type": "stream",
     "text": [
      "lunes [6103, 7540, 10]\n",
      "martes [6201]\n",
      "miércoles [6103, 7540]\n",
      "jueves []\n",
      "viernes [6201]\n"
     ]
    }
   ],
   "source": [
    "for key in materias:\n",
    "    print (key , materias[key])"
   ]
  },
  {
   "cell_type": "markdown",
   "metadata": {},
   "source": [
    "tambien podemos obtener todas las entradas del diccionario utilizando un `for` y  los `items` que genera la función `.items()`. "
   ]
  },
  {
   "cell_type": "code",
   "execution_count": 42,
   "metadata": {},
   "outputs": [
    {
     "name": "stdout",
     "output_type": "stream",
     "text": [
      "lunes : [6103, 7540, 10]\n",
      "martes : [6201]\n",
      "miércoles : [6103, 7540]\n",
      "jueves : []\n",
      "viernes : [6201]\n"
     ]
    }
   ],
   "source": [
    "for key,value in items:\n",
    "    print (key ,\":\", value)\n"
   ]
  },
  {
   "cell_type": "markdown",
   "metadata": {
    "colab_type": "text",
    "id": "TIFJ83ZTBctl"
   },
   "source": [
    "# Introducción rápida a Pandas"
   ]
  },
  {
   "cell_type": "markdown",
   "metadata": {
    "colab_type": "text",
    "id": "s_JOISVgmn9v"
   },
   "source": [
    "**Objetivos de aprendizaje:**\n",
    "  * Obtener una introducción a las estructuras de datos:  `DataFrame` y `Series` de la biblioteca de *Pandas*\n",
    "  * Acceder y manipular datos dentro de un `DataFrame` y `Series`\n",
    "  * Importar datos CSV a un `DataFrame` de *Pandas*\n",
    "  * Reindexar un `DataFrame` para obtener datos aleatorios\n",
    "  \n",
    "  \n",
    "  [*pandas*](http://pandas.pydata.org/) es una API de análisis de datos, ideal para manipular y analizar datos de entrada. Además, muchas bibliotecas  admiten las estructuras de datos de *pandas* como entradas.\n",
    "Si bien una introducción detallada a la API de *pandas* abarcaría muchas páginas, los conceptos principales que presentamos a continuación son simples.\n",
    "\n",
    " ## Conceptos básicos\n",
    "\n",
    "La siguiente línea importa la API de *pandas* e imprime la versión de la API:"
   ]
  },
  {
   "cell_type": "code",
   "execution_count": 43,
   "metadata": {
    "colab": {
     "autoexec": {
      "startup": false,
      "wait_interval": 0
     }
    },
    "colab_type": "code",
    "id": "aSRYu62xUi3g"
   },
   "outputs": [
    {
     "data": {
      "text/plain": [
       "'0.22.0'"
      ]
     },
     "execution_count": 43,
     "metadata": {},
     "output_type": "execute_result"
    }
   ],
   "source": [
    "import pandas as pd\n",
    "pd.__version__"
   ]
  },
  {
   "cell_type": "markdown",
   "metadata": {
    "colab_type": "text",
    "id": "daQreKXIUslr"
   },
   "source": [
    " Las estructuras de datos principales en *pandas* están implementadas en dos clases:\n",
    "\n",
    "  * **`DataFrame`**, tabla de datos, con filas y columnas, es posible asignarle un nombre a cada columna (nombre de las variables).\n",
    "  \n",
    "  * **`Series`**, es igual que una fila. Una  `DataFrame` incluye una o más `Series`, cada serie debe de tener un nombre."
   ]
  },
  {
   "cell_type": "markdown",
   "metadata": {
    "colab_type": "text",
    "id": "fjnAk1xcU0yc"
   },
   "source": [
    " Una manera de crear una `Series` es construir un objeto de `Series`. Por ejemplo:"
   ]
  },
  {
   "cell_type": "code",
   "execution_count": 44,
   "metadata": {
    "colab": {
     "autoexec": {
      "startup": false,
      "wait_interval": 0
     }
    },
    "colab_type": "code",
    "id": "DFZ42Uq7UFDj"
   },
   "outputs": [
    {
     "name": "stdout",
     "output_type": "stream",
     "text": [
      "0    San Francisco\n",
      "1         San Jose\n",
      "2       Sacramento\n",
      "dtype: object\n"
     ]
    }
   ],
   "source": [
    "city_names = pd.Series(['San Francisco', 'San Jose', 'Sacramento'])\n",
    "print(city_names)"
   ]
  },
  {
   "cell_type": "markdown",
   "metadata": {
    "colab_type": "text",
    "id": "U5ouUp1cU6pC"
   },
   "source": [
    " Los objetos  `DataFrame` pueden crearse al enviar un `dicccionario` para que asigne nombres a las columnas, cada columna es una `Series`. Si las `Series` no coinciden con la longitud, los valores faltantes se completan con valores [NA/NaN](http://pandas.pydata.org/pandas-docs/stable/missing_data.html) especiales. Ejemplo:"
   ]
  },
  {
   "cell_type": "code",
   "execution_count": 45,
   "metadata": {
    "colab": {
     "autoexec": {
      "startup": false,
      "wait_interval": 0
     }
    },
    "colab_type": "code",
    "id": "avgr6GfiUh8t"
   },
   "outputs": [],
   "source": [
    "city_names = pd.Series(['San Francisco', 'San Jose', 'Sacramento'])\n",
    "population = pd.Series([52469, 1015785, 485199])\n",
    "\n",
    "features = pd.DataFrame({ 'City name': city_names, 'Population': population })"
   ]
  },
  {
   "cell_type": "markdown",
   "metadata": {},
   "source": [
    "A veces es necesario convertir un Dataframe a un diccionario. (Ej: cuando utilizamos Ternsorflow) lo hacemos de la siguiente forma:"
   ]
  },
  {
   "cell_type": "code",
   "execution_count": 46,
   "metadata": {},
   "outputs": [
    {
     "name": "stdout",
     "output_type": "stream",
     "text": [
      "{'City name': array(['San Francisco', 'San Jose', 'Sacramento'], dtype=object), 'Population': array([  52469, 1015785,  485199])}\n"
     ]
    }
   ],
   "source": [
    "import numpy as np\n",
    "features = {key:np.array(value) for key,value in dict(features).items()}\n",
    "print(features)"
   ]
  },
  {
   "cell_type": "markdown",
   "metadata": {
    "colab_type": "text",
    "id": "oa5wfZT7VHJl"
   },
   "source": [
    " Pero por lo general, cargas un archivo completo en un `DataFrame`. El siguiente ejemplo carga un archivo con datos de viviendas de California. Ejecuta la siguiente celda para cargar los datos, el archivo de datos debe de estar en la  ruta especificada."
   ]
  },
  {
   "cell_type": "code",
   "execution_count": 47,
   "metadata": {
    "colab": {
     "autoexec": {
      "startup": false,
      "wait_interval": 0
     }
    },
    "colab_type": "code",
    "id": "av6RYOraVG1V"
   },
   "outputs": [
    {
     "name": "stdout",
     "output_type": "stream",
     "text": [
      "          longitude      latitude  housing_median_age   total_rooms  \\\n",
      "count  17000.000000  17000.000000        17000.000000  17000.000000   \n",
      "mean    -119.562108     35.625225           28.589353   2643.664412   \n",
      "std        2.005166      2.137340           12.586937   2179.947071   \n",
      "min     -124.350000     32.540000            1.000000      2.000000   \n",
      "25%     -121.790000     33.930000           18.000000   1462.000000   \n",
      "50%     -118.490000     34.250000           29.000000   2127.000000   \n",
      "75%     -118.000000     37.720000           37.000000   3151.250000   \n",
      "max     -114.310000     41.950000           52.000000  37937.000000   \n",
      "\n",
      "       total_bedrooms    population    households  median_income  \\\n",
      "count    17000.000000  17000.000000  17000.000000   17000.000000   \n",
      "mean       539.410824   1429.573941    501.221941       3.883578   \n",
      "std        421.499452   1147.852959    384.520841       1.908157   \n",
      "min          1.000000      3.000000      1.000000       0.499900   \n",
      "25%        297.000000    790.000000    282.000000       2.566375   \n",
      "50%        434.000000   1167.000000    409.000000       3.544600   \n",
      "75%        648.250000   1721.000000    605.250000       4.767000   \n",
      "max       6445.000000  35682.000000   6082.000000      15.000100   \n",
      "\n",
      "       median_house_value  \n",
      "count        17000.000000  \n",
      "mean        207300.912353  \n",
      "std         115983.764387  \n",
      "min          14999.000000  \n",
      "25%         119400.000000  \n",
      "50%         180400.000000  \n",
      "75%         265000.000000  \n",
      "max         500001.000000  \n"
     ]
    }
   ],
   "source": [
    "california_housing_dataframe = pd.read_csv(\"../data/california_housing_train.csv\", sep=\",\")\n"
   ]
  },
  {
   "cell_type": "markdown",
   "metadata": {},
   "source": [
    "Para visualizar las estadísticas del dataFrame podemos utilizar el método  `describe()`"
   ]
  },
  {
   "cell_type": "code",
   "execution_count": null,
   "metadata": {},
   "outputs": [],
   "source": [
    "print(california_housing_dataframe.describe())"
   ]
  },
  {
   "cell_type": "markdown",
   "metadata": {},
   "source": [
    "tambien podemos aplicar el método `describe()` a una sola columna"
   ]
  },
  {
   "cell_type": "code",
   "execution_count": 98,
   "metadata": {},
   "outputs": [
    {
     "name": "stdout",
     "output_type": "stream",
     "text": [
      "count    17000.000000\n",
      "mean      -119.562108\n",
      "std          2.005166\n",
      "min       -124.350000\n",
      "25%       -121.790000\n",
      "50%       -118.490000\n",
      "75%       -118.000000\n",
      "max       -114.310000\n",
      "Name: longitude, dtype: float64\n"
     ]
    }
   ],
   "source": [
    "print(california_housing_dataframe[\"longitude\"].describe())"
   ]
  },
  {
   "cell_type": "markdown",
   "metadata": {},
   "source": [
    "Para visualizar la información de las variables utilizamos el método  `info()`"
   ]
  },
  {
   "cell_type": "code",
   "execution_count": 48,
   "metadata": {},
   "outputs": [
    {
     "name": "stdout",
     "output_type": "stream",
     "text": [
      "<class 'pandas.core.frame.DataFrame'>\n",
      "RangeIndex: 17000 entries, 0 to 16999\n",
      "Data columns (total 9 columns):\n",
      "longitude             17000 non-null float64\n",
      "latitude              17000 non-null float64\n",
      "housing_median_age    17000 non-null float64\n",
      "total_rooms           17000 non-null float64\n",
      "total_bedrooms        17000 non-null float64\n",
      "population            17000 non-null float64\n",
      "households            17000 non-null float64\n",
      "median_income         17000 non-null float64\n",
      "median_house_value    17000 non-null float64\n",
      "dtypes: float64(9)\n",
      "memory usage: 1.2 MB\n",
      "None\n"
     ]
    }
   ],
   "source": [
    "# Pedomos información general del dataset\n",
    "print(california_housing_dataframe.info())"
   ]
  },
  {
   "cell_type": "markdown",
   "metadata": {},
   "source": [
    "para imprimir los datos que se cargaron del archivos  `CSV ` y que ahora estan almacenados en la variable  `california_housing_dataframe` lo hacemos de la siguiente manera:"
   ]
  },
  {
   "cell_type": "code",
   "execution_count": 49,
   "metadata": {},
   "outputs": [
    {
     "name": "stdout",
     "output_type": "stream",
     "text": [
      "       longitude  latitude  housing_median_age  total_rooms  total_bedrooms  \\\n",
      "0        -114.31     34.19                15.0       5612.0          1283.0   \n",
      "1        -114.47     34.40                19.0       7650.0          1901.0   \n",
      "2        -114.56     33.69                17.0        720.0           174.0   \n",
      "3        -114.57     33.64                14.0       1501.0           337.0   \n",
      "4        -114.57     33.57                20.0       1454.0           326.0   \n",
      "5        -114.58     33.63                29.0       1387.0           236.0   \n",
      "6        -114.58     33.61                25.0       2907.0           680.0   \n",
      "7        -114.59     34.83                41.0        812.0           168.0   \n",
      "8        -114.59     33.61                34.0       4789.0          1175.0   \n",
      "9        -114.60     34.83                46.0       1497.0           309.0   \n",
      "10       -114.60     33.62                16.0       3741.0           801.0   \n",
      "11       -114.60     33.60                21.0       1988.0           483.0   \n",
      "12       -114.61     34.84                48.0       1291.0           248.0   \n",
      "13       -114.61     34.83                31.0       2478.0           464.0   \n",
      "14       -114.63     32.76                15.0       1448.0           378.0   \n",
      "15       -114.65     34.89                17.0       2556.0           587.0   \n",
      "16       -114.65     33.60                28.0       1678.0           322.0   \n",
      "17       -114.65     32.79                21.0         44.0            33.0   \n",
      "18       -114.66     32.74                17.0       1388.0           386.0   \n",
      "19       -114.67     33.92                17.0         97.0            24.0   \n",
      "20       -114.68     33.49                20.0       1491.0           360.0   \n",
      "21       -114.73     33.43                24.0        796.0           243.0   \n",
      "22       -114.94     34.55                20.0        350.0            95.0   \n",
      "23       -114.98     33.82                15.0        644.0           129.0   \n",
      "24       -115.22     33.54                18.0       1706.0           397.0   \n",
      "25       -115.32     32.82                34.0        591.0           139.0   \n",
      "26       -115.37     32.82                30.0       1602.0           322.0   \n",
      "27       -115.37     32.82                14.0       1276.0           270.0   \n",
      "28       -115.37     32.81                32.0        741.0           191.0   \n",
      "29       -115.37     32.81                23.0       1458.0           294.0   \n",
      "...          ...       ...                 ...          ...             ...   \n",
      "16970    -124.17     40.80                52.0       1606.0           419.0   \n",
      "16971    -124.17     40.80                52.0       1557.0           344.0   \n",
      "16972    -124.17     40.79                43.0       2285.0           479.0   \n",
      "16973    -124.17     40.78                39.0       1606.0           330.0   \n",
      "16974    -124.17     40.77                30.0       1895.0           366.0   \n",
      "16975    -124.17     40.76                26.0       1776.0           361.0   \n",
      "16976    -124.17     40.75                13.0       2171.0           339.0   \n",
      "16977    -124.17     40.62                32.0       1595.0           309.0   \n",
      "16978    -124.18     40.79                39.0       1836.0           352.0   \n",
      "16979    -124.18     40.78                37.0       1453.0           293.0   \n",
      "16980    -124.18     40.78                34.0       1592.0           364.0   \n",
      "16981    -124.18     40.78                33.0       1076.0           222.0   \n",
      "16982    -124.18     40.62                35.0        952.0           178.0   \n",
      "16983    -124.19     41.78                15.0       3140.0           714.0   \n",
      "16984    -124.19     40.78                37.0       1371.0           319.0   \n",
      "16985    -124.19     40.77                30.0       2975.0           634.0   \n",
      "16986    -124.19     40.73                21.0       5694.0          1056.0   \n",
      "16987    -124.21     41.77                17.0       3461.0           722.0   \n",
      "16988    -124.21     41.75                20.0       3810.0           787.0   \n",
      "16989    -124.21     40.75                32.0       1218.0           331.0   \n",
      "16990    -124.22     41.73                28.0       3003.0           699.0   \n",
      "16991    -124.23     41.75                11.0       3159.0           616.0   \n",
      "16992    -124.23     40.81                52.0       1112.0           209.0   \n",
      "16993    -124.23     40.54                52.0       2694.0           453.0   \n",
      "16994    -124.25     40.28                32.0       1430.0           419.0   \n",
      "16995    -124.26     40.58                52.0       2217.0           394.0   \n",
      "16996    -124.27     40.69                36.0       2349.0           528.0   \n",
      "16997    -124.30     41.84                17.0       2677.0           531.0   \n",
      "16998    -124.30     41.80                19.0       2672.0           552.0   \n",
      "16999    -124.35     40.54                52.0       1820.0           300.0   \n",
      "\n",
      "       population  households  median_income  median_house_value  \n",
      "0          1015.0       472.0         1.4936             66900.0  \n",
      "1          1129.0       463.0         1.8200             80100.0  \n",
      "2           333.0       117.0         1.6509             85700.0  \n",
      "3           515.0       226.0         3.1917             73400.0  \n",
      "4           624.0       262.0         1.9250             65500.0  \n",
      "5           671.0       239.0         3.3438             74000.0  \n",
      "6          1841.0       633.0         2.6768             82400.0  \n",
      "7           375.0       158.0         1.7083             48500.0  \n",
      "8          3134.0      1056.0         2.1782             58400.0  \n",
      "9           787.0       271.0         2.1908             48100.0  \n",
      "10         2434.0       824.0         2.6797             86500.0  \n",
      "11         1182.0       437.0         1.6250             62000.0  \n",
      "12          580.0       211.0         2.1571             48600.0  \n",
      "13         1346.0       479.0         3.2120             70400.0  \n",
      "14          949.0       300.0         0.8585             45000.0  \n",
      "15         1005.0       401.0         1.6991             69100.0  \n",
      "16          666.0       256.0         2.9653             94900.0  \n",
      "17           64.0        27.0         0.8571             25000.0  \n",
      "18          775.0       320.0         1.2049             44000.0  \n",
      "19           29.0        15.0         1.2656             27500.0  \n",
      "20         1135.0       303.0         1.6395             44400.0  \n",
      "21          227.0       139.0         0.8964             59200.0  \n",
      "22          119.0        58.0         1.6250             50000.0  \n",
      "23          137.0        52.0         3.2097             71300.0  \n",
      "24         3424.0       283.0         1.6250             53500.0  \n",
      "25          327.0        89.0         3.6528            100000.0  \n",
      "26         1130.0       335.0         3.5735             71100.0  \n",
      "27          867.0       261.0         1.9375             80900.0  \n",
      "28          623.0       169.0         1.7604             68600.0  \n",
      "29          866.0       275.0         2.3594             74300.0  \n",
      "...           ...         ...            ...                 ...  \n",
      "16970       891.0       367.0         1.5850             75500.0  \n",
      "16971       758.0       319.0         1.8529             62500.0  \n",
      "16972      1169.0       482.0         1.9688             70500.0  \n",
      "16973       731.0       327.0         1.6369             68300.0  \n",
      "16974       990.0       359.0         2.2227             81300.0  \n",
      "16975       992.0       380.0         2.8056             82800.0  \n",
      "16976       951.0       353.0         4.8516            116100.0  \n",
      "16977       706.0       277.0         2.8958             86400.0  \n",
      "16978       883.0       337.0         1.7450             70500.0  \n",
      "16979       867.0       310.0         2.5536             70200.0  \n",
      "16980       950.0       317.0         2.1607             67000.0  \n",
      "16981       656.0       236.0         2.5096             72200.0  \n",
      "16982       480.0       179.0         3.0536            107000.0  \n",
      "16983      1645.0       640.0         1.6654             74600.0  \n",
      "16984       640.0       260.0         1.8242             70000.0  \n",
      "16985      1367.0       583.0         2.4420             69000.0  \n",
      "16986      2907.0       972.0         3.5363             90100.0  \n",
      "16987      1947.0       647.0         2.5795             68400.0  \n",
      "16988      1993.0       721.0         2.0074             66900.0  \n",
      "16989       620.0       268.0         1.6528             58100.0  \n",
      "16990      1530.0       653.0         1.7038             78300.0  \n",
      "16991      1343.0       479.0         2.4805             73200.0  \n",
      "16992       544.0       172.0         3.3462             50800.0  \n",
      "16993      1152.0       435.0         3.0806            106700.0  \n",
      "16994       434.0       187.0         1.9417             76100.0  \n",
      "16995       907.0       369.0         2.3571            111400.0  \n",
      "16996      1194.0       465.0         2.5179             79000.0  \n",
      "16997      1244.0       456.0         3.0313            103600.0  \n",
      "16998      1298.0       478.0         1.9797             85800.0  \n",
      "16999       806.0       270.0         3.0147             94600.0  \n",
      "\n",
      "[17000 rows x 9 columns]\n"
     ]
    }
   ],
   "source": [
    "print(california_housing_dataframe)"
   ]
  },
  {
   "cell_type": "markdown",
   "metadata": {
    "colab_type": "text",
    "id": "WrkBjfz5kEQu"
   },
   "source": [
    "### Algunos inputs/outputs con los que podemos trabajar en pandas\n",
    "- CSV, text\n",
    "- SQL database\n",
    "- Excel\n",
    "- json\n",
    "- html\n",
    "\n",
    "En el ejemplo de arriba, se usó `DataFrame.describe` para mostrar estadísticas interesantes sobre un `DataFrame`. Otra función útil es `DataFrame.head`, que muestra los primeros registros de un `DataFrame`:"
   ]
  },
  {
   "cell_type": "code",
   "execution_count": 50,
   "metadata": {},
   "outputs": [
    {
     "data": {
      "text/html": [
       "<div>\n",
       "<style scoped>\n",
       "    .dataframe tbody tr th:only-of-type {\n",
       "        vertical-align: middle;\n",
       "    }\n",
       "\n",
       "    .dataframe tbody tr th {\n",
       "        vertical-align: top;\n",
       "    }\n",
       "\n",
       "    .dataframe thead th {\n",
       "        text-align: right;\n",
       "    }\n",
       "</style>\n",
       "<table border=\"1\" class=\"dataframe\">\n",
       "  <thead>\n",
       "    <tr style=\"text-align: right;\">\n",
       "      <th></th>\n",
       "      <th>longitude</th>\n",
       "      <th>latitude</th>\n",
       "      <th>housing_median_age</th>\n",
       "      <th>total_rooms</th>\n",
       "      <th>total_bedrooms</th>\n",
       "      <th>population</th>\n",
       "      <th>households</th>\n",
       "      <th>median_income</th>\n",
       "      <th>median_house_value</th>\n",
       "    </tr>\n",
       "  </thead>\n",
       "  <tbody>\n",
       "    <tr>\n",
       "      <th>0</th>\n",
       "      <td>-114.31</td>\n",
       "      <td>34.19</td>\n",
       "      <td>15.0</td>\n",
       "      <td>5612.0</td>\n",
       "      <td>1283.0</td>\n",
       "      <td>1015.0</td>\n",
       "      <td>472.0</td>\n",
       "      <td>1.4936</td>\n",
       "      <td>66900.0</td>\n",
       "    </tr>\n",
       "    <tr>\n",
       "      <th>1</th>\n",
       "      <td>-114.47</td>\n",
       "      <td>34.40</td>\n",
       "      <td>19.0</td>\n",
       "      <td>7650.0</td>\n",
       "      <td>1901.0</td>\n",
       "      <td>1129.0</td>\n",
       "      <td>463.0</td>\n",
       "      <td>1.8200</td>\n",
       "      <td>80100.0</td>\n",
       "    </tr>\n",
       "    <tr>\n",
       "      <th>2</th>\n",
       "      <td>-114.56</td>\n",
       "      <td>33.69</td>\n",
       "      <td>17.0</td>\n",
       "      <td>720.0</td>\n",
       "      <td>174.0</td>\n",
       "      <td>333.0</td>\n",
       "      <td>117.0</td>\n",
       "      <td>1.6509</td>\n",
       "      <td>85700.0</td>\n",
       "    </tr>\n",
       "    <tr>\n",
       "      <th>3</th>\n",
       "      <td>-114.57</td>\n",
       "      <td>33.64</td>\n",
       "      <td>14.0</td>\n",
       "      <td>1501.0</td>\n",
       "      <td>337.0</td>\n",
       "      <td>515.0</td>\n",
       "      <td>226.0</td>\n",
       "      <td>3.1917</td>\n",
       "      <td>73400.0</td>\n",
       "    </tr>\n",
       "    <tr>\n",
       "      <th>4</th>\n",
       "      <td>-114.57</td>\n",
       "      <td>33.57</td>\n",
       "      <td>20.0</td>\n",
       "      <td>1454.0</td>\n",
       "      <td>326.0</td>\n",
       "      <td>624.0</td>\n",
       "      <td>262.0</td>\n",
       "      <td>1.9250</td>\n",
       "      <td>65500.0</td>\n",
       "    </tr>\n",
       "  </tbody>\n",
       "</table>\n",
       "</div>"
      ],
      "text/plain": [
       "   longitude  latitude  housing_median_age  total_rooms  total_bedrooms  \\\n",
       "0    -114.31     34.19                15.0       5612.0          1283.0   \n",
       "1    -114.47     34.40                19.0       7650.0          1901.0   \n",
       "2    -114.56     33.69                17.0        720.0           174.0   \n",
       "3    -114.57     33.64                14.0       1501.0           337.0   \n",
       "4    -114.57     33.57                20.0       1454.0           326.0   \n",
       "\n",
       "   population  households  median_income  median_house_value  \n",
       "0      1015.0       472.0         1.4936             66900.0  \n",
       "1      1129.0       463.0         1.8200             80100.0  \n",
       "2       333.0       117.0         1.6509             85700.0  \n",
       "3       515.0       226.0         3.1917             73400.0  \n",
       "4       624.0       262.0         1.9250             65500.0  "
      ]
     },
     "execution_count": 50,
     "metadata": {},
     "output_type": "execute_result"
    }
   ],
   "source": [
    "#imprimir los primeros 5 datos con la funcion .head()\n",
    "california_housing_dataframe.head()"
   ]
  },
  {
   "cell_type": "code",
   "execution_count": 51,
   "metadata": {},
   "outputs": [
    {
     "data": {
      "text/html": [
       "<div>\n",
       "<style scoped>\n",
       "    .dataframe tbody tr th:only-of-type {\n",
       "        vertical-align: middle;\n",
       "    }\n",
       "\n",
       "    .dataframe tbody tr th {\n",
       "        vertical-align: top;\n",
       "    }\n",
       "\n",
       "    .dataframe thead th {\n",
       "        text-align: right;\n",
       "    }\n",
       "</style>\n",
       "<table border=\"1\" class=\"dataframe\">\n",
       "  <thead>\n",
       "    <tr style=\"text-align: right;\">\n",
       "      <th></th>\n",
       "      <th>longitude</th>\n",
       "      <th>latitude</th>\n",
       "      <th>housing_median_age</th>\n",
       "      <th>total_rooms</th>\n",
       "      <th>total_bedrooms</th>\n",
       "      <th>population</th>\n",
       "      <th>households</th>\n",
       "      <th>median_income</th>\n",
       "      <th>median_house_value</th>\n",
       "    </tr>\n",
       "  </thead>\n",
       "  <tbody>\n",
       "    <tr>\n",
       "      <th>16995</th>\n",
       "      <td>-124.26</td>\n",
       "      <td>40.58</td>\n",
       "      <td>52.0</td>\n",
       "      <td>2217.0</td>\n",
       "      <td>394.0</td>\n",
       "      <td>907.0</td>\n",
       "      <td>369.0</td>\n",
       "      <td>2.3571</td>\n",
       "      <td>111400.0</td>\n",
       "    </tr>\n",
       "    <tr>\n",
       "      <th>16996</th>\n",
       "      <td>-124.27</td>\n",
       "      <td>40.69</td>\n",
       "      <td>36.0</td>\n",
       "      <td>2349.0</td>\n",
       "      <td>528.0</td>\n",
       "      <td>1194.0</td>\n",
       "      <td>465.0</td>\n",
       "      <td>2.5179</td>\n",
       "      <td>79000.0</td>\n",
       "    </tr>\n",
       "    <tr>\n",
       "      <th>16997</th>\n",
       "      <td>-124.30</td>\n",
       "      <td>41.84</td>\n",
       "      <td>17.0</td>\n",
       "      <td>2677.0</td>\n",
       "      <td>531.0</td>\n",
       "      <td>1244.0</td>\n",
       "      <td>456.0</td>\n",
       "      <td>3.0313</td>\n",
       "      <td>103600.0</td>\n",
       "    </tr>\n",
       "    <tr>\n",
       "      <th>16998</th>\n",
       "      <td>-124.30</td>\n",
       "      <td>41.80</td>\n",
       "      <td>19.0</td>\n",
       "      <td>2672.0</td>\n",
       "      <td>552.0</td>\n",
       "      <td>1298.0</td>\n",
       "      <td>478.0</td>\n",
       "      <td>1.9797</td>\n",
       "      <td>85800.0</td>\n",
       "    </tr>\n",
       "    <tr>\n",
       "      <th>16999</th>\n",
       "      <td>-124.35</td>\n",
       "      <td>40.54</td>\n",
       "      <td>52.0</td>\n",
       "      <td>1820.0</td>\n",
       "      <td>300.0</td>\n",
       "      <td>806.0</td>\n",
       "      <td>270.0</td>\n",
       "      <td>3.0147</td>\n",
       "      <td>94600.0</td>\n",
       "    </tr>\n",
       "  </tbody>\n",
       "</table>\n",
       "</div>"
      ],
      "text/plain": [
       "       longitude  latitude  housing_median_age  total_rooms  total_bedrooms  \\\n",
       "16995    -124.26     40.58                52.0       2217.0           394.0   \n",
       "16996    -124.27     40.69                36.0       2349.0           528.0   \n",
       "16997    -124.30     41.84                17.0       2677.0           531.0   \n",
       "16998    -124.30     41.80                19.0       2672.0           552.0   \n",
       "16999    -124.35     40.54                52.0       1820.0           300.0   \n",
       "\n",
       "       population  households  median_income  median_house_value  \n",
       "16995       907.0       369.0         2.3571            111400.0  \n",
       "16996      1194.0       465.0         2.5179             79000.0  \n",
       "16997      1244.0       456.0         3.0313            103600.0  \n",
       "16998      1298.0       478.0         1.9797             85800.0  \n",
       "16999       806.0       270.0         3.0147             94600.0  "
      ]
     },
     "execution_count": 51,
     "metadata": {},
     "output_type": "execute_result"
    }
   ],
   "source": [
    "# ¿Para revisar los últimos?, usamos tail()\n",
    "california_housing_dataframe.tail()"
   ]
  },
  {
   "cell_type": "markdown",
   "metadata": {},
   "source": [
    "<div class=\"alert alert-info\" role=\"alert\"><i class=\"fa fa-lightbulb-o\" aria-hidden=\"true\"></i> Los metodos anteriores son útiles para empezar a explorar los datos. El método describe(\"all\") en especial que nos ayudará tener muchisima información de nuestro dataset de manera muy rápida:</div>"
   ]
  },
  {
   "cell_type": "code",
   "execution_count": 52,
   "metadata": {},
   "outputs": [
    {
     "data": {
      "text/html": [
       "<div>\n",
       "<style scoped>\n",
       "    .dataframe tbody tr th:only-of-type {\n",
       "        vertical-align: middle;\n",
       "    }\n",
       "\n",
       "    .dataframe tbody tr th {\n",
       "        vertical-align: top;\n",
       "    }\n",
       "\n",
       "    .dataframe thead th {\n",
       "        text-align: right;\n",
       "    }\n",
       "</style>\n",
       "<table border=\"1\" class=\"dataframe\">\n",
       "  <thead>\n",
       "    <tr style=\"text-align: right;\">\n",
       "      <th></th>\n",
       "      <th>PassengerId</th>\n",
       "      <th>Survived</th>\n",
       "      <th>Pclass</th>\n",
       "      <th>Name</th>\n",
       "      <th>Sex</th>\n",
       "      <th>Age</th>\n",
       "      <th>SibSp</th>\n",
       "      <th>Parch</th>\n",
       "      <th>Ticket</th>\n",
       "      <th>Fare</th>\n",
       "      <th>Cabin</th>\n",
       "      <th>Embarked</th>\n",
       "    </tr>\n",
       "  </thead>\n",
       "  <tbody>\n",
       "    <tr>\n",
       "      <th>count</th>\n",
       "      <td>891.000000</td>\n",
       "      <td>891.000000</td>\n",
       "      <td>891.000000</td>\n",
       "      <td>891</td>\n",
       "      <td>891</td>\n",
       "      <td>714.000000</td>\n",
       "      <td>891.000000</td>\n",
       "      <td>891.000000</td>\n",
       "      <td>891</td>\n",
       "      <td>891.000000</td>\n",
       "      <td>204</td>\n",
       "      <td>889</td>\n",
       "    </tr>\n",
       "    <tr>\n",
       "      <th>unique</th>\n",
       "      <td>NaN</td>\n",
       "      <td>NaN</td>\n",
       "      <td>NaN</td>\n",
       "      <td>891</td>\n",
       "      <td>2</td>\n",
       "      <td>NaN</td>\n",
       "      <td>NaN</td>\n",
       "      <td>NaN</td>\n",
       "      <td>681</td>\n",
       "      <td>NaN</td>\n",
       "      <td>147</td>\n",
       "      <td>3</td>\n",
       "    </tr>\n",
       "    <tr>\n",
       "      <th>top</th>\n",
       "      <td>NaN</td>\n",
       "      <td>NaN</td>\n",
       "      <td>NaN</td>\n",
       "      <td>Kilgannon, Mr. Thomas J</td>\n",
       "      <td>male</td>\n",
       "      <td>NaN</td>\n",
       "      <td>NaN</td>\n",
       "      <td>NaN</td>\n",
       "      <td>347082</td>\n",
       "      <td>NaN</td>\n",
       "      <td>B96 B98</td>\n",
       "      <td>S</td>\n",
       "    </tr>\n",
       "    <tr>\n",
       "      <th>freq</th>\n",
       "      <td>NaN</td>\n",
       "      <td>NaN</td>\n",
       "      <td>NaN</td>\n",
       "      <td>1</td>\n",
       "      <td>577</td>\n",
       "      <td>NaN</td>\n",
       "      <td>NaN</td>\n",
       "      <td>NaN</td>\n",
       "      <td>7</td>\n",
       "      <td>NaN</td>\n",
       "      <td>4</td>\n",
       "      <td>644</td>\n",
       "    </tr>\n",
       "    <tr>\n",
       "      <th>mean</th>\n",
       "      <td>446.000000</td>\n",
       "      <td>0.383838</td>\n",
       "      <td>2.308642</td>\n",
       "      <td>NaN</td>\n",
       "      <td>NaN</td>\n",
       "      <td>29.699118</td>\n",
       "      <td>0.523008</td>\n",
       "      <td>0.381594</td>\n",
       "      <td>NaN</td>\n",
       "      <td>32.204208</td>\n",
       "      <td>NaN</td>\n",
       "      <td>NaN</td>\n",
       "    </tr>\n",
       "    <tr>\n",
       "      <th>std</th>\n",
       "      <td>257.353842</td>\n",
       "      <td>0.486592</td>\n",
       "      <td>0.836071</td>\n",
       "      <td>NaN</td>\n",
       "      <td>NaN</td>\n",
       "      <td>14.526497</td>\n",
       "      <td>1.102743</td>\n",
       "      <td>0.806057</td>\n",
       "      <td>NaN</td>\n",
       "      <td>49.693429</td>\n",
       "      <td>NaN</td>\n",
       "      <td>NaN</td>\n",
       "    </tr>\n",
       "    <tr>\n",
       "      <th>min</th>\n",
       "      <td>1.000000</td>\n",
       "      <td>0.000000</td>\n",
       "      <td>1.000000</td>\n",
       "      <td>NaN</td>\n",
       "      <td>NaN</td>\n",
       "      <td>0.420000</td>\n",
       "      <td>0.000000</td>\n",
       "      <td>0.000000</td>\n",
       "      <td>NaN</td>\n",
       "      <td>0.000000</td>\n",
       "      <td>NaN</td>\n",
       "      <td>NaN</td>\n",
       "    </tr>\n",
       "    <tr>\n",
       "      <th>25%</th>\n",
       "      <td>223.500000</td>\n",
       "      <td>0.000000</td>\n",
       "      <td>2.000000</td>\n",
       "      <td>NaN</td>\n",
       "      <td>NaN</td>\n",
       "      <td>20.125000</td>\n",
       "      <td>0.000000</td>\n",
       "      <td>0.000000</td>\n",
       "      <td>NaN</td>\n",
       "      <td>7.910400</td>\n",
       "      <td>NaN</td>\n",
       "      <td>NaN</td>\n",
       "    </tr>\n",
       "    <tr>\n",
       "      <th>50%</th>\n",
       "      <td>446.000000</td>\n",
       "      <td>0.000000</td>\n",
       "      <td>3.000000</td>\n",
       "      <td>NaN</td>\n",
       "      <td>NaN</td>\n",
       "      <td>28.000000</td>\n",
       "      <td>0.000000</td>\n",
       "      <td>0.000000</td>\n",
       "      <td>NaN</td>\n",
       "      <td>14.454200</td>\n",
       "      <td>NaN</td>\n",
       "      <td>NaN</td>\n",
       "    </tr>\n",
       "    <tr>\n",
       "      <th>75%</th>\n",
       "      <td>668.500000</td>\n",
       "      <td>1.000000</td>\n",
       "      <td>3.000000</td>\n",
       "      <td>NaN</td>\n",
       "      <td>NaN</td>\n",
       "      <td>38.000000</td>\n",
       "      <td>1.000000</td>\n",
       "      <td>0.000000</td>\n",
       "      <td>NaN</td>\n",
       "      <td>31.000000</td>\n",
       "      <td>NaN</td>\n",
       "      <td>NaN</td>\n",
       "    </tr>\n",
       "    <tr>\n",
       "      <th>max</th>\n",
       "      <td>891.000000</td>\n",
       "      <td>1.000000</td>\n",
       "      <td>3.000000</td>\n",
       "      <td>NaN</td>\n",
       "      <td>NaN</td>\n",
       "      <td>80.000000</td>\n",
       "      <td>8.000000</td>\n",
       "      <td>6.000000</td>\n",
       "      <td>NaN</td>\n",
       "      <td>512.329200</td>\n",
       "      <td>NaN</td>\n",
       "      <td>NaN</td>\n",
       "    </tr>\n",
       "  </tbody>\n",
       "</table>\n",
       "</div>"
      ],
      "text/plain": [
       "        PassengerId    Survived      Pclass                     Name   Sex  \\\n",
       "count    891.000000  891.000000  891.000000                      891   891   \n",
       "unique          NaN         NaN         NaN                      891     2   \n",
       "top             NaN         NaN         NaN  Kilgannon, Mr. Thomas J  male   \n",
       "freq            NaN         NaN         NaN                        1   577   \n",
       "mean     446.000000    0.383838    2.308642                      NaN   NaN   \n",
       "std      257.353842    0.486592    0.836071                      NaN   NaN   \n",
       "min        1.000000    0.000000    1.000000                      NaN   NaN   \n",
       "25%      223.500000    0.000000    2.000000                      NaN   NaN   \n",
       "50%      446.000000    0.000000    3.000000                      NaN   NaN   \n",
       "75%      668.500000    1.000000    3.000000                      NaN   NaN   \n",
       "max      891.000000    1.000000    3.000000                      NaN   NaN   \n",
       "\n",
       "               Age       SibSp       Parch  Ticket        Fare    Cabin  \\\n",
       "count   714.000000  891.000000  891.000000     891  891.000000      204   \n",
       "unique         NaN         NaN         NaN     681         NaN      147   \n",
       "top            NaN         NaN         NaN  347082         NaN  B96 B98   \n",
       "freq           NaN         NaN         NaN       7         NaN        4   \n",
       "mean     29.699118    0.523008    0.381594     NaN   32.204208      NaN   \n",
       "std      14.526497    1.102743    0.806057     NaN   49.693429      NaN   \n",
       "min       0.420000    0.000000    0.000000     NaN    0.000000      NaN   \n",
       "25%      20.125000    0.000000    0.000000     NaN    7.910400      NaN   \n",
       "50%      28.000000    0.000000    0.000000     NaN   14.454200      NaN   \n",
       "75%      38.000000    1.000000    0.000000     NaN   31.000000      NaN   \n",
       "max      80.000000    8.000000    6.000000     NaN  512.329200      NaN   \n",
       "\n",
       "       Embarked  \n",
       "count       889  \n",
       "unique        3  \n",
       "top           S  \n",
       "freq        644  \n",
       "mean        NaN  \n",
       "std         NaN  \n",
       "min         NaN  \n",
       "25%         NaN  \n",
       "50%         NaN  \n",
       "75%         NaN  \n",
       "max         NaN  "
      ]
     },
     "execution_count": 52,
     "metadata": {},
     "output_type": "execute_result"
    }
   ],
   "source": [
    "#cargar otro archivos de datos a memoria\n",
    "data = pd.read_csv('../data/train.csv')\n",
    "# describe() nos genera varios estadisticos importantes de nuestro dataset\n",
    "data.describe(include=\"all\")"
   ]
  },
  {
   "cell_type": "markdown",
   "metadata": {},
   "source": [
    "¿Qué podemos identificar en este dataset?"
   ]
  },
  {
   "cell_type": "markdown",
   "metadata": {},
   "source": [
    "<div class=\"panel-group\">\n",
    "  <div class=\"panel panel-default\">\n",
    "    <div class=\"panel-heading\">\n",
    "      <h4 class=\"panel-title\">\n",
    "        <a data-toggle=\"collapse\" href=\"#collapse1\"><i class=\"fa fa-bookmark\" aria-hidden=\"true\"></i> Algunas respuestas:</a>\n",
    "      </h4>\n",
    "    </div>\n",
    "    <div id=\"collapse1\" class=\"panel-collapse collapse\">\n",
    "      <ul class=\"list-group\">\n",
    "        <li class=\"list-group-item\">Name, Sex, Ticket, Cabin y Embarked son variables categoricas, las demás son numericas</li>\n",
    "        <li class=\"list-group-item\">Age, Cabin y Embarked contienen \"Missing Values\"</li>\n",
    "        <li class=\"list-group-item\">La mayor cantidad de personas embarcó en Southampton</li>\n",
    "        <li class=\"list-group-item\">El costo del boleto promedio parece estar alrededor de los 32 ¿libras?</li>\n",
    "      </ul>\n",
    "    </div>\n",
    "  </div>\n",
    "</div>"
   ]
  },
  {
   "cell_type": "markdown",
   "metadata": {},
   "source": [
    "<div class=\"alert alert-danger\" role=\"alert\"><i class=\"fa fa-pencil\" aria-hidden=\"true\"></i> <strong>¡Importante recordar!</strong> si usamos describe() sin el argumento include=\"all\" solo nos traerá estadisticos para las variables numericas</div>"
   ]
  },
  {
   "cell_type": "markdown",
   "metadata": {},
   "source": [
    "También podemos usar el metodo `value_counts()` con las variables categorias para tener una mejor noción de los factores de dichas variables"
   ]
  },
  {
   "cell_type": "code",
   "execution_count": 53,
   "metadata": {},
   "outputs": [
    {
     "data": {
      "text/plain": [
       "male      577\n",
       "female    314\n",
       "Name: Sex, dtype: int64"
      ]
     },
     "execution_count": 53,
     "metadata": {},
     "output_type": "execute_result"
    }
   ],
   "source": [
    "data[\"Sex\"].value_counts()"
   ]
  },
  {
   "cell_type": "markdown",
   "metadata": {},
   "source": [
    "Podemos usar el argumento `normalize=True` para normalizar los datos"
   ]
  },
  {
   "cell_type": "code",
   "execution_count": 54,
   "metadata": {},
   "outputs": [
    {
     "data": {
      "text/plain": [
       "0    0.616162\n",
       "1    0.383838\n",
       "Name: Survived, dtype: float64"
      ]
     },
     "execution_count": 54,
     "metadata": {},
     "output_type": "execute_result"
    }
   ],
   "source": [
    "data[\"Survived\"].value_counts(normalize=True)"
   ]
  },
  {
   "cell_type": "markdown",
   "metadata": {},
   "source": [
    "Podemos saber los valores que pueda tomar una variable nominal/categorica/discreta y el número de repeticiones"
   ]
  },
  {
   "cell_type": "code",
   "execution_count": 55,
   "metadata": {},
   "outputs": [
    {
     "data": {
      "text/plain": [
       "S    644\n",
       "C    168\n",
       "Q     77\n",
       "Name: Embarked, dtype: int64"
      ]
     },
     "execution_count": 55,
     "metadata": {},
     "output_type": "execute_result"
    }
   ],
   "source": [
    "data[\"Embarked\"].value_counts()"
   ]
  },
  {
   "cell_type": "markdown",
   "metadata": {},
   "source": [
    "Con el metodo `unique()` se nos regresa un arreglo con los distintos factores (valores posibles) que aparecen en la Serie (sin repetición)"
   ]
  },
  {
   "cell_type": "code",
   "execution_count": 56,
   "metadata": {},
   "outputs": [
    {
     "data": {
      "text/plain": [
       "array([nan, 'C85', 'C123', 'E46', 'G6', 'C103', 'D56', 'A6',\n",
       "       'C23 C25 C27', 'B78', 'D33', 'B30', 'C52', 'B28', 'C83', 'F33',\n",
       "       'F G73', 'E31', 'A5', 'D10 D12', 'D26', 'C110', 'B58 B60', 'E101',\n",
       "       'F E69', 'D47', 'B86', 'F2', 'C2', 'E33', 'B19', 'A7', 'C49', 'F4',\n",
       "       'A32', 'B4', 'B80', 'A31', 'D36', 'D15', 'C93', 'C78', 'D35',\n",
       "       'C87', 'B77', 'E67', 'B94', 'C125', 'C99', 'C118', 'D7', 'A19',\n",
       "       'B49', 'D', 'C22 C26', 'C106', 'C65', 'E36', 'C54',\n",
       "       'B57 B59 B63 B66', 'C7', 'E34', 'C32', 'B18', 'C124', 'C91', 'E40',\n",
       "       'T', 'C128', 'D37', 'B35', 'E50', 'C82', 'B96 B98', 'E10', 'E44',\n",
       "       'A34', 'C104', 'C111', 'C92', 'E38', 'D21', 'E12', 'E63', 'A14',\n",
       "       'B37', 'C30', 'D20', 'B79', 'E25', 'D46', 'B73', 'C95', 'B38',\n",
       "       'B39', 'B22', 'C86', 'C70', 'A16', 'C101', 'C68', 'A10', 'E68',\n",
       "       'B41', 'A20', 'D19', 'D50', 'D9', 'A23', 'B50', 'A26', 'D48',\n",
       "       'E58', 'C126', 'B71', 'B51 B53 B55', 'D49', 'B5', 'B20', 'F G63',\n",
       "       'C62 C64', 'E24', 'C90', 'C45', 'E8', 'B101', 'D45', 'C46', 'D30',\n",
       "       'E121', 'D11', 'E77', 'F38', 'B3', 'D6', 'B82 B84', 'D17', 'A36',\n",
       "       'B102', 'B69', 'E49', 'C47', 'D28', 'E17', 'A24', 'C50', 'B42',\n",
       "       'C148'], dtype=object)"
      ]
     },
     "execution_count": 56,
     "metadata": {},
     "output_type": "execute_result"
    }
   ],
   "source": [
    "data[\"Cabin\"].unique()"
   ]
  },
  {
   "cell_type": "markdown",
   "metadata": {},
   "source": [
    "contamos el número de valores únicos que contiene la variable \"Cabin\""
   ]
  },
  {
   "cell_type": "code",
   "execution_count": 100,
   "metadata": {},
   "outputs": [
    {
     "data": {
      "text/plain": [
       "148"
      ]
     },
     "execution_count": 100,
     "metadata": {},
     "output_type": "execute_result"
    }
   ],
   "source": [
    "len(data[\"Cabin\"].unique())"
   ]
  },
  {
   "cell_type": "markdown",
   "metadata": {},
   "source": [
    "### Ordenar los datos (Sort)"
   ]
  },
  {
   "cell_type": "markdown",
   "metadata": {},
   "source": [
    "Podemos acomodar los datos usando el método `sort_values()`"
   ]
  },
  {
   "cell_type": "code",
   "execution_count": 103,
   "metadata": {},
   "outputs": [
    {
     "data": {
      "text/html": [
       "<div>\n",
       "<style scoped>\n",
       "    .dataframe tbody tr th:only-of-type {\n",
       "        vertical-align: middle;\n",
       "    }\n",
       "\n",
       "    .dataframe tbody tr th {\n",
       "        vertical-align: top;\n",
       "    }\n",
       "\n",
       "    .dataframe thead th {\n",
       "        text-align: right;\n",
       "    }\n",
       "</style>\n",
       "<table border=\"1\" class=\"dataframe\">\n",
       "  <thead>\n",
       "    <tr style=\"text-align: right;\">\n",
       "      <th></th>\n",
       "      <th>PassengerId</th>\n",
       "      <th>Survived</th>\n",
       "      <th>Pclass</th>\n",
       "      <th>Sex</th>\n",
       "      <th>Age</th>\n",
       "      <th>SibSp</th>\n",
       "      <th>Parch</th>\n",
       "      <th>Ticket</th>\n",
       "      <th>Fare</th>\n",
       "      <th>Cabin</th>\n",
       "      <th>Embarked</th>\n",
       "    </tr>\n",
       "  </thead>\n",
       "  <tbody>\n",
       "    <tr>\n",
       "      <th>803</th>\n",
       "      <td>804</td>\n",
       "      <td>1</td>\n",
       "      <td>3</td>\n",
       "      <td>male</td>\n",
       "      <td>0.42</td>\n",
       "      <td>0</td>\n",
       "      <td>1</td>\n",
       "      <td>2625</td>\n",
       "      <td>8.5167</td>\n",
       "      <td>NaN</td>\n",
       "      <td>C</td>\n",
       "    </tr>\n",
       "    <tr>\n",
       "      <th>755</th>\n",
       "      <td>756</td>\n",
       "      <td>1</td>\n",
       "      <td>2</td>\n",
       "      <td>male</td>\n",
       "      <td>0.67</td>\n",
       "      <td>1</td>\n",
       "      <td>1</td>\n",
       "      <td>250649</td>\n",
       "      <td>14.5000</td>\n",
       "      <td>NaN</td>\n",
       "      <td>S</td>\n",
       "    </tr>\n",
       "    <tr>\n",
       "      <th>644</th>\n",
       "      <td>645</td>\n",
       "      <td>1</td>\n",
       "      <td>3</td>\n",
       "      <td>female</td>\n",
       "      <td>0.75</td>\n",
       "      <td>2</td>\n",
       "      <td>1</td>\n",
       "      <td>2666</td>\n",
       "      <td>19.2583</td>\n",
       "      <td>NaN</td>\n",
       "      <td>C</td>\n",
       "    </tr>\n",
       "    <tr>\n",
       "      <th>469</th>\n",
       "      <td>470</td>\n",
       "      <td>1</td>\n",
       "      <td>3</td>\n",
       "      <td>female</td>\n",
       "      <td>0.75</td>\n",
       "      <td>2</td>\n",
       "      <td>1</td>\n",
       "      <td>2666</td>\n",
       "      <td>19.2583</td>\n",
       "      <td>NaN</td>\n",
       "      <td>C</td>\n",
       "    </tr>\n",
       "    <tr>\n",
       "      <th>78</th>\n",
       "      <td>79</td>\n",
       "      <td>1</td>\n",
       "      <td>2</td>\n",
       "      <td>male</td>\n",
       "      <td>0.83</td>\n",
       "      <td>0</td>\n",
       "      <td>2</td>\n",
       "      <td>248738</td>\n",
       "      <td>29.0000</td>\n",
       "      <td>NaN</td>\n",
       "      <td>S</td>\n",
       "    </tr>\n",
       "  </tbody>\n",
       "</table>\n",
       "</div>"
      ],
      "text/plain": [
       "     PassengerId  Survived  Pclass     Sex   Age  SibSp  Parch  Ticket  \\\n",
       "803          804         1       3    male  0.42      0      1    2625   \n",
       "755          756         1       2    male  0.67      1      1  250649   \n",
       "644          645         1       3  female  0.75      2      1    2666   \n",
       "469          470         1       3  female  0.75      2      1    2666   \n",
       "78            79         1       2    male  0.83      0      2  248738   \n",
       "\n",
       "        Fare Cabin Embarked  \n",
       "803   8.5167   NaN        C  \n",
       "755  14.5000   NaN        S  \n",
       "644  19.2583   NaN        C  \n",
       "469  19.2583   NaN        C  \n",
       "78   29.0000   NaN        S  "
      ]
     },
     "execution_count": 103,
     "metadata": {},
     "output_type": "execute_result"
    }
   ],
   "source": [
    "data.sort_values(by=\"Age\").head()"
   ]
  },
  {
   "cell_type": "markdown",
   "metadata": {},
   "source": [
    "Podemos pasarme como parámetro el método de ordenación, como puede ser `quicksort`"
   ]
  },
  {
   "cell_type": "code",
   "execution_count": 105,
   "metadata": {},
   "outputs": [
    {
     "data": {
      "text/html": [
       "<div>\n",
       "<style scoped>\n",
       "    .dataframe tbody tr th:only-of-type {\n",
       "        vertical-align: middle;\n",
       "    }\n",
       "\n",
       "    .dataframe tbody tr th {\n",
       "        vertical-align: top;\n",
       "    }\n",
       "\n",
       "    .dataframe thead th {\n",
       "        text-align: right;\n",
       "    }\n",
       "</style>\n",
       "<table border=\"1\" class=\"dataframe\">\n",
       "  <thead>\n",
       "    <tr style=\"text-align: right;\">\n",
       "      <th></th>\n",
       "      <th>PassengerId</th>\n",
       "      <th>Survived</th>\n",
       "      <th>Pclass</th>\n",
       "      <th>Sex</th>\n",
       "      <th>Age</th>\n",
       "      <th>SibSp</th>\n",
       "      <th>Parch</th>\n",
       "      <th>Ticket</th>\n",
       "      <th>Fare</th>\n",
       "      <th>Cabin</th>\n",
       "      <th>Embarked</th>\n",
       "    </tr>\n",
       "  </thead>\n",
       "  <tbody>\n",
       "    <tr>\n",
       "      <th>803</th>\n",
       "      <td>804</td>\n",
       "      <td>1</td>\n",
       "      <td>3</td>\n",
       "      <td>male</td>\n",
       "      <td>0.42</td>\n",
       "      <td>0</td>\n",
       "      <td>1</td>\n",
       "      <td>2625</td>\n",
       "      <td>8.5167</td>\n",
       "      <td>NaN</td>\n",
       "      <td>C</td>\n",
       "    </tr>\n",
       "    <tr>\n",
       "      <th>755</th>\n",
       "      <td>756</td>\n",
       "      <td>1</td>\n",
       "      <td>2</td>\n",
       "      <td>male</td>\n",
       "      <td>0.67</td>\n",
       "      <td>1</td>\n",
       "      <td>1</td>\n",
       "      <td>250649</td>\n",
       "      <td>14.5000</td>\n",
       "      <td>NaN</td>\n",
       "      <td>S</td>\n",
       "    </tr>\n",
       "    <tr>\n",
       "      <th>644</th>\n",
       "      <td>645</td>\n",
       "      <td>1</td>\n",
       "      <td>3</td>\n",
       "      <td>female</td>\n",
       "      <td>0.75</td>\n",
       "      <td>2</td>\n",
       "      <td>1</td>\n",
       "      <td>2666</td>\n",
       "      <td>19.2583</td>\n",
       "      <td>NaN</td>\n",
       "      <td>C</td>\n",
       "    </tr>\n",
       "    <tr>\n",
       "      <th>469</th>\n",
       "      <td>470</td>\n",
       "      <td>1</td>\n",
       "      <td>3</td>\n",
       "      <td>female</td>\n",
       "      <td>0.75</td>\n",
       "      <td>2</td>\n",
       "      <td>1</td>\n",
       "      <td>2666</td>\n",
       "      <td>19.2583</td>\n",
       "      <td>NaN</td>\n",
       "      <td>C</td>\n",
       "    </tr>\n",
       "    <tr>\n",
       "      <th>78</th>\n",
       "      <td>79</td>\n",
       "      <td>1</td>\n",
       "      <td>2</td>\n",
       "      <td>male</td>\n",
       "      <td>0.83</td>\n",
       "      <td>0</td>\n",
       "      <td>2</td>\n",
       "      <td>248738</td>\n",
       "      <td>29.0000</td>\n",
       "      <td>NaN</td>\n",
       "      <td>S</td>\n",
       "    </tr>\n",
       "    <tr>\n",
       "      <th>831</th>\n",
       "      <td>832</td>\n",
       "      <td>1</td>\n",
       "      <td>2</td>\n",
       "      <td>male</td>\n",
       "      <td>0.83</td>\n",
       "      <td>1</td>\n",
       "      <td>1</td>\n",
       "      <td>29106</td>\n",
       "      <td>18.7500</td>\n",
       "      <td>NaN</td>\n",
       "      <td>S</td>\n",
       "    </tr>\n",
       "    <tr>\n",
       "      <th>305</th>\n",
       "      <td>306</td>\n",
       "      <td>1</td>\n",
       "      <td>1</td>\n",
       "      <td>male</td>\n",
       "      <td>0.92</td>\n",
       "      <td>1</td>\n",
       "      <td>2</td>\n",
       "      <td>113781</td>\n",
       "      <td>151.5500</td>\n",
       "      <td>C22 C26</td>\n",
       "      <td>S</td>\n",
       "    </tr>\n",
       "    <tr>\n",
       "      <th>827</th>\n",
       "      <td>828</td>\n",
       "      <td>1</td>\n",
       "      <td>2</td>\n",
       "      <td>male</td>\n",
       "      <td>1.00</td>\n",
       "      <td>0</td>\n",
       "      <td>2</td>\n",
       "      <td>S.C./PARIS 2079</td>\n",
       "      <td>37.0042</td>\n",
       "      <td>NaN</td>\n",
       "      <td>C</td>\n",
       "    </tr>\n",
       "    <tr>\n",
       "      <th>381</th>\n",
       "      <td>382</td>\n",
       "      <td>1</td>\n",
       "      <td>3</td>\n",
       "      <td>female</td>\n",
       "      <td>1.00</td>\n",
       "      <td>0</td>\n",
       "      <td>2</td>\n",
       "      <td>2653</td>\n",
       "      <td>15.7417</td>\n",
       "      <td>NaN</td>\n",
       "      <td>C</td>\n",
       "    </tr>\n",
       "    <tr>\n",
       "      <th>164</th>\n",
       "      <td>165</td>\n",
       "      <td>0</td>\n",
       "      <td>3</td>\n",
       "      <td>male</td>\n",
       "      <td>1.00</td>\n",
       "      <td>4</td>\n",
       "      <td>1</td>\n",
       "      <td>3101295</td>\n",
       "      <td>39.6875</td>\n",
       "      <td>NaN</td>\n",
       "      <td>S</td>\n",
       "    </tr>\n",
       "    <tr>\n",
       "      <th>183</th>\n",
       "      <td>184</td>\n",
       "      <td>1</td>\n",
       "      <td>2</td>\n",
       "      <td>male</td>\n",
       "      <td>1.00</td>\n",
       "      <td>2</td>\n",
       "      <td>1</td>\n",
       "      <td>230136</td>\n",
       "      <td>39.0000</td>\n",
       "      <td>F4</td>\n",
       "      <td>S</td>\n",
       "    </tr>\n",
       "    <tr>\n",
       "      <th>386</th>\n",
       "      <td>387</td>\n",
       "      <td>0</td>\n",
       "      <td>3</td>\n",
       "      <td>male</td>\n",
       "      <td>1.00</td>\n",
       "      <td>5</td>\n",
       "      <td>2</td>\n",
       "      <td>CA 2144</td>\n",
       "      <td>46.9000</td>\n",
       "      <td>NaN</td>\n",
       "      <td>S</td>\n",
       "    </tr>\n",
       "    <tr>\n",
       "      <th>172</th>\n",
       "      <td>173</td>\n",
       "      <td>1</td>\n",
       "      <td>3</td>\n",
       "      <td>female</td>\n",
       "      <td>1.00</td>\n",
       "      <td>1</td>\n",
       "      <td>1</td>\n",
       "      <td>347742</td>\n",
       "      <td>11.1333</td>\n",
       "      <td>NaN</td>\n",
       "      <td>S</td>\n",
       "    </tr>\n",
       "    <tr>\n",
       "      <th>788</th>\n",
       "      <td>789</td>\n",
       "      <td>1</td>\n",
       "      <td>3</td>\n",
       "      <td>male</td>\n",
       "      <td>1.00</td>\n",
       "      <td>1</td>\n",
       "      <td>2</td>\n",
       "      <td>C.A. 2315</td>\n",
       "      <td>20.5750</td>\n",
       "      <td>NaN</td>\n",
       "      <td>S</td>\n",
       "    </tr>\n",
       "    <tr>\n",
       "      <th>642</th>\n",
       "      <td>643</td>\n",
       "      <td>0</td>\n",
       "      <td>3</td>\n",
       "      <td>female</td>\n",
       "      <td>2.00</td>\n",
       "      <td>3</td>\n",
       "      <td>2</td>\n",
       "      <td>347088</td>\n",
       "      <td>27.9000</td>\n",
       "      <td>NaN</td>\n",
       "      <td>S</td>\n",
       "    </tr>\n",
       "    <tr>\n",
       "      <th>7</th>\n",
       "      <td>8</td>\n",
       "      <td>0</td>\n",
       "      <td>3</td>\n",
       "      <td>male</td>\n",
       "      <td>2.00</td>\n",
       "      <td>3</td>\n",
       "      <td>1</td>\n",
       "      <td>349909</td>\n",
       "      <td>21.0750</td>\n",
       "      <td>NaN</td>\n",
       "      <td>S</td>\n",
       "    </tr>\n",
       "    <tr>\n",
       "      <th>530</th>\n",
       "      <td>531</td>\n",
       "      <td>1</td>\n",
       "      <td>2</td>\n",
       "      <td>female</td>\n",
       "      <td>2.00</td>\n",
       "      <td>1</td>\n",
       "      <td>1</td>\n",
       "      <td>26360</td>\n",
       "      <td>26.0000</td>\n",
       "      <td>NaN</td>\n",
       "      <td>S</td>\n",
       "    </tr>\n",
       "    <tr>\n",
       "      <th>297</th>\n",
       "      <td>298</td>\n",
       "      <td>0</td>\n",
       "      <td>1</td>\n",
       "      <td>female</td>\n",
       "      <td>2.00</td>\n",
       "      <td>1</td>\n",
       "      <td>2</td>\n",
       "      <td>113781</td>\n",
       "      <td>151.5500</td>\n",
       "      <td>C22 C26</td>\n",
       "      <td>S</td>\n",
       "    </tr>\n",
       "    <tr>\n",
       "      <th>824</th>\n",
       "      <td>825</td>\n",
       "      <td>0</td>\n",
       "      <td>3</td>\n",
       "      <td>male</td>\n",
       "      <td>2.00</td>\n",
       "      <td>4</td>\n",
       "      <td>1</td>\n",
       "      <td>3101295</td>\n",
       "      <td>39.6875</td>\n",
       "      <td>NaN</td>\n",
       "      <td>S</td>\n",
       "    </tr>\n",
       "    <tr>\n",
       "      <th>205</th>\n",
       "      <td>206</td>\n",
       "      <td>0</td>\n",
       "      <td>3</td>\n",
       "      <td>female</td>\n",
       "      <td>2.00</td>\n",
       "      <td>0</td>\n",
       "      <td>1</td>\n",
       "      <td>347054</td>\n",
       "      <td>10.4625</td>\n",
       "      <td>G6</td>\n",
       "      <td>S</td>\n",
       "    </tr>\n",
       "    <tr>\n",
       "      <th>119</th>\n",
       "      <td>120</td>\n",
       "      <td>0</td>\n",
       "      <td>3</td>\n",
       "      <td>female</td>\n",
       "      <td>2.00</td>\n",
       "      <td>4</td>\n",
       "      <td>2</td>\n",
       "      <td>347082</td>\n",
       "      <td>31.2750</td>\n",
       "      <td>NaN</td>\n",
       "      <td>S</td>\n",
       "    </tr>\n",
       "    <tr>\n",
       "      <th>340</th>\n",
       "      <td>341</td>\n",
       "      <td>1</td>\n",
       "      <td>2</td>\n",
       "      <td>male</td>\n",
       "      <td>2.00</td>\n",
       "      <td>1</td>\n",
       "      <td>1</td>\n",
       "      <td>230080</td>\n",
       "      <td>26.0000</td>\n",
       "      <td>F2</td>\n",
       "      <td>S</td>\n",
       "    </tr>\n",
       "    <tr>\n",
       "      <th>479</th>\n",
       "      <td>480</td>\n",
       "      <td>1</td>\n",
       "      <td>3</td>\n",
       "      <td>female</td>\n",
       "      <td>2.00</td>\n",
       "      <td>0</td>\n",
       "      <td>1</td>\n",
       "      <td>3101298</td>\n",
       "      <td>12.2875</td>\n",
       "      <td>NaN</td>\n",
       "      <td>S</td>\n",
       "    </tr>\n",
       "    <tr>\n",
       "      <th>16</th>\n",
       "      <td>17</td>\n",
       "      <td>0</td>\n",
       "      <td>3</td>\n",
       "      <td>male</td>\n",
       "      <td>2.00</td>\n",
       "      <td>4</td>\n",
       "      <td>1</td>\n",
       "      <td>382652</td>\n",
       "      <td>29.1250</td>\n",
       "      <td>NaN</td>\n",
       "      <td>Q</td>\n",
       "    </tr>\n",
       "    <tr>\n",
       "      <th>348</th>\n",
       "      <td>349</td>\n",
       "      <td>1</td>\n",
       "      <td>3</td>\n",
       "      <td>male</td>\n",
       "      <td>3.00</td>\n",
       "      <td>1</td>\n",
       "      <td>1</td>\n",
       "      <td>C.A. 37671</td>\n",
       "      <td>15.9000</td>\n",
       "      <td>NaN</td>\n",
       "      <td>S</td>\n",
       "    </tr>\n",
       "    <tr>\n",
       "      <th>407</th>\n",
       "      <td>408</td>\n",
       "      <td>1</td>\n",
       "      <td>2</td>\n",
       "      <td>male</td>\n",
       "      <td>3.00</td>\n",
       "      <td>1</td>\n",
       "      <td>1</td>\n",
       "      <td>29106</td>\n",
       "      <td>18.7500</td>\n",
       "      <td>NaN</td>\n",
       "      <td>S</td>\n",
       "    </tr>\n",
       "    <tr>\n",
       "      <th>374</th>\n",
       "      <td>375</td>\n",
       "      <td>0</td>\n",
       "      <td>3</td>\n",
       "      <td>female</td>\n",
       "      <td>3.00</td>\n",
       "      <td>3</td>\n",
       "      <td>1</td>\n",
       "      <td>349909</td>\n",
       "      <td>21.0750</td>\n",
       "      <td>NaN</td>\n",
       "      <td>S</td>\n",
       "    </tr>\n",
       "    <tr>\n",
       "      <th>261</th>\n",
       "      <td>262</td>\n",
       "      <td>1</td>\n",
       "      <td>3</td>\n",
       "      <td>male</td>\n",
       "      <td>3.00</td>\n",
       "      <td>4</td>\n",
       "      <td>2</td>\n",
       "      <td>347077</td>\n",
       "      <td>31.3875</td>\n",
       "      <td>NaN</td>\n",
       "      <td>S</td>\n",
       "    </tr>\n",
       "    <tr>\n",
       "      <th>43</th>\n",
       "      <td>44</td>\n",
       "      <td>1</td>\n",
       "      <td>2</td>\n",
       "      <td>female</td>\n",
       "      <td>3.00</td>\n",
       "      <td>1</td>\n",
       "      <td>2</td>\n",
       "      <td>SC/Paris 2123</td>\n",
       "      <td>41.5792</td>\n",
       "      <td>NaN</td>\n",
       "      <td>C</td>\n",
       "    </tr>\n",
       "    <tr>\n",
       "      <th>193</th>\n",
       "      <td>194</td>\n",
       "      <td>1</td>\n",
       "      <td>2</td>\n",
       "      <td>male</td>\n",
       "      <td>3.00</td>\n",
       "      <td>1</td>\n",
       "      <td>1</td>\n",
       "      <td>230080</td>\n",
       "      <td>26.0000</td>\n",
       "      <td>F2</td>\n",
       "      <td>S</td>\n",
       "    </tr>\n",
       "    <tr>\n",
       "      <th>...</th>\n",
       "      <td>...</td>\n",
       "      <td>...</td>\n",
       "      <td>...</td>\n",
       "      <td>...</td>\n",
       "      <td>...</td>\n",
       "      <td>...</td>\n",
       "      <td>...</td>\n",
       "      <td>...</td>\n",
       "      <td>...</td>\n",
       "      <td>...</td>\n",
       "      <td>...</td>\n",
       "    </tr>\n",
       "    <tr>\n",
       "      <th>718</th>\n",
       "      <td>719</td>\n",
       "      <td>0</td>\n",
       "      <td>3</td>\n",
       "      <td>male</td>\n",
       "      <td>NaN</td>\n",
       "      <td>0</td>\n",
       "      <td>0</td>\n",
       "      <td>36568</td>\n",
       "      <td>15.5000</td>\n",
       "      <td>NaN</td>\n",
       "      <td>Q</td>\n",
       "    </tr>\n",
       "    <tr>\n",
       "      <th>727</th>\n",
       "      <td>728</td>\n",
       "      <td>1</td>\n",
       "      <td>3</td>\n",
       "      <td>female</td>\n",
       "      <td>NaN</td>\n",
       "      <td>0</td>\n",
       "      <td>0</td>\n",
       "      <td>36866</td>\n",
       "      <td>7.7375</td>\n",
       "      <td>NaN</td>\n",
       "      <td>Q</td>\n",
       "    </tr>\n",
       "    <tr>\n",
       "      <th>732</th>\n",
       "      <td>733</td>\n",
       "      <td>0</td>\n",
       "      <td>2</td>\n",
       "      <td>male</td>\n",
       "      <td>NaN</td>\n",
       "      <td>0</td>\n",
       "      <td>0</td>\n",
       "      <td>239855</td>\n",
       "      <td>0.0000</td>\n",
       "      <td>NaN</td>\n",
       "      <td>S</td>\n",
       "    </tr>\n",
       "    <tr>\n",
       "      <th>738</th>\n",
       "      <td>739</td>\n",
       "      <td>0</td>\n",
       "      <td>3</td>\n",
       "      <td>male</td>\n",
       "      <td>NaN</td>\n",
       "      <td>0</td>\n",
       "      <td>0</td>\n",
       "      <td>349201</td>\n",
       "      <td>7.8958</td>\n",
       "      <td>NaN</td>\n",
       "      <td>S</td>\n",
       "    </tr>\n",
       "    <tr>\n",
       "      <th>739</th>\n",
       "      <td>740</td>\n",
       "      <td>0</td>\n",
       "      <td>3</td>\n",
       "      <td>male</td>\n",
       "      <td>NaN</td>\n",
       "      <td>0</td>\n",
       "      <td>0</td>\n",
       "      <td>349218</td>\n",
       "      <td>7.8958</td>\n",
       "      <td>NaN</td>\n",
       "      <td>S</td>\n",
       "    </tr>\n",
       "    <tr>\n",
       "      <th>740</th>\n",
       "      <td>741</td>\n",
       "      <td>1</td>\n",
       "      <td>1</td>\n",
       "      <td>male</td>\n",
       "      <td>NaN</td>\n",
       "      <td>0</td>\n",
       "      <td>0</td>\n",
       "      <td>16988</td>\n",
       "      <td>30.0000</td>\n",
       "      <td>D45</td>\n",
       "      <td>S</td>\n",
       "    </tr>\n",
       "    <tr>\n",
       "      <th>760</th>\n",
       "      <td>761</td>\n",
       "      <td>0</td>\n",
       "      <td>3</td>\n",
       "      <td>male</td>\n",
       "      <td>NaN</td>\n",
       "      <td>0</td>\n",
       "      <td>0</td>\n",
       "      <td>358585</td>\n",
       "      <td>14.5000</td>\n",
       "      <td>NaN</td>\n",
       "      <td>S</td>\n",
       "    </tr>\n",
       "    <tr>\n",
       "      <th>766</th>\n",
       "      <td>767</td>\n",
       "      <td>0</td>\n",
       "      <td>1</td>\n",
       "      <td>male</td>\n",
       "      <td>NaN</td>\n",
       "      <td>0</td>\n",
       "      <td>0</td>\n",
       "      <td>112379</td>\n",
       "      <td>39.6000</td>\n",
       "      <td>NaN</td>\n",
       "      <td>C</td>\n",
       "    </tr>\n",
       "    <tr>\n",
       "      <th>768</th>\n",
       "      <td>769</td>\n",
       "      <td>0</td>\n",
       "      <td>3</td>\n",
       "      <td>male</td>\n",
       "      <td>NaN</td>\n",
       "      <td>1</td>\n",
       "      <td>0</td>\n",
       "      <td>371110</td>\n",
       "      <td>24.1500</td>\n",
       "      <td>NaN</td>\n",
       "      <td>Q</td>\n",
       "    </tr>\n",
       "    <tr>\n",
       "      <th>773</th>\n",
       "      <td>774</td>\n",
       "      <td>0</td>\n",
       "      <td>3</td>\n",
       "      <td>male</td>\n",
       "      <td>NaN</td>\n",
       "      <td>0</td>\n",
       "      <td>0</td>\n",
       "      <td>2674</td>\n",
       "      <td>7.2250</td>\n",
       "      <td>NaN</td>\n",
       "      <td>C</td>\n",
       "    </tr>\n",
       "    <tr>\n",
       "      <th>776</th>\n",
       "      <td>777</td>\n",
       "      <td>0</td>\n",
       "      <td>3</td>\n",
       "      <td>male</td>\n",
       "      <td>NaN</td>\n",
       "      <td>0</td>\n",
       "      <td>0</td>\n",
       "      <td>383121</td>\n",
       "      <td>7.7500</td>\n",
       "      <td>F38</td>\n",
       "      <td>Q</td>\n",
       "    </tr>\n",
       "    <tr>\n",
       "      <th>778</th>\n",
       "      <td>779</td>\n",
       "      <td>0</td>\n",
       "      <td>3</td>\n",
       "      <td>male</td>\n",
       "      <td>NaN</td>\n",
       "      <td>0</td>\n",
       "      <td>0</td>\n",
       "      <td>36865</td>\n",
       "      <td>7.7375</td>\n",
       "      <td>NaN</td>\n",
       "      <td>Q</td>\n",
       "    </tr>\n",
       "    <tr>\n",
       "      <th>783</th>\n",
       "      <td>784</td>\n",
       "      <td>0</td>\n",
       "      <td>3</td>\n",
       "      <td>male</td>\n",
       "      <td>NaN</td>\n",
       "      <td>1</td>\n",
       "      <td>2</td>\n",
       "      <td>W./C. 6607</td>\n",
       "      <td>23.4500</td>\n",
       "      <td>NaN</td>\n",
       "      <td>S</td>\n",
       "    </tr>\n",
       "    <tr>\n",
       "      <th>790</th>\n",
       "      <td>791</td>\n",
       "      <td>0</td>\n",
       "      <td>3</td>\n",
       "      <td>male</td>\n",
       "      <td>NaN</td>\n",
       "      <td>0</td>\n",
       "      <td>0</td>\n",
       "      <td>12460</td>\n",
       "      <td>7.7500</td>\n",
       "      <td>NaN</td>\n",
       "      <td>Q</td>\n",
       "    </tr>\n",
       "    <tr>\n",
       "      <th>792</th>\n",
       "      <td>793</td>\n",
       "      <td>0</td>\n",
       "      <td>3</td>\n",
       "      <td>female</td>\n",
       "      <td>NaN</td>\n",
       "      <td>8</td>\n",
       "      <td>2</td>\n",
       "      <td>CA. 2343</td>\n",
       "      <td>69.5500</td>\n",
       "      <td>NaN</td>\n",
       "      <td>S</td>\n",
       "    </tr>\n",
       "    <tr>\n",
       "      <th>793</th>\n",
       "      <td>794</td>\n",
       "      <td>0</td>\n",
       "      <td>1</td>\n",
       "      <td>male</td>\n",
       "      <td>NaN</td>\n",
       "      <td>0</td>\n",
       "      <td>0</td>\n",
       "      <td>PC 17600</td>\n",
       "      <td>30.6958</td>\n",
       "      <td>NaN</td>\n",
       "      <td>C</td>\n",
       "    </tr>\n",
       "    <tr>\n",
       "      <th>815</th>\n",
       "      <td>816</td>\n",
       "      <td>0</td>\n",
       "      <td>1</td>\n",
       "      <td>male</td>\n",
       "      <td>NaN</td>\n",
       "      <td>0</td>\n",
       "      <td>0</td>\n",
       "      <td>112058</td>\n",
       "      <td>0.0000</td>\n",
       "      <td>B102</td>\n",
       "      <td>S</td>\n",
       "    </tr>\n",
       "    <tr>\n",
       "      <th>825</th>\n",
       "      <td>826</td>\n",
       "      <td>0</td>\n",
       "      <td>3</td>\n",
       "      <td>male</td>\n",
       "      <td>NaN</td>\n",
       "      <td>0</td>\n",
       "      <td>0</td>\n",
       "      <td>368323</td>\n",
       "      <td>6.9500</td>\n",
       "      <td>NaN</td>\n",
       "      <td>Q</td>\n",
       "    </tr>\n",
       "    <tr>\n",
       "      <th>826</th>\n",
       "      <td>827</td>\n",
       "      <td>0</td>\n",
       "      <td>3</td>\n",
       "      <td>male</td>\n",
       "      <td>NaN</td>\n",
       "      <td>0</td>\n",
       "      <td>0</td>\n",
       "      <td>1601</td>\n",
       "      <td>56.4958</td>\n",
       "      <td>NaN</td>\n",
       "      <td>S</td>\n",
       "    </tr>\n",
       "    <tr>\n",
       "      <th>828</th>\n",
       "      <td>829</td>\n",
       "      <td>1</td>\n",
       "      <td>3</td>\n",
       "      <td>male</td>\n",
       "      <td>NaN</td>\n",
       "      <td>0</td>\n",
       "      <td>0</td>\n",
       "      <td>367228</td>\n",
       "      <td>7.7500</td>\n",
       "      <td>NaN</td>\n",
       "      <td>Q</td>\n",
       "    </tr>\n",
       "    <tr>\n",
       "      <th>832</th>\n",
       "      <td>833</td>\n",
       "      <td>0</td>\n",
       "      <td>3</td>\n",
       "      <td>male</td>\n",
       "      <td>NaN</td>\n",
       "      <td>0</td>\n",
       "      <td>0</td>\n",
       "      <td>2671</td>\n",
       "      <td>7.2292</td>\n",
       "      <td>NaN</td>\n",
       "      <td>C</td>\n",
       "    </tr>\n",
       "    <tr>\n",
       "      <th>837</th>\n",
       "      <td>838</td>\n",
       "      <td>0</td>\n",
       "      <td>3</td>\n",
       "      <td>male</td>\n",
       "      <td>NaN</td>\n",
       "      <td>0</td>\n",
       "      <td>0</td>\n",
       "      <td>392092</td>\n",
       "      <td>8.0500</td>\n",
       "      <td>NaN</td>\n",
       "      <td>S</td>\n",
       "    </tr>\n",
       "    <tr>\n",
       "      <th>839</th>\n",
       "      <td>840</td>\n",
       "      <td>1</td>\n",
       "      <td>1</td>\n",
       "      <td>male</td>\n",
       "      <td>NaN</td>\n",
       "      <td>0</td>\n",
       "      <td>0</td>\n",
       "      <td>11774</td>\n",
       "      <td>29.7000</td>\n",
       "      <td>C47</td>\n",
       "      <td>C</td>\n",
       "    </tr>\n",
       "    <tr>\n",
       "      <th>846</th>\n",
       "      <td>847</td>\n",
       "      <td>0</td>\n",
       "      <td>3</td>\n",
       "      <td>male</td>\n",
       "      <td>NaN</td>\n",
       "      <td>8</td>\n",
       "      <td>2</td>\n",
       "      <td>CA. 2343</td>\n",
       "      <td>69.5500</td>\n",
       "      <td>NaN</td>\n",
       "      <td>S</td>\n",
       "    </tr>\n",
       "    <tr>\n",
       "      <th>849</th>\n",
       "      <td>850</td>\n",
       "      <td>1</td>\n",
       "      <td>1</td>\n",
       "      <td>female</td>\n",
       "      <td>NaN</td>\n",
       "      <td>1</td>\n",
       "      <td>0</td>\n",
       "      <td>17453</td>\n",
       "      <td>89.1042</td>\n",
       "      <td>C92</td>\n",
       "      <td>C</td>\n",
       "    </tr>\n",
       "    <tr>\n",
       "      <th>859</th>\n",
       "      <td>860</td>\n",
       "      <td>0</td>\n",
       "      <td>3</td>\n",
       "      <td>male</td>\n",
       "      <td>NaN</td>\n",
       "      <td>0</td>\n",
       "      <td>0</td>\n",
       "      <td>2629</td>\n",
       "      <td>7.2292</td>\n",
       "      <td>NaN</td>\n",
       "      <td>C</td>\n",
       "    </tr>\n",
       "    <tr>\n",
       "      <th>863</th>\n",
       "      <td>864</td>\n",
       "      <td>0</td>\n",
       "      <td>3</td>\n",
       "      <td>female</td>\n",
       "      <td>NaN</td>\n",
       "      <td>8</td>\n",
       "      <td>2</td>\n",
       "      <td>CA. 2343</td>\n",
       "      <td>69.5500</td>\n",
       "      <td>NaN</td>\n",
       "      <td>S</td>\n",
       "    </tr>\n",
       "    <tr>\n",
       "      <th>868</th>\n",
       "      <td>869</td>\n",
       "      <td>0</td>\n",
       "      <td>3</td>\n",
       "      <td>male</td>\n",
       "      <td>NaN</td>\n",
       "      <td>0</td>\n",
       "      <td>0</td>\n",
       "      <td>345777</td>\n",
       "      <td>9.5000</td>\n",
       "      <td>NaN</td>\n",
       "      <td>S</td>\n",
       "    </tr>\n",
       "    <tr>\n",
       "      <th>878</th>\n",
       "      <td>879</td>\n",
       "      <td>0</td>\n",
       "      <td>3</td>\n",
       "      <td>male</td>\n",
       "      <td>NaN</td>\n",
       "      <td>0</td>\n",
       "      <td>0</td>\n",
       "      <td>349217</td>\n",
       "      <td>7.8958</td>\n",
       "      <td>NaN</td>\n",
       "      <td>S</td>\n",
       "    </tr>\n",
       "    <tr>\n",
       "      <th>888</th>\n",
       "      <td>889</td>\n",
       "      <td>0</td>\n",
       "      <td>3</td>\n",
       "      <td>female</td>\n",
       "      <td>NaN</td>\n",
       "      <td>1</td>\n",
       "      <td>2</td>\n",
       "      <td>W./C. 6607</td>\n",
       "      <td>23.4500</td>\n",
       "      <td>NaN</td>\n",
       "      <td>S</td>\n",
       "    </tr>\n",
       "  </tbody>\n",
       "</table>\n",
       "<p>891 rows × 11 columns</p>\n",
       "</div>"
      ],
      "text/plain": [
       "     PassengerId  Survived  Pclass     Sex   Age  SibSp  Parch  \\\n",
       "803          804         1       3    male  0.42      0      1   \n",
       "755          756         1       2    male  0.67      1      1   \n",
       "644          645         1       3  female  0.75      2      1   \n",
       "469          470         1       3  female  0.75      2      1   \n",
       "78            79         1       2    male  0.83      0      2   \n",
       "831          832         1       2    male  0.83      1      1   \n",
       "305          306         1       1    male  0.92      1      2   \n",
       "827          828         1       2    male  1.00      0      2   \n",
       "381          382         1       3  female  1.00      0      2   \n",
       "164          165         0       3    male  1.00      4      1   \n",
       "183          184         1       2    male  1.00      2      1   \n",
       "386          387         0       3    male  1.00      5      2   \n",
       "172          173         1       3  female  1.00      1      1   \n",
       "788          789         1       3    male  1.00      1      2   \n",
       "642          643         0       3  female  2.00      3      2   \n",
       "7              8         0       3    male  2.00      3      1   \n",
       "530          531         1       2  female  2.00      1      1   \n",
       "297          298         0       1  female  2.00      1      2   \n",
       "824          825         0       3    male  2.00      4      1   \n",
       "205          206         0       3  female  2.00      0      1   \n",
       "119          120         0       3  female  2.00      4      2   \n",
       "340          341         1       2    male  2.00      1      1   \n",
       "479          480         1       3  female  2.00      0      1   \n",
       "16            17         0       3    male  2.00      4      1   \n",
       "348          349         1       3    male  3.00      1      1   \n",
       "407          408         1       2    male  3.00      1      1   \n",
       "374          375         0       3  female  3.00      3      1   \n",
       "261          262         1       3    male  3.00      4      2   \n",
       "43            44         1       2  female  3.00      1      2   \n",
       "193          194         1       2    male  3.00      1      1   \n",
       "..           ...       ...     ...     ...   ...    ...    ...   \n",
       "718          719         0       3    male   NaN      0      0   \n",
       "727          728         1       3  female   NaN      0      0   \n",
       "732          733         0       2    male   NaN      0      0   \n",
       "738          739         0       3    male   NaN      0      0   \n",
       "739          740         0       3    male   NaN      0      0   \n",
       "740          741         1       1    male   NaN      0      0   \n",
       "760          761         0       3    male   NaN      0      0   \n",
       "766          767         0       1    male   NaN      0      0   \n",
       "768          769         0       3    male   NaN      1      0   \n",
       "773          774         0       3    male   NaN      0      0   \n",
       "776          777         0       3    male   NaN      0      0   \n",
       "778          779         0       3    male   NaN      0      0   \n",
       "783          784         0       3    male   NaN      1      2   \n",
       "790          791         0       3    male   NaN      0      0   \n",
       "792          793         0       3  female   NaN      8      2   \n",
       "793          794         0       1    male   NaN      0      0   \n",
       "815          816         0       1    male   NaN      0      0   \n",
       "825          826         0       3    male   NaN      0      0   \n",
       "826          827         0       3    male   NaN      0      0   \n",
       "828          829         1       3    male   NaN      0      0   \n",
       "832          833         0       3    male   NaN      0      0   \n",
       "837          838         0       3    male   NaN      0      0   \n",
       "839          840         1       1    male   NaN      0      0   \n",
       "846          847         0       3    male   NaN      8      2   \n",
       "849          850         1       1  female   NaN      1      0   \n",
       "859          860         0       3    male   NaN      0      0   \n",
       "863          864         0       3  female   NaN      8      2   \n",
       "868          869         0       3    male   NaN      0      0   \n",
       "878          879         0       3    male   NaN      0      0   \n",
       "888          889         0       3  female   NaN      1      2   \n",
       "\n",
       "              Ticket      Fare    Cabin Embarked  \n",
       "803             2625    8.5167      NaN        C  \n",
       "755           250649   14.5000      NaN        S  \n",
       "644             2666   19.2583      NaN        C  \n",
       "469             2666   19.2583      NaN        C  \n",
       "78            248738   29.0000      NaN        S  \n",
       "831            29106   18.7500      NaN        S  \n",
       "305           113781  151.5500  C22 C26        S  \n",
       "827  S.C./PARIS 2079   37.0042      NaN        C  \n",
       "381             2653   15.7417      NaN        C  \n",
       "164          3101295   39.6875      NaN        S  \n",
       "183           230136   39.0000       F4        S  \n",
       "386          CA 2144   46.9000      NaN        S  \n",
       "172           347742   11.1333      NaN        S  \n",
       "788        C.A. 2315   20.5750      NaN        S  \n",
       "642           347088   27.9000      NaN        S  \n",
       "7             349909   21.0750      NaN        S  \n",
       "530            26360   26.0000      NaN        S  \n",
       "297           113781  151.5500  C22 C26        S  \n",
       "824          3101295   39.6875      NaN        S  \n",
       "205           347054   10.4625       G6        S  \n",
       "119           347082   31.2750      NaN        S  \n",
       "340           230080   26.0000       F2        S  \n",
       "479          3101298   12.2875      NaN        S  \n",
       "16            382652   29.1250      NaN        Q  \n",
       "348       C.A. 37671   15.9000      NaN        S  \n",
       "407            29106   18.7500      NaN        S  \n",
       "374           349909   21.0750      NaN        S  \n",
       "261           347077   31.3875      NaN        S  \n",
       "43     SC/Paris 2123   41.5792      NaN        C  \n",
       "193           230080   26.0000       F2        S  \n",
       "..               ...       ...      ...      ...  \n",
       "718            36568   15.5000      NaN        Q  \n",
       "727            36866    7.7375      NaN        Q  \n",
       "732           239855    0.0000      NaN        S  \n",
       "738           349201    7.8958      NaN        S  \n",
       "739           349218    7.8958      NaN        S  \n",
       "740            16988   30.0000      D45        S  \n",
       "760           358585   14.5000      NaN        S  \n",
       "766           112379   39.6000      NaN        C  \n",
       "768           371110   24.1500      NaN        Q  \n",
       "773             2674    7.2250      NaN        C  \n",
       "776           383121    7.7500      F38        Q  \n",
       "778            36865    7.7375      NaN        Q  \n",
       "783       W./C. 6607   23.4500      NaN        S  \n",
       "790            12460    7.7500      NaN        Q  \n",
       "792         CA. 2343   69.5500      NaN        S  \n",
       "793         PC 17600   30.6958      NaN        C  \n",
       "815           112058    0.0000     B102        S  \n",
       "825           368323    6.9500      NaN        Q  \n",
       "826             1601   56.4958      NaN        S  \n",
       "828           367228    7.7500      NaN        Q  \n",
       "832             2671    7.2292      NaN        C  \n",
       "837           392092    8.0500      NaN        S  \n",
       "839            11774   29.7000      C47        C  \n",
       "846         CA. 2343   69.5500      NaN        S  \n",
       "849            17453   89.1042      C92        C  \n",
       "859             2629    7.2292      NaN        C  \n",
       "863         CA. 2343   69.5500      NaN        S  \n",
       "868           345777    9.5000      NaN        S  \n",
       "878           349217    7.8958      NaN        S  \n",
       "888       W./C. 6607   23.4500      NaN        S  \n",
       "\n",
       "[891 rows x 11 columns]"
      ]
     },
     "execution_count": 105,
     "metadata": {},
     "output_type": "execute_result"
    }
   ],
   "source": [
    "data.sort_values(by =\"Age\" , axis=0, ascending=True, inplace=False, kind='quicksort', na_position='last')"
   ]
  },
  {
   "cell_type": "markdown",
   "metadata": {},
   "source": [
    "¿Pero y que tal si una columna no nos parece?"
   ]
  },
  {
   "cell_type": "markdown",
   "metadata": {},
   "source": [
    "Pues podemos borrar columnas usando los comando del, pop(), drop()\n",
    "- del: modifica nuestro dataframe borrando la Serie seleccionada.\n",
    "- pop(): borra la Serie pero la regresa como un output\n",
    "- drop(): regresa un dataframe sin la Serie, pero no modifica el dataframe original"
   ]
  },
  {
   "cell_type": "markdown",
   "metadata": {},
   "source": [
    "Por lo pronto yo no le veo mucho sentido a la columna \"Name\", (hay gente que si https://www.kaggle.com/anthonyg/titanic/lucky-names/output)\n",
    "\n",
    "Podemos quitar usando `del` que es la manera mas sencilla"
   ]
  },
  {
   "cell_type": "code",
   "execution_count": 60,
   "metadata": {},
   "outputs": [],
   "source": [
    "del data[\"Name\"]"
   ]
  },
  {
   "cell_type": "markdown",
   "metadata": {},
   "source": [
    "ahora el `dataframe` sólo tiene 11 variables, debido a que eliminamos la columna `Name`"
   ]
  },
  {
   "cell_type": "code",
   "execution_count": 61,
   "metadata": {},
   "outputs": [
    {
     "data": {
      "text/plain": [
       "11"
      ]
     },
     "execution_count": 61,
     "metadata": {},
     "output_type": "execute_result"
    }
   ],
   "source": [
    "len(data.columns)"
   ]
  },
  {
   "cell_type": "markdown",
   "metadata": {},
   "source": [
    "<i class=\"fa fa-clock-o\" aria-hidden=\"true\"></i> Recordando:\n",
    "    \n",
    "pandas provee estructuras para el manejo de datos, Series, DataFrames y Panels.\n",
    "- Series: son arreglos de una dimensión.\n",
    "- DataFrames: son colecciones de series (2 dimensiones).\n",
    "- Panels: son colecciones de DataFrames (3 dimensiones).\n",
    "\n",
    "Si queremos saber el numeros de valores unicos de una variables lo podemos hacer de esta forma:"
   ]
  },
  {
   "cell_type": "code",
   "execution_count": 62,
   "metadata": {},
   "outputs": [
    {
     "data": {
      "text/plain": [
       "2"
      ]
     },
     "execution_count": 62,
     "metadata": {},
     "output_type": "execute_result"
    }
   ],
   "source": [
    "len(data[\"Sex\"].unique())"
   ]
  },
  {
   "cell_type": "markdown",
   "metadata": {},
   "source": [
    "para saber de que tipo es una variables utilizamos el métodod `type()` el cual nos regresa el tipo del objeto"
   ]
  },
  {
   "cell_type": "code",
   "execution_count": 63,
   "metadata": {},
   "outputs": [
    {
     "data": {
      "text/plain": [
       "pandas.core.frame.DataFrame"
      ]
     },
     "execution_count": 63,
     "metadata": {},
     "output_type": "execute_result"
    }
   ],
   "source": [
    "type(data)"
   ]
  },
  {
   "cell_type": "markdown",
   "metadata": {},
   "source": [
    "o de igual forma para saber de que tipo es una variable en específico"
   ]
  },
  {
   "cell_type": "code",
   "execution_count": 64,
   "metadata": {},
   "outputs": [
    {
     "data": {
      "text/plain": [
       "pandas.core.series.Series"
      ]
     },
     "execution_count": 64,
     "metadata": {},
     "output_type": "execute_result"
    }
   ],
   "source": [
    "type(data[\"Age\"])"
   ]
  },
  {
   "cell_type": "markdown",
   "metadata": {},
   "source": [
    "Saber el tipo de datos de cada variable"
   ]
  },
  {
   "cell_type": "code",
   "execution_count": 65,
   "metadata": {},
   "outputs": [
    {
     "data": {
      "text/plain": [
       "PassengerId      int64\n",
       "Survived         int64\n",
       "Pclass           int64\n",
       "Sex             object\n",
       "Age            float64\n",
       "SibSp            int64\n",
       "Parch            int64\n",
       "Ticket          object\n",
       "Fare           float64\n",
       "Cabin           object\n",
       "Embarked        object\n",
       "dtype: object"
      ]
     },
     "execution_count": 65,
     "metadata": {},
     "output_type": "execute_result"
    }
   ],
   "source": [
    "data.dtypes"
   ]
  },
  {
   "cell_type": "markdown",
   "metadata": {},
   "source": [
    "### Ejercicio 2\n",
    "Intentemos ahora hace un subset, trayendo los valores para los cuales la edad es mayor a 60 años"
   ]
  },
  {
   "cell_type": "code",
   "execution_count": 106,
   "metadata": {},
   "outputs": [],
   "source": [
    "# >> respuesta"
   ]
  },
  {
   "cell_type": "markdown",
   "metadata": {
    "colab_type": "text",
    "id": "XtYZ7114n3b-"
   },
   "source": [
    " ## Acceso a los datos\n",
    "\n",
    "Puedes acceder a los datos de `DataFrame` mediante las operaciones convencionales de dict/list de Python. Por ejemplo acceder a la columna 'longitud' y almacenarla en otra variable"
   ]
  },
  {
   "cell_type": "code",
   "execution_count": 73,
   "metadata": {
    "colab": {
     "autoexec": {
      "startup": false,
      "wait_interval": 0
     }
    },
    "colab_type": "code",
    "id": "_TFm7-looBFF"
   },
   "outputs": [],
   "source": [
    "col_1 = california_housing_dataframe['longitude']\n",
    "col_1 = col_1/1000\n"
   ]
  },
  {
   "cell_type": "markdown",
   "metadata": {},
   "source": [
    "Guardar la columna 'col_1' en un archivo llamado stuff.csv"
   ]
  },
  {
   "cell_type": "code",
   "execution_count": 74,
   "metadata": {},
   "outputs": [],
   "source": [
    "col_1.to_csv('stuff.csv', header=True, index=False)"
   ]
  },
  {
   "cell_type": "markdown",
   "metadata": {},
   "source": [
    "Para saber el nombre de las colunas lo hacemos así:"
   ]
  },
  {
   "cell_type": "code",
   "execution_count": 75,
   "metadata": {},
   "outputs": [
    {
     "name": "stdout",
     "output_type": "stream",
     "text": [
      "['longitude' 'latitude' 'housing_median_age' 'total_rooms'\n",
      " 'total_bedrooms' 'population' 'households' 'median_income'\n",
      " 'median_house_value']\n"
     ]
    }
   ],
   "source": [
    "\n",
    "print(california_housing_dataframe.columns.values)\n",
    "\n",
    "#'longitude' 'latitude' 'housing_median_age' 'total_rooms''total_bedrooms' 'population' 'households' 'median_income''median_house_value'"
   ]
  },
  {
   "cell_type": "markdown",
   "metadata": {},
   "source": [
    "Para extraer(aislarlas) varias columnas de dataframe se puede hacer de esta forma"
   ]
  },
  {
   "cell_type": "code",
   "execution_count": 76,
   "metadata": {},
   "outputs": [
    {
     "name": "stdout",
     "output_type": "stream",
     "text": [
      "                          longitude  latitude  housing_median_age  \\\n",
      "median_income population                                            \n",
      "1.4936        1015.0        -114.31     34.19                15.0   \n",
      "1.8200        1129.0        -114.47     34.40                19.0   \n",
      "1.6509        333.0         -114.56     33.69                17.0   \n",
      "3.1917        515.0         -114.57     33.64                14.0   \n",
      "1.9250        624.0         -114.57     33.57                20.0   \n",
      "3.3438        671.0         -114.58     33.63                29.0   \n",
      "2.6768        1841.0        -114.58     33.61                25.0   \n",
      "1.7083        375.0         -114.59     34.83                41.0   \n",
      "2.1782        3134.0        -114.59     33.61                34.0   \n",
      "2.1908        787.0         -114.60     34.83                46.0   \n",
      "2.6797        2434.0        -114.60     33.62                16.0   \n",
      "1.6250        1182.0        -114.60     33.60                21.0   \n",
      "2.1571        580.0         -114.61     34.84                48.0   \n",
      "3.2120        1346.0        -114.61     34.83                31.0   \n",
      "0.8585        949.0         -114.63     32.76                15.0   \n",
      "1.6991        1005.0        -114.65     34.89                17.0   \n",
      "2.9653        666.0         -114.65     33.60                28.0   \n",
      "0.8571        64.0          -114.65     32.79                21.0   \n",
      "1.2049        775.0         -114.66     32.74                17.0   \n",
      "1.2656        29.0          -114.67     33.92                17.0   \n",
      "1.6395        1135.0        -114.68     33.49                20.0   \n",
      "0.8964        227.0         -114.73     33.43                24.0   \n",
      "1.6250        119.0         -114.94     34.55                20.0   \n",
      "3.2097        137.0         -114.98     33.82                15.0   \n",
      "1.6250        3424.0        -115.22     33.54                18.0   \n",
      "3.6528        327.0         -115.32     32.82                34.0   \n",
      "3.5735        1130.0        -115.37     32.82                30.0   \n",
      "1.9375        867.0         -115.37     32.82                14.0   \n",
      "1.7604        623.0         -115.37     32.81                32.0   \n",
      "2.3594        866.0         -115.37     32.81                23.0   \n",
      "...                             ...       ...                 ...   \n",
      "1.5850        891.0         -124.17     40.80                52.0   \n",
      "1.8529        758.0         -124.17     40.80                52.0   \n",
      "1.9688        1169.0        -124.17     40.79                43.0   \n",
      "1.6369        731.0         -124.17     40.78                39.0   \n",
      "2.2227        990.0         -124.17     40.77                30.0   \n",
      "2.8056        992.0         -124.17     40.76                26.0   \n",
      "4.8516        951.0         -124.17     40.75                13.0   \n",
      "2.8958        706.0         -124.17     40.62                32.0   \n",
      "1.7450        883.0         -124.18     40.79                39.0   \n",
      "2.5536        867.0         -124.18     40.78                37.0   \n",
      "2.1607        950.0         -124.18     40.78                34.0   \n",
      "2.5096        656.0         -124.18     40.78                33.0   \n",
      "3.0536        480.0         -124.18     40.62                35.0   \n",
      "1.6654        1645.0        -124.19     41.78                15.0   \n",
      "1.8242        640.0         -124.19     40.78                37.0   \n",
      "2.4420        1367.0        -124.19     40.77                30.0   \n",
      "3.5363        2907.0        -124.19     40.73                21.0   \n",
      "2.5795        1947.0        -124.21     41.77                17.0   \n",
      "2.0074        1993.0        -124.21     41.75                20.0   \n",
      "1.6528        620.0         -124.21     40.75                32.0   \n",
      "1.7038        1530.0        -124.22     41.73                28.0   \n",
      "2.4805        1343.0        -124.23     41.75                11.0   \n",
      "3.3462        544.0         -124.23     40.81                52.0   \n",
      "3.0806        1152.0        -124.23     40.54                52.0   \n",
      "1.9417        434.0         -124.25     40.28                32.0   \n",
      "2.3571        907.0         -124.26     40.58                52.0   \n",
      "2.5179        1194.0        -124.27     40.69                36.0   \n",
      "3.0313        1244.0        -124.30     41.84                17.0   \n",
      "1.9797        1298.0        -124.30     41.80                19.0   \n",
      "3.0147        806.0         -124.35     40.54                52.0   \n",
      "\n",
      "                          total_rooms  total_bedrooms  households  \\\n",
      "median_income population                                            \n",
      "1.4936        1015.0           5612.0          1283.0       472.0   \n",
      "1.8200        1129.0           7650.0          1901.0       463.0   \n",
      "1.6509        333.0             720.0           174.0       117.0   \n",
      "3.1917        515.0            1501.0           337.0       226.0   \n",
      "1.9250        624.0            1454.0           326.0       262.0   \n",
      "3.3438        671.0            1387.0           236.0       239.0   \n",
      "2.6768        1841.0           2907.0           680.0       633.0   \n",
      "1.7083        375.0             812.0           168.0       158.0   \n",
      "2.1782        3134.0           4789.0          1175.0      1056.0   \n",
      "2.1908        787.0            1497.0           309.0       271.0   \n",
      "2.6797        2434.0           3741.0           801.0       824.0   \n",
      "1.6250        1182.0           1988.0           483.0       437.0   \n",
      "2.1571        580.0            1291.0           248.0       211.0   \n",
      "3.2120        1346.0           2478.0           464.0       479.0   \n",
      "0.8585        949.0            1448.0           378.0       300.0   \n",
      "1.6991        1005.0           2556.0           587.0       401.0   \n",
      "2.9653        666.0            1678.0           322.0       256.0   \n",
      "0.8571        64.0               44.0            33.0        27.0   \n",
      "1.2049        775.0            1388.0           386.0       320.0   \n",
      "1.2656        29.0               97.0            24.0        15.0   \n",
      "1.6395        1135.0           1491.0           360.0       303.0   \n",
      "0.8964        227.0             796.0           243.0       139.0   \n",
      "1.6250        119.0             350.0            95.0        58.0   \n",
      "3.2097        137.0             644.0           129.0        52.0   \n",
      "1.6250        3424.0           1706.0           397.0       283.0   \n",
      "3.6528        327.0             591.0           139.0        89.0   \n",
      "3.5735        1130.0           1602.0           322.0       335.0   \n",
      "1.9375        867.0            1276.0           270.0       261.0   \n",
      "1.7604        623.0             741.0           191.0       169.0   \n",
      "2.3594        866.0            1458.0           294.0       275.0   \n",
      "...                               ...             ...         ...   \n",
      "1.5850        891.0            1606.0           419.0       367.0   \n",
      "1.8529        758.0            1557.0           344.0       319.0   \n",
      "1.9688        1169.0           2285.0           479.0       482.0   \n",
      "1.6369        731.0            1606.0           330.0       327.0   \n",
      "2.2227        990.0            1895.0           366.0       359.0   \n",
      "2.8056        992.0            1776.0           361.0       380.0   \n",
      "4.8516        951.0            2171.0           339.0       353.0   \n",
      "2.8958        706.0            1595.0           309.0       277.0   \n",
      "1.7450        883.0            1836.0           352.0       337.0   \n",
      "2.5536        867.0            1453.0           293.0       310.0   \n",
      "2.1607        950.0            1592.0           364.0       317.0   \n",
      "2.5096        656.0            1076.0           222.0       236.0   \n",
      "3.0536        480.0             952.0           178.0       179.0   \n",
      "1.6654        1645.0           3140.0           714.0       640.0   \n",
      "1.8242        640.0            1371.0           319.0       260.0   \n",
      "2.4420        1367.0           2975.0           634.0       583.0   \n",
      "3.5363        2907.0           5694.0          1056.0       972.0   \n",
      "2.5795        1947.0           3461.0           722.0       647.0   \n",
      "2.0074        1993.0           3810.0           787.0       721.0   \n",
      "1.6528        620.0            1218.0           331.0       268.0   \n",
      "1.7038        1530.0           3003.0           699.0       653.0   \n",
      "2.4805        1343.0           3159.0           616.0       479.0   \n",
      "3.3462        544.0            1112.0           209.0       172.0   \n",
      "3.0806        1152.0           2694.0           453.0       435.0   \n",
      "1.9417        434.0            1430.0           419.0       187.0   \n",
      "2.3571        907.0            2217.0           394.0       369.0   \n",
      "2.5179        1194.0           2349.0           528.0       465.0   \n",
      "3.0313        1244.0           2677.0           531.0       456.0   \n",
      "1.9797        1298.0           2672.0           552.0       478.0   \n",
      "3.0147        806.0            1820.0           300.0       270.0   \n",
      "\n",
      "                          median_house_value  \n",
      "median_income population                      \n",
      "1.4936        1015.0                 66900.0  \n",
      "1.8200        1129.0                 80100.0  \n",
      "1.6509        333.0                  85700.0  \n",
      "3.1917        515.0                  73400.0  \n",
      "1.9250        624.0                  65500.0  \n",
      "3.3438        671.0                  74000.0  \n",
      "2.6768        1841.0                 82400.0  \n",
      "1.7083        375.0                  48500.0  \n",
      "2.1782        3134.0                 58400.0  \n",
      "2.1908        787.0                  48100.0  \n",
      "2.6797        2434.0                 86500.0  \n",
      "1.6250        1182.0                 62000.0  \n",
      "2.1571        580.0                  48600.0  \n",
      "3.2120        1346.0                 70400.0  \n",
      "0.8585        949.0                  45000.0  \n",
      "1.6991        1005.0                 69100.0  \n",
      "2.9653        666.0                  94900.0  \n",
      "0.8571        64.0                   25000.0  \n",
      "1.2049        775.0                  44000.0  \n",
      "1.2656        29.0                   27500.0  \n",
      "1.6395        1135.0                 44400.0  \n",
      "0.8964        227.0                  59200.0  \n",
      "1.6250        119.0                  50000.0  \n",
      "3.2097        137.0                  71300.0  \n",
      "1.6250        3424.0                 53500.0  \n",
      "3.6528        327.0                 100000.0  \n",
      "3.5735        1130.0                 71100.0  \n",
      "1.9375        867.0                  80900.0  \n",
      "1.7604        623.0                  68600.0  \n",
      "2.3594        866.0                  74300.0  \n",
      "...                                      ...  \n",
      "1.5850        891.0                  75500.0  \n",
      "1.8529        758.0                  62500.0  \n",
      "1.9688        1169.0                 70500.0  \n",
      "1.6369        731.0                  68300.0  \n",
      "2.2227        990.0                  81300.0  \n",
      "2.8056        992.0                  82800.0  \n",
      "4.8516        951.0                 116100.0  \n",
      "2.8958        706.0                  86400.0  \n",
      "1.7450        883.0                  70500.0  \n",
      "2.5536        867.0                  70200.0  \n",
      "2.1607        950.0                  67000.0  \n",
      "2.5096        656.0                  72200.0  \n",
      "3.0536        480.0                 107000.0  \n",
      "1.6654        1645.0                 74600.0  \n",
      "1.8242        640.0                  70000.0  \n",
      "2.4420        1367.0                 69000.0  \n",
      "3.5363        2907.0                 90100.0  \n",
      "2.5795        1947.0                 68400.0  \n",
      "2.0074        1993.0                 66900.0  \n",
      "1.6528        620.0                  58100.0  \n",
      "1.7038        1530.0                 78300.0  \n",
      "2.4805        1343.0                 73200.0  \n",
      "3.3462        544.0                  50800.0  \n",
      "3.0806        1152.0                106700.0  \n",
      "1.9417        434.0                  76100.0  \n",
      "2.3571        907.0                 111400.0  \n",
      "2.5179        1194.0                 79000.0  \n",
      "3.0313        1244.0                103600.0  \n",
      "1.9797        1298.0                 85800.0  \n",
      "3.0147        806.0                  94600.0  \n",
      "\n",
      "[17000 rows x 7 columns]\n"
     ]
    }
   ],
   "source": [
    "sub_set_california = california_housing_dataframe.set_index(['median_income', 'population'])\n",
    "print(sub_set_california)"
   ]
  },
  {
   "cell_type": "code",
   "execution_count": 77,
   "metadata": {},
   "outputs": [
    {
     "name": "stdout",
     "output_type": "stream",
     "text": [
      "       total_rooms  total_bedrooms\n",
      "0           5612.0          1283.0\n",
      "1           7650.0          1901.0\n",
      "2            720.0           174.0\n",
      "3           1501.0           337.0\n",
      "4           1454.0           326.0\n",
      "5           1387.0           236.0\n",
      "6           2907.0           680.0\n",
      "7            812.0           168.0\n",
      "8           4789.0          1175.0\n",
      "9           1497.0           309.0\n",
      "10          3741.0           801.0\n",
      "11          1988.0           483.0\n",
      "12          1291.0           248.0\n",
      "13          2478.0           464.0\n",
      "14          1448.0           378.0\n",
      "15          2556.0           587.0\n",
      "16          1678.0           322.0\n",
      "17            44.0            33.0\n",
      "18          1388.0           386.0\n",
      "19            97.0            24.0\n",
      "20          1491.0           360.0\n",
      "21           796.0           243.0\n",
      "22           350.0            95.0\n",
      "23           644.0           129.0\n",
      "24          1706.0           397.0\n",
      "25           591.0           139.0\n",
      "26          1602.0           322.0\n",
      "27          1276.0           270.0\n",
      "28           741.0           191.0\n",
      "29          1458.0           294.0\n",
      "...            ...             ...\n",
      "16970       1606.0           419.0\n",
      "16971       1557.0           344.0\n",
      "16972       2285.0           479.0\n",
      "16973       1606.0           330.0\n",
      "16974       1895.0           366.0\n",
      "16975       1776.0           361.0\n",
      "16976       2171.0           339.0\n",
      "16977       1595.0           309.0\n",
      "16978       1836.0           352.0\n",
      "16979       1453.0           293.0\n",
      "16980       1592.0           364.0\n",
      "16981       1076.0           222.0\n",
      "16982        952.0           178.0\n",
      "16983       3140.0           714.0\n",
      "16984       1371.0           319.0\n",
      "16985       2975.0           634.0\n",
      "16986       5694.0          1056.0\n",
      "16987       3461.0           722.0\n",
      "16988       3810.0           787.0\n",
      "16989       1218.0           331.0\n",
      "16990       3003.0           699.0\n",
      "16991       3159.0           616.0\n",
      "16992       1112.0           209.0\n",
      "16993       2694.0           453.0\n",
      "16994       1430.0           419.0\n",
      "16995       2217.0           394.0\n",
      "16996       2349.0           528.0\n",
      "16997       2677.0           531.0\n",
      "16998       2672.0           552.0\n",
      "16999       1820.0           300.0\n",
      "\n",
      "[17000 rows x 2 columns]\n"
     ]
    }
   ],
   "source": [
    "primeras_4 = california_housing_dataframe.iloc[:, 3:5 ]\n",
    "print(primeras_4)"
   ]
  },
  {
   "cell_type": "code",
   "execution_count": 78,
   "metadata": {},
   "outputs": [
    {
     "data": {
      "text/plain": [
       "0    34.19\n",
       "1    34.40\n",
       "2    33.69\n",
       "3    33.64\n",
       "4    33.57\n",
       "Name: latitude, dtype: float64"
      ]
     },
     "execution_count": 78,
     "metadata": {},
     "output_type": "execute_result"
    }
   ],
   "source": [
    "california_housing_dataframe.iloc[0:5, 1 ]"
   ]
  },
  {
   "cell_type": "code",
   "execution_count": 79,
   "metadata": {},
   "outputs": [
    {
     "data": {
      "text/html": [
       "<div>\n",
       "<style scoped>\n",
       "    .dataframe tbody tr th:only-of-type {\n",
       "        vertical-align: middle;\n",
       "    }\n",
       "\n",
       "    .dataframe tbody tr th {\n",
       "        vertical-align: top;\n",
       "    }\n",
       "\n",
       "    .dataframe thead th {\n",
       "        text-align: right;\n",
       "    }\n",
       "</style>\n",
       "<table border=\"1\" class=\"dataframe\">\n",
       "  <thead>\n",
       "    <tr style=\"text-align: right;\">\n",
       "      <th></th>\n",
       "      <th>latitude</th>\n",
       "      <th>housing_median_age</th>\n",
       "      <th>total_bedrooms</th>\n",
       "    </tr>\n",
       "  </thead>\n",
       "  <tbody>\n",
       "    <tr>\n",
       "      <th>0</th>\n",
       "      <td>34.19</td>\n",
       "      <td>15.0</td>\n",
       "      <td>1283.0</td>\n",
       "    </tr>\n",
       "    <tr>\n",
       "      <th>1</th>\n",
       "      <td>34.40</td>\n",
       "      <td>19.0</td>\n",
       "      <td>1901.0</td>\n",
       "    </tr>\n",
       "    <tr>\n",
       "      <th>2</th>\n",
       "      <td>33.69</td>\n",
       "      <td>17.0</td>\n",
       "      <td>174.0</td>\n",
       "    </tr>\n",
       "    <tr>\n",
       "      <th>3</th>\n",
       "      <td>33.64</td>\n",
       "      <td>14.0</td>\n",
       "      <td>337.0</td>\n",
       "    </tr>\n",
       "    <tr>\n",
       "      <th>4</th>\n",
       "      <td>33.57</td>\n",
       "      <td>20.0</td>\n",
       "      <td>326.0</td>\n",
       "    </tr>\n",
       "    <tr>\n",
       "      <th>5</th>\n",
       "      <td>33.63</td>\n",
       "      <td>29.0</td>\n",
       "      <td>236.0</td>\n",
       "    </tr>\n",
       "    <tr>\n",
       "      <th>6</th>\n",
       "      <td>33.61</td>\n",
       "      <td>25.0</td>\n",
       "      <td>680.0</td>\n",
       "    </tr>\n",
       "    <tr>\n",
       "      <th>7</th>\n",
       "      <td>34.83</td>\n",
       "      <td>41.0</td>\n",
       "      <td>168.0</td>\n",
       "    </tr>\n",
       "    <tr>\n",
       "      <th>8</th>\n",
       "      <td>33.61</td>\n",
       "      <td>34.0</td>\n",
       "      <td>1175.0</td>\n",
       "    </tr>\n",
       "    <tr>\n",
       "      <th>9</th>\n",
       "      <td>34.83</td>\n",
       "      <td>46.0</td>\n",
       "      <td>309.0</td>\n",
       "    </tr>\n",
       "    <tr>\n",
       "      <th>10</th>\n",
       "      <td>33.62</td>\n",
       "      <td>16.0</td>\n",
       "      <td>801.0</td>\n",
       "    </tr>\n",
       "    <tr>\n",
       "      <th>11</th>\n",
       "      <td>33.60</td>\n",
       "      <td>21.0</td>\n",
       "      <td>483.0</td>\n",
       "    </tr>\n",
       "    <tr>\n",
       "      <th>12</th>\n",
       "      <td>34.84</td>\n",
       "      <td>48.0</td>\n",
       "      <td>248.0</td>\n",
       "    </tr>\n",
       "    <tr>\n",
       "      <th>13</th>\n",
       "      <td>34.83</td>\n",
       "      <td>31.0</td>\n",
       "      <td>464.0</td>\n",
       "    </tr>\n",
       "    <tr>\n",
       "      <th>14</th>\n",
       "      <td>32.76</td>\n",
       "      <td>15.0</td>\n",
       "      <td>378.0</td>\n",
       "    </tr>\n",
       "    <tr>\n",
       "      <th>15</th>\n",
       "      <td>34.89</td>\n",
       "      <td>17.0</td>\n",
       "      <td>587.0</td>\n",
       "    </tr>\n",
       "    <tr>\n",
       "      <th>16</th>\n",
       "      <td>33.60</td>\n",
       "      <td>28.0</td>\n",
       "      <td>322.0</td>\n",
       "    </tr>\n",
       "    <tr>\n",
       "      <th>17</th>\n",
       "      <td>32.79</td>\n",
       "      <td>21.0</td>\n",
       "      <td>33.0</td>\n",
       "    </tr>\n",
       "    <tr>\n",
       "      <th>18</th>\n",
       "      <td>32.74</td>\n",
       "      <td>17.0</td>\n",
       "      <td>386.0</td>\n",
       "    </tr>\n",
       "    <tr>\n",
       "      <th>19</th>\n",
       "      <td>33.92</td>\n",
       "      <td>17.0</td>\n",
       "      <td>24.0</td>\n",
       "    </tr>\n",
       "    <tr>\n",
       "      <th>20</th>\n",
       "      <td>33.49</td>\n",
       "      <td>20.0</td>\n",
       "      <td>360.0</td>\n",
       "    </tr>\n",
       "    <tr>\n",
       "      <th>21</th>\n",
       "      <td>33.43</td>\n",
       "      <td>24.0</td>\n",
       "      <td>243.0</td>\n",
       "    </tr>\n",
       "    <tr>\n",
       "      <th>22</th>\n",
       "      <td>34.55</td>\n",
       "      <td>20.0</td>\n",
       "      <td>95.0</td>\n",
       "    </tr>\n",
       "    <tr>\n",
       "      <th>23</th>\n",
       "      <td>33.82</td>\n",
       "      <td>15.0</td>\n",
       "      <td>129.0</td>\n",
       "    </tr>\n",
       "    <tr>\n",
       "      <th>24</th>\n",
       "      <td>33.54</td>\n",
       "      <td>18.0</td>\n",
       "      <td>397.0</td>\n",
       "    </tr>\n",
       "    <tr>\n",
       "      <th>25</th>\n",
       "      <td>32.82</td>\n",
       "      <td>34.0</td>\n",
       "      <td>139.0</td>\n",
       "    </tr>\n",
       "    <tr>\n",
       "      <th>26</th>\n",
       "      <td>32.82</td>\n",
       "      <td>30.0</td>\n",
       "      <td>322.0</td>\n",
       "    </tr>\n",
       "    <tr>\n",
       "      <th>27</th>\n",
       "      <td>32.82</td>\n",
       "      <td>14.0</td>\n",
       "      <td>270.0</td>\n",
       "    </tr>\n",
       "    <tr>\n",
       "      <th>28</th>\n",
       "      <td>32.81</td>\n",
       "      <td>32.0</td>\n",
       "      <td>191.0</td>\n",
       "    </tr>\n",
       "    <tr>\n",
       "      <th>29</th>\n",
       "      <td>32.81</td>\n",
       "      <td>23.0</td>\n",
       "      <td>294.0</td>\n",
       "    </tr>\n",
       "    <tr>\n",
       "      <th>...</th>\n",
       "      <td>...</td>\n",
       "      <td>...</td>\n",
       "      <td>...</td>\n",
       "    </tr>\n",
       "    <tr>\n",
       "      <th>16970</th>\n",
       "      <td>40.80</td>\n",
       "      <td>52.0</td>\n",
       "      <td>419.0</td>\n",
       "    </tr>\n",
       "    <tr>\n",
       "      <th>16971</th>\n",
       "      <td>40.80</td>\n",
       "      <td>52.0</td>\n",
       "      <td>344.0</td>\n",
       "    </tr>\n",
       "    <tr>\n",
       "      <th>16972</th>\n",
       "      <td>40.79</td>\n",
       "      <td>43.0</td>\n",
       "      <td>479.0</td>\n",
       "    </tr>\n",
       "    <tr>\n",
       "      <th>16973</th>\n",
       "      <td>40.78</td>\n",
       "      <td>39.0</td>\n",
       "      <td>330.0</td>\n",
       "    </tr>\n",
       "    <tr>\n",
       "      <th>16974</th>\n",
       "      <td>40.77</td>\n",
       "      <td>30.0</td>\n",
       "      <td>366.0</td>\n",
       "    </tr>\n",
       "    <tr>\n",
       "      <th>16975</th>\n",
       "      <td>40.76</td>\n",
       "      <td>26.0</td>\n",
       "      <td>361.0</td>\n",
       "    </tr>\n",
       "    <tr>\n",
       "      <th>16976</th>\n",
       "      <td>40.75</td>\n",
       "      <td>13.0</td>\n",
       "      <td>339.0</td>\n",
       "    </tr>\n",
       "    <tr>\n",
       "      <th>16977</th>\n",
       "      <td>40.62</td>\n",
       "      <td>32.0</td>\n",
       "      <td>309.0</td>\n",
       "    </tr>\n",
       "    <tr>\n",
       "      <th>16978</th>\n",
       "      <td>40.79</td>\n",
       "      <td>39.0</td>\n",
       "      <td>352.0</td>\n",
       "    </tr>\n",
       "    <tr>\n",
       "      <th>16979</th>\n",
       "      <td>40.78</td>\n",
       "      <td>37.0</td>\n",
       "      <td>293.0</td>\n",
       "    </tr>\n",
       "    <tr>\n",
       "      <th>16980</th>\n",
       "      <td>40.78</td>\n",
       "      <td>34.0</td>\n",
       "      <td>364.0</td>\n",
       "    </tr>\n",
       "    <tr>\n",
       "      <th>16981</th>\n",
       "      <td>40.78</td>\n",
       "      <td>33.0</td>\n",
       "      <td>222.0</td>\n",
       "    </tr>\n",
       "    <tr>\n",
       "      <th>16982</th>\n",
       "      <td>40.62</td>\n",
       "      <td>35.0</td>\n",
       "      <td>178.0</td>\n",
       "    </tr>\n",
       "    <tr>\n",
       "      <th>16983</th>\n",
       "      <td>41.78</td>\n",
       "      <td>15.0</td>\n",
       "      <td>714.0</td>\n",
       "    </tr>\n",
       "    <tr>\n",
       "      <th>16984</th>\n",
       "      <td>40.78</td>\n",
       "      <td>37.0</td>\n",
       "      <td>319.0</td>\n",
       "    </tr>\n",
       "    <tr>\n",
       "      <th>16985</th>\n",
       "      <td>40.77</td>\n",
       "      <td>30.0</td>\n",
       "      <td>634.0</td>\n",
       "    </tr>\n",
       "    <tr>\n",
       "      <th>16986</th>\n",
       "      <td>40.73</td>\n",
       "      <td>21.0</td>\n",
       "      <td>1056.0</td>\n",
       "    </tr>\n",
       "    <tr>\n",
       "      <th>16987</th>\n",
       "      <td>41.77</td>\n",
       "      <td>17.0</td>\n",
       "      <td>722.0</td>\n",
       "    </tr>\n",
       "    <tr>\n",
       "      <th>16988</th>\n",
       "      <td>41.75</td>\n",
       "      <td>20.0</td>\n",
       "      <td>787.0</td>\n",
       "    </tr>\n",
       "    <tr>\n",
       "      <th>16989</th>\n",
       "      <td>40.75</td>\n",
       "      <td>32.0</td>\n",
       "      <td>331.0</td>\n",
       "    </tr>\n",
       "    <tr>\n",
       "      <th>16990</th>\n",
       "      <td>41.73</td>\n",
       "      <td>28.0</td>\n",
       "      <td>699.0</td>\n",
       "    </tr>\n",
       "    <tr>\n",
       "      <th>16991</th>\n",
       "      <td>41.75</td>\n",
       "      <td>11.0</td>\n",
       "      <td>616.0</td>\n",
       "    </tr>\n",
       "    <tr>\n",
       "      <th>16992</th>\n",
       "      <td>40.81</td>\n",
       "      <td>52.0</td>\n",
       "      <td>209.0</td>\n",
       "    </tr>\n",
       "    <tr>\n",
       "      <th>16993</th>\n",
       "      <td>40.54</td>\n",
       "      <td>52.0</td>\n",
       "      <td>453.0</td>\n",
       "    </tr>\n",
       "    <tr>\n",
       "      <th>16994</th>\n",
       "      <td>40.28</td>\n",
       "      <td>32.0</td>\n",
       "      <td>419.0</td>\n",
       "    </tr>\n",
       "    <tr>\n",
       "      <th>16995</th>\n",
       "      <td>40.58</td>\n",
       "      <td>52.0</td>\n",
       "      <td>394.0</td>\n",
       "    </tr>\n",
       "    <tr>\n",
       "      <th>16996</th>\n",
       "      <td>40.69</td>\n",
       "      <td>36.0</td>\n",
       "      <td>528.0</td>\n",
       "    </tr>\n",
       "    <tr>\n",
       "      <th>16997</th>\n",
       "      <td>41.84</td>\n",
       "      <td>17.0</td>\n",
       "      <td>531.0</td>\n",
       "    </tr>\n",
       "    <tr>\n",
       "      <th>16998</th>\n",
       "      <td>41.80</td>\n",
       "      <td>19.0</td>\n",
       "      <td>552.0</td>\n",
       "    </tr>\n",
       "    <tr>\n",
       "      <th>16999</th>\n",
       "      <td>40.54</td>\n",
       "      <td>52.0</td>\n",
       "      <td>300.0</td>\n",
       "    </tr>\n",
       "  </tbody>\n",
       "</table>\n",
       "<p>17000 rows × 3 columns</p>\n",
       "</div>"
      ],
      "text/plain": [
       "       latitude  housing_median_age  total_bedrooms\n",
       "0         34.19                15.0          1283.0\n",
       "1         34.40                19.0          1901.0\n",
       "2         33.69                17.0           174.0\n",
       "3         33.64                14.0           337.0\n",
       "4         33.57                20.0           326.0\n",
       "5         33.63                29.0           236.0\n",
       "6         33.61                25.0           680.0\n",
       "7         34.83                41.0           168.0\n",
       "8         33.61                34.0          1175.0\n",
       "9         34.83                46.0           309.0\n",
       "10        33.62                16.0           801.0\n",
       "11        33.60                21.0           483.0\n",
       "12        34.84                48.0           248.0\n",
       "13        34.83                31.0           464.0\n",
       "14        32.76                15.0           378.0\n",
       "15        34.89                17.0           587.0\n",
       "16        33.60                28.0           322.0\n",
       "17        32.79                21.0            33.0\n",
       "18        32.74                17.0           386.0\n",
       "19        33.92                17.0            24.0\n",
       "20        33.49                20.0           360.0\n",
       "21        33.43                24.0           243.0\n",
       "22        34.55                20.0            95.0\n",
       "23        33.82                15.0           129.0\n",
       "24        33.54                18.0           397.0\n",
       "25        32.82                34.0           139.0\n",
       "26        32.82                30.0           322.0\n",
       "27        32.82                14.0           270.0\n",
       "28        32.81                32.0           191.0\n",
       "29        32.81                23.0           294.0\n",
       "...         ...                 ...             ...\n",
       "16970     40.80                52.0           419.0\n",
       "16971     40.80                52.0           344.0\n",
       "16972     40.79                43.0           479.0\n",
       "16973     40.78                39.0           330.0\n",
       "16974     40.77                30.0           366.0\n",
       "16975     40.76                26.0           361.0\n",
       "16976     40.75                13.0           339.0\n",
       "16977     40.62                32.0           309.0\n",
       "16978     40.79                39.0           352.0\n",
       "16979     40.78                37.0           293.0\n",
       "16980     40.78                34.0           364.0\n",
       "16981     40.78                33.0           222.0\n",
       "16982     40.62                35.0           178.0\n",
       "16983     41.78                15.0           714.0\n",
       "16984     40.78                37.0           319.0\n",
       "16985     40.77                30.0           634.0\n",
       "16986     40.73                21.0          1056.0\n",
       "16987     41.77                17.0           722.0\n",
       "16988     41.75                20.0           787.0\n",
       "16989     40.75                32.0           331.0\n",
       "16990     41.73                28.0           699.0\n",
       "16991     41.75                11.0           616.0\n",
       "16992     40.81                52.0           209.0\n",
       "16993     40.54                52.0           453.0\n",
       "16994     40.28                32.0           419.0\n",
       "16995     40.58                52.0           394.0\n",
       "16996     40.69                36.0           528.0\n",
       "16997     41.84                17.0           531.0\n",
       "16998     41.80                19.0           552.0\n",
       "16999     40.54                52.0           300.0\n",
       "\n",
       "[17000 rows x 3 columns]"
      ]
     },
     "execution_count": 79,
     "metadata": {},
     "output_type": "execute_result"
    }
   ],
   "source": [
    "#las columnas 1,2 y 4\n",
    "l = [1 ,2, 4]\n",
    "california_housing_dataframe.iloc[:, l ]"
   ]
  },
  {
   "cell_type": "markdown",
   "metadata": {},
   "source": [
    "acceder a el primero elemento de la columna 'col_1', en python los índices de los vectores, series,matrices, etc\n",
    "inician en 0"
   ]
  },
  {
   "cell_type": "code",
   "execution_count": 80,
   "metadata": {
    "colab": {
     "autoexec": {
      "startup": false,
      "wait_interval": 0
     }
    },
    "colab_type": "code",
    "id": "V5L6xacLoxyv"
   },
   "outputs": [
    {
     "data": {
      "text/plain": [
       "-0.11431000000000001"
      ]
     },
     "execution_count": 80,
     "metadata": {},
     "output_type": "execute_result"
    }
   ],
   "source": [
    "col_1[0]"
   ]
  },
  {
   "cell_type": "markdown",
   "metadata": {},
   "source": [
    "forma equivalente de acceder al mismo valor desde el data frame original\n"
   ]
  },
  {
   "cell_type": "code",
   "execution_count": 81,
   "metadata": {},
   "outputs": [
    {
     "data": {
      "text/plain": [
       "-114.31"
      ]
     },
     "execution_count": 81,
     "metadata": {},
     "output_type": "execute_result"
    }
   ],
   "source": [
    "california_housing_dataframe['longitude'][0]"
   ]
  },
  {
   "cell_type": "markdown",
   "metadata": {},
   "source": [
    "acceder a los elemento [0],[1],[2]."
   ]
  },
  {
   "cell_type": "code",
   "execution_count": 82,
   "metadata": {
    "colab": {
     "autoexec": {
      "startup": false,
      "wait_interval": 0
     }
    },
    "colab_type": "code",
    "id": "gcYX1tBPugZl"
   },
   "outputs": [
    {
     "data": {
      "text/plain": [
       "0   -114.31\n",
       "1   -114.47\n",
       "2   -114.56\n",
       "Name: longitude, dtype: float64"
      ]
     },
     "execution_count": 82,
     "metadata": {},
     "output_type": "execute_result"
    }
   ],
   "source": [
    "\n",
    "california_housing_dataframe['longitude'][0:3]#, se detiene en el elemento tres [3] (no lo muestra)"
   ]
  },
  {
   "cell_type": "markdown",
   "metadata": {},
   "source": [
    "## Ejercicio n.º 1\n",
    "\n",
    "Reduce el dataset original a cuatros variables : 'housing_median_age' , 'total_rooms', 'households' y 'median_house_value'. (reducción de variables). Posteriormente reduce el dataset a 1000 ejemplos (reducción de ejemplos)"
   ]
  },
  {
   "cell_type": "code",
   "execution_count": 83,
   "metadata": {},
   "outputs": [],
   "source": [
    "#respuesta"
   ]
  },
  {
   "cell_type": "code",
   "execution_count": null,
   "metadata": {},
   "outputs": [],
   "source": []
  },
  {
   "cell_type": "markdown",
   "metadata": {
    "colab_type": "text",
    "id": "65g1ZdGVjXsQ"
   },
   "source": [
    " Además, *pandas* proporciona una API muy enriquecida para una [indexación y selección](http://pandas.pydata.org/pandas-docs/stable/indexing.html) avanzadas, que es un tema demasiado amplio como para cubrirlo aquí."
   ]
  },
  {
   "cell_type": "markdown",
   "metadata": {
    "colab_type": "text",
    "id": "RM1iaD-ka3Y1"
   },
   "source": [
    " ## Manipulación de datos\n",
    "\n",
    "Puedes aplicar operaciones aritméticas básicas de Python a las `Series`. Por ejemplo:"
   ]
  },
  {
   "cell_type": "code",
   "execution_count": 84,
   "metadata": {
    "colab": {
     "autoexec": {
      "startup": false,
      "wait_interval": 0
     }
    },
    "colab_type": "code",
    "id": "XWmyCFJ5bOv-"
   },
   "outputs": [],
   "source": [
    "# todos los datos de la columna se dividen entre 10 \n",
    "var = col_1 / 10."
   ]
  },
  {
   "cell_type": "markdown",
   "metadata": {
    "colab_type": "text",
    "id": "TQzIVnbnmWGM"
   },
   "source": [
    " [NumPy](http://www.numpy.org/) es un kit de herramientas popular para el cálculo científico. Las `Series` de *pandas* pueden usarse como argumentos para la mayoría de las funciones NumPy:"
   ]
  },
  {
   "cell_type": "code",
   "execution_count": 85,
   "metadata": {
    "colab": {
     "autoexec": {
      "startup": false,
      "wait_interval": 0
     }
    },
    "colab_type": "code",
    "id": "ko6pLK6JmkYP"
   },
   "outputs": [
    {
     "data": {
      "text/plain": [
       "0    10.867978\n",
       "1    13.831172\n",
       "2    13.092314\n",
       "dtype: float64"
      ]
     },
     "execution_count": 85,
     "metadata": {},
     "output_type": "execute_result"
    }
   ],
   "source": [
    "import numpy as np\n",
    "\n",
    "np.log(population)"
   ]
  },
  {
   "cell_type": "markdown",
   "metadata": {
    "colab_type": "text",
    "id": "xmxFuQmurr6d"
   },
   "source": [
    " Para obtener información sobre transformaciones más complejas de una sola columna, puedes usar `Series.apply`. Al igual que la función [función map](https://docs.python.org/2/library/functions.html#map) de Python, `Series.apply` acepta como argumento una función [función lambda](https://docs.python.org/2/tutorial/controlflow.html#lambda-expressions), que se aplica a cada valor.\n",
    "\n",
    "El siguiente ejemplo verifica para cada posición (entrada) de la serie si el valor almacenado en dicha posición es superior a un millón, la repuesta en lógica, por tal solo puede valer True o False"
   ]
  },
  {
   "cell_type": "code",
   "execution_count": 86,
   "metadata": {
    "colab": {
     "autoexec": {
      "startup": false,
      "wait_interval": 0
     }
    },
    "colab_type": "code",
    "id": "Fc1DvPAbstjI"
   },
   "outputs": [
    {
     "data": {
      "text/plain": [
       "0    False\n",
       "1     True\n",
       "2    False\n",
       "dtype: bool"
      ]
     },
     "execution_count": 86,
     "metadata": {},
     "output_type": "execute_result"
    }
   ],
   "source": [
    "population = pd.Series([52469, 1015785, 485199])\n",
    "population.apply(lambda val: val > 1000000)"
   ]
  },
  {
   "cell_type": "markdown",
   "metadata": {
    "colab_type": "text",
    "id": "ZeYYLoV9b9fB"
   },
   "source": [
    " \n",
    "Modificar `DataFrames` también es simple. Por ejemplo, el siguiente código agrega dos `Series` a un `DataFrame` existente. Ver el ejemplo de como crear un diccionario si tiene duda."
   ]
  },
  {
   "cell_type": "code",
   "execution_count": 116,
   "metadata": {},
   "outputs": [],
   "source": [
    "#se crea el dataframe cities\n",
    "cities = pd.DataFrame({ 'City name': city_names, 'Population': population })"
   ]
  },
  {
   "cell_type": "code",
   "execution_count": 117,
   "metadata": {
    "colab": {
     "autoexec": {
      "startup": false,
      "wait_interval": 0
     }
    },
    "colab_type": "code",
    "id": "0gCEX99Hb8LR"
   },
   "outputs": [],
   "source": [
    "#agregar dos columnas (Series)\n",
    "cities['Area square miles'] = pd.Series([46.87, 176.53, 97.92])\n",
    "cities['Population density'] = cities['Population'] / cities['Area square miles']"
   ]
  },
  {
   "cell_type": "code",
   "execution_count": 118,
   "metadata": {},
   "outputs": [
    {
     "name": "stdout",
     "output_type": "stream",
     "text": [
      "       City name  Population  Area square miles  Population density\n",
      "0  San Francisco       52469              46.87         1119.458076\n",
      "1       San Jose     1015785             176.53         5754.177760\n",
      "2     Sacramento      485199              97.92         4955.055147\n"
     ]
    }
   ],
   "source": [
    "print(cities)"
   ]
  },
  {
   "cell_type": "markdown",
   "metadata": {
    "colab_type": "text",
    "id": "6qh63m-ayb-c"
   },
   "source": [
    " ## Ejercicio n.º 3\n",
    "\n",
    "Modificar la tabla `cities`, agrega una nueva columna booleana en la cual todas las entradas sean falsas. Los valores que puede tomar una variable booleana son `True` o `False`"
   ]
  },
  {
   "cell_type": "code",
   "execution_count": 90,
   "metadata": {
    "colab": {
     "autoexec": {
      "startup": false,
      "wait_interval": 0
     }
    },
    "colab_type": "code",
    "id": "zCOn8ftSyddH"
   },
   "outputs": [],
   "source": [
    "# Your code here"
   ]
  },
  {
   "cell_type": "markdown",
   "metadata": {
    "colab_type": "text",
    "id": "f-xAOJeMiXFB"
   },
   "source": [
    " ## Índices\n",
    "Los objetos `Series` y `DataFrame` también definen una propiedad de `index` que asigna un identificador numérico a cada elemento de la matriz ( `DataFrame`) \n",
    "\n",
    "De forma predeterminada, *pandas* asigna valores a estos índice respetando el orden de los datos en el archivo de origen. Una vez creados, el valor de `index` no cambian cuando cambia el orden de los datos. La salida al invocar al método 'index' se interpreta de la siguiente forma: los índies incian en '0' , terminan en '3' (no toca el 3) y la numeración es de uno en uno (step)"
   ]
  },
  {
   "cell_type": "code",
   "execution_count": 108,
   "metadata": {
    "colab": {
     "autoexec": {
      "startup": false,
      "wait_interval": 0
     }
    },
    "colab_type": "code",
    "id": "2684gsWNinq9"
   },
   "outputs": [
    {
     "data": {
      "text/plain": [
       "RangeIndex(start=0, stop=3, step=1)"
      ]
     },
     "execution_count": 108,
     "metadata": {},
     "output_type": "execute_result"
    }
   ],
   "source": [
    "city_names.index"
   ]
  },
  {
   "cell_type": "code",
   "execution_count": 110,
   "metadata": {},
   "outputs": [
    {
     "data": {
      "text/plain": [
       "RangeIndex(start=0, stop=3, step=1)"
      ]
     },
     "execution_count": 110,
     "metadata": {},
     "output_type": "execute_result"
    }
   ],
   "source": [
    "cities.index"
   ]
  },
  {
   "cell_type": "code",
   "execution_count": 109,
   "metadata": {},
   "outputs": [
    {
     "data": {
      "text/plain": [
       "PassengerId           2\n",
       "Survived              1\n",
       "Pclass                1\n",
       "Sex              female\n",
       "Age                  38\n",
       "SibSp                 1\n",
       "Parch                 0\n",
       "Ticket         PC 17599\n",
       "Fare            71.2833\n",
       "Cabin               C85\n",
       "Embarked              C\n",
       "Name: 1, dtype: object"
      ]
     },
     "execution_count": 109,
     "metadata": {},
     "output_type": "execute_result"
    }
   ],
   "source": [
    "# Accediendo a una fila por índice\n",
    "data.iloc[1]"
   ]
  },
  {
   "cell_type": "markdown",
   "metadata": {},
   "source": [
    "podemos asignarle  etiquetas a las filas , para que no lleves indices númericos como: [1 2 3 ] y puedan llevar un nombre personalizado. Con el método `loc` podemos acceder a una fila por su nombre"
   ]
  },
  {
   "cell_type": "code",
   "execution_count": 125,
   "metadata": {},
   "outputs": [
    {
     "data": {
      "text/plain": [
       "2.3"
      ]
     },
     "execution_count": 125,
     "metadata": {},
     "output_type": "execute_result"
    }
   ],
   "source": [
    "# Accediendo a una fila por etiqueta\n",
    "serie = pd.Series([0.1, 1.2, 2.3, 3.4, 4.5], index = ['a','b','c','d','e'])\n",
    "serie.loc['c']"
   ]
  },
  {
   "cell_type": "markdown",
   "metadata": {
    "colab_type": "text",
    "id": "hp2oWY9Slo_h"
   },
   "source": [
    " Puedes invocar al método `DataFrame.reindex` para cambiar el orden de las filas de forma manual. Por ejemplo, la siguiente acción tiene el mismo efecto que ordenar alfabeticamente (mediante una función de python) los valores que almacenan las variables de la `Series` `cities`, los cuales hacen referencia a los nombre de una ciudad:"
   ]
  },
  {
   "cell_type": "code",
   "execution_count": 122,
   "metadata": {
    "colab": {
     "autoexec": {
      "startup": false,
      "wait_interval": 0
     }
    },
    "colab_type": "code",
    "id": "sN0zUzSAj-U1"
   },
   "outputs": [
    {
     "data": {
      "text/html": [
       "<div>\n",
       "<style scoped>\n",
       "    .dataframe tbody tr th:only-of-type {\n",
       "        vertical-align: middle;\n",
       "    }\n",
       "\n",
       "    .dataframe tbody tr th {\n",
       "        vertical-align: top;\n",
       "    }\n",
       "\n",
       "    .dataframe thead th {\n",
       "        text-align: right;\n",
       "    }\n",
       "</style>\n",
       "<table border=\"1\" class=\"dataframe\">\n",
       "  <thead>\n",
       "    <tr style=\"text-align: right;\">\n",
       "      <th></th>\n",
       "      <th>City name</th>\n",
       "      <th>Population</th>\n",
       "      <th>Area square miles</th>\n",
       "      <th>Population density</th>\n",
       "    </tr>\n",
       "  </thead>\n",
       "  <tbody>\n",
       "    <tr>\n",
       "      <th>2</th>\n",
       "      <td>Sacramento</td>\n",
       "      <td>485199</td>\n",
       "      <td>97.92</td>\n",
       "      <td>4955.055147</td>\n",
       "    </tr>\n",
       "    <tr>\n",
       "      <th>0</th>\n",
       "      <td>San Francisco</td>\n",
       "      <td>52469</td>\n",
       "      <td>46.87</td>\n",
       "      <td>1119.458076</td>\n",
       "    </tr>\n",
       "    <tr>\n",
       "      <th>1</th>\n",
       "      <td>San Jose</td>\n",
       "      <td>1015785</td>\n",
       "      <td>176.53</td>\n",
       "      <td>5754.177760</td>\n",
       "    </tr>\n",
       "  </tbody>\n",
       "</table>\n",
       "</div>"
      ],
      "text/plain": [
       "       City name  Population  Area square miles  Population density\n",
       "2     Sacramento      485199              97.92         4955.055147\n",
       "0  San Francisco       52469              46.87         1119.458076\n",
       "1       San Jose     1015785             176.53         5754.177760"
      ]
     },
     "execution_count": 122,
     "metadata": {},
     "output_type": "execute_result"
    }
   ],
   "source": [
    "cities.reindex([2, 0, 1])"
   ]
  },
  {
   "cell_type": "markdown",
   "metadata": {
    "colab_type": "text",
    "id": "-GQFz8NZuS06"
   },
   "source": [
    " La reindexación es una excelente manera de seleccionar un subconjunto de datos (sub matriz) de un `DataFrame` de forma aleatoria. En el ejemplo que se muestra a continuación, tomamos los índices de la matriz (0,1,2), y lo enviamos a la función `random.permutation` de NumPy, que regresa los mismo valores de forma aleatoria. Utilizar la `reindexación` provoca que las filas de `DataFrame` se seleccionen de forma aleatoria. Este proceso es necesario al entrenar el modelo. Posteriormente se vera el tema más a fondo.\n",
    "¡Prueba ejecutar la siguiente celda varias veces!"
   ]
  },
  {
   "cell_type": "code",
   "execution_count": 94,
   "metadata": {
    "colab": {
     "autoexec": {
      "startup": false,
      "wait_interval": 0
     }
    },
    "colab_type": "code",
    "id": "mF8GC0k8uYhz"
   },
   "outputs": [
    {
     "data": {
      "text/html": [
       "<div>\n",
       "<style scoped>\n",
       "    .dataframe tbody tr th:only-of-type {\n",
       "        vertical-align: middle;\n",
       "    }\n",
       "\n",
       "    .dataframe tbody tr th {\n",
       "        vertical-align: top;\n",
       "    }\n",
       "\n",
       "    .dataframe thead th {\n",
       "        text-align: right;\n",
       "    }\n",
       "</style>\n",
       "<table border=\"1\" class=\"dataframe\">\n",
       "  <thead>\n",
       "    <tr style=\"text-align: right;\">\n",
       "      <th></th>\n",
       "      <th>City name</th>\n",
       "      <th>Population</th>\n",
       "      <th>Area square miles</th>\n",
       "      <th>Population density</th>\n",
       "    </tr>\n",
       "  </thead>\n",
       "  <tbody>\n",
       "    <tr>\n",
       "      <th>0</th>\n",
       "      <td>San Francisco</td>\n",
       "      <td>52469</td>\n",
       "      <td>46.87</td>\n",
       "      <td>1119.458076</td>\n",
       "    </tr>\n",
       "    <tr>\n",
       "      <th>1</th>\n",
       "      <td>San Jose</td>\n",
       "      <td>1015785</td>\n",
       "      <td>176.53</td>\n",
       "      <td>5754.177760</td>\n",
       "    </tr>\n",
       "    <tr>\n",
       "      <th>2</th>\n",
       "      <td>Sacramento</td>\n",
       "      <td>485199</td>\n",
       "      <td>97.92</td>\n",
       "      <td>4955.055147</td>\n",
       "    </tr>\n",
       "  </tbody>\n",
       "</table>\n",
       "</div>"
      ],
      "text/plain": [
       "       City name  Population  Area square miles  Population density\n",
       "0  San Francisco       52469              46.87         1119.458076\n",
       "1       San Jose     1015785             176.53         5754.177760\n",
       "2     Sacramento      485199              97.92         4955.055147"
      ]
     },
     "execution_count": 94,
     "metadata": {},
     "output_type": "execute_result"
    }
   ],
   "source": [
    "cities.reindex(np.random.permutation(cities.index))"
   ]
  },
  {
   "cell_type": "markdown",
   "metadata": {},
   "source": [
    " Si la matriz de la entrada `reindex` incluye valores que no se encuentran en los valores de índice originales `DataFrame`, `reindex` agregará nuevas filas para esos índices \"faltantes\" y completará todas las columnas correspondientes con los valores `NaN`:"
   ]
  },
  {
   "cell_type": "code",
   "execution_count": 95,
   "metadata": {},
   "outputs": [
    {
     "data": {
      "text/html": [
       "<div>\n",
       "<style scoped>\n",
       "    .dataframe tbody tr th:only-of-type {\n",
       "        vertical-align: middle;\n",
       "    }\n",
       "\n",
       "    .dataframe tbody tr th {\n",
       "        vertical-align: top;\n",
       "    }\n",
       "\n",
       "    .dataframe thead th {\n",
       "        text-align: right;\n",
       "    }\n",
       "</style>\n",
       "<table border=\"1\" class=\"dataframe\">\n",
       "  <thead>\n",
       "    <tr style=\"text-align: right;\">\n",
       "      <th></th>\n",
       "      <th>City name</th>\n",
       "      <th>Population</th>\n",
       "      <th>Area square miles</th>\n",
       "      <th>Population density</th>\n",
       "    </tr>\n",
       "  </thead>\n",
       "  <tbody>\n",
       "    <tr>\n",
       "      <th>0</th>\n",
       "      <td>San Francisco</td>\n",
       "      <td>52469.0</td>\n",
       "      <td>46.87</td>\n",
       "      <td>1119.458076</td>\n",
       "    </tr>\n",
       "    <tr>\n",
       "      <th>4</th>\n",
       "      <td>NaN</td>\n",
       "      <td>NaN</td>\n",
       "      <td>NaN</td>\n",
       "      <td>NaN</td>\n",
       "    </tr>\n",
       "    <tr>\n",
       "      <th>5</th>\n",
       "      <td>NaN</td>\n",
       "      <td>NaN</td>\n",
       "      <td>NaN</td>\n",
       "      <td>NaN</td>\n",
       "    </tr>\n",
       "    <tr>\n",
       "      <th>2</th>\n",
       "      <td>Sacramento</td>\n",
       "      <td>485199.0</td>\n",
       "      <td>97.92</td>\n",
       "      <td>4955.055147</td>\n",
       "    </tr>\n",
       "  </tbody>\n",
       "</table>\n",
       "</div>"
      ],
      "text/plain": [
       "       City name  Population  Area square miles  Population density\n",
       "0  San Francisco     52469.0              46.87         1119.458076\n",
       "4            NaN         NaN                NaN                 NaN\n",
       "5            NaN         NaN                NaN                 NaN\n",
       "2     Sacramento    485199.0              97.92         4955.055147"
      ]
     },
     "execution_count": 95,
     "metadata": {},
     "output_type": "execute_result"
    }
   ],
   "source": [
    "cities.reindex([0, 4, 5, 2])"
   ]
  },
  {
   "cell_type": "markdown",
   "metadata": {},
   "source": [
    "Observe que el elemento asociado al índice '1' no aparece en la nueva matriz debido que su índice no se utiliza en el vector [0 ,4 ,5, 5].\n",
    "\n",
    "Se permitir  índices \"faltantes\" sin tener que preocuparte por sanear directamente las entradas.\n"
   ]
  },
  {
   "cell_type": "markdown",
   "metadata": {
    "colab_type": "text",
    "id": "8UngIdVhz8C0"
   },
   "source": [
    " ## Ejercicio n.º 4\n"
   ]
  },
  {
   "cell_type": "markdown",
   "metadata": {
    "colab": {
     "autoexec": {
      "startup": false,
      "wait_interval": 0
     }
    },
    "colab_type": "code",
    "id": "PN55GrDX0jzO"
   },
   "source": [
    "De la tabla `cities`,  extraer sólo la columna(`Serie`) llamada `Population`, asígnala a una variable llamada `serie_population`. Agregale siete valores más a dicha `Serie`, esto es, que ahora contenga 10 valores.\n",
    "\n",
    "Posteriomente aplicales un `reindex`."
   ]
  },
  {
   "cell_type": "code",
   "execution_count": 96,
   "metadata": {
    "colab_type": "text",
    "id": "TJffr5_Jwqvd"
   },
   "outputs": [],
   "source": [
    "#respuesta"
   ]
  }
 ],
 "metadata": {
  "colab": {
   "collapsed_sections": [
    "JndnmDMp66FL",
    "YHIWvc9Ms-Ll",
    "TJffr5_Jwqvd"
   ],
   "default_view": {},
   "name": "intro_to_pandas.ipynb",
   "provenance": [],
   "version": "0.3.2",
   "views": {}
  },
  "kernelspec": {
   "display_name": "Python 3 (ipykernel)",
   "language": "python",
   "name": "python3"
  },
  "language_info": {
   "codemirror_mode": {
    "name": "ipython",
    "version": 3
   },
   "file_extension": ".py",
   "mimetype": "text/x-python",
   "name": "python",
   "nbconvert_exporter": "python",
   "pygments_lexer": "ipython3",
   "version": "3.10.13"
  }
 },
 "nbformat": 4,
 "nbformat_minor": 4
}
